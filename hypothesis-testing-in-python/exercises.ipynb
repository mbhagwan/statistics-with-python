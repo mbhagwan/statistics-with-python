{
 "cells": [
  {
   "cell_type": "markdown",
   "metadata": {},
   "source": [
    "# Hypothesis Testing in Python"
   ]
  },
  {
   "cell_type": "code",
   "execution_count": 2,
   "metadata": {},
   "outputs": [],
   "source": [
    "# Import packages\n",
    "import numpy as np\n",
    "import pandas as pd\n",
    "import matplotlib.pyplot as plt\n",
    "import seaborn as sns\n",
    "import pingouin  # provides different methods for hypothesis testing\n",
    "\n",
    "# change the default console output settings in NumPy and pandas to improve readability\n",
    "pd.options.display.max_columns = 20\n",
    "pd.options.display.max_rows = 20\n",
    "pd.options.display.max_colwidth = 80\n",
    "np.set_printoptions(precision=4, suppress=True)\n",
    "\n",
    "# Import datasets (pyarrow is required to work with the feather format)\n",
    "stack_overflow = pd.read_feather(\"datasets/stack_overflow.feather\")\n",
    "\n",
    "late_shipments = pd.read_feather(\"datasets/late_shipments.feather\")\n",
    "\n",
    "sample_dem_data = pd.read_feather(\"datasets/dem_votes_potus_12_16.feather\")"
   ]
  },
  {
   "cell_type": "markdown",
   "metadata": {},
   "source": [
    "## 1. Hypothesis Testing Fundamentals"
   ]
  },
  {
   "cell_type": "markdown",
   "metadata": {},
   "source": [
    "### Hypothesis Testing Fundamentals\n",
    "\n",
    "**Hypothesis testing** is a statistical method used to make decisions or inferences about a population based   \n",
    "on a sample. It helps to determine whether the observed data provides enough evidence to reject a specific   \n",
    "assumption (the **null hypothesis**, $H_{0}$) in favor of an alternative hypothesis ($H_{1}$).\n",
    "\n",
    "### How Hypothesis Testing Works\n",
    "\n",
    "1. **Formulate Hypotheses**: Define the null hypothesis ($H_{0}$), which typically represents the default   \n",
    "assumption (e.g., no effect or no difference), and the alternative hypothesis ($H_{1}$), which represents   \n",
    "what you aim to prove.\n",
    "\n",
    "2. **Collect Data**: Gather data from a sample to test the hypotheses.\n",
    "\n",
    "3. **Select a Test Statistic**: Choose a test statistic (e.g., z-score) to quantify the difference between   \n",
    "the sample data and what the null hypothesis predicts.\n",
    "\n",
    "4. **Compute the P-value**: The **p-value** represents the probability of obtaining a result as extreme as   \n",
    "or more extreme than the observed data if the null hypothesis is true. A small p-value (typically < 0.05)   \n",
    "suggests evidence against $H_{0}$.\n",
    "\n",
    "5. **Make a Decision**: Compare the p-value to a pre-determined significance level ($\\alpha$).   \n",
    "If $p-value$ < $\\alpha$, reject $H_{0}$ in favor of $H_{1}$.\n",
    "\n",
    "6. **Conclusion**: Interpret the result in the context of the problem.\n",
    "\n",
    "### Common Concepts\n",
    "\n",
    "- **Z-scores**: Measure how far a data point is from the mean in terms of standard deviations.\n",
    "- **P-values**: Represent the probability of observing data at least as extreme as the sample,   \n",
    "assuming $H_{0}$ is true.\n",
    "- **Errors**: \n",
    "  - **False positive (Type I error)**: Rejecting $H_{0}$ when it is actually true.\n",
    "  - **False negative (Type II error)**: Failing to reject $H_{0}$ when $H_{1}$ is true.\n",
    "\n",
    "### Applications\n",
    "\n",
    "Hypothesis testing helps solve problems like determining whether a new treatment is effective, whether   \n",
    "a manufacturing process meets quality standards, or whether a coin is biased.\n",
    "\n",
    "In a **one-sample proportion test**, you could test whether the proportion of successes in a sample differs   \n",
    "from a known or hypothesized population proportion (e.g., determining if a new drug's success rate differs   \n",
    "from the standard rate).\n",
    "\n",
    "<small>_Source: OpenAI, ChatGPT_</small>"
   ]
  },
  {
   "cell_type": "markdown",
   "metadata": {},
   "source": [
    "### 1.1 Hypothesis tests and z-scores"
   ]
  },
  {
   "cell_type": "markdown",
   "metadata": {},
   "source": [
    "The `late_shipments` dataset contains supply chain data on the delivery of medical supplies. Each row   \n",
    "represents one delivery of a part. The `late` columns denotes whether or not the part was delivered late.   \n",
    "A value of `\"Yes\"` means that the part was delivered late, and a value of `\"No\"` means the part was delivered   \n",
    "on time."
   ]
  },
  {
   "cell_type": "code",
   "execution_count": 3,
   "metadata": {},
   "outputs": [
    {
     "data": {
      "text/html": [
       "<div>\n",
       "<style scoped>\n",
       "    .dataframe tbody tr th:only-of-type {\n",
       "        vertical-align: middle;\n",
       "    }\n",
       "\n",
       "    .dataframe tbody tr th {\n",
       "        vertical-align: top;\n",
       "    }\n",
       "\n",
       "    .dataframe thead th {\n",
       "        text-align: right;\n",
       "    }\n",
       "</style>\n",
       "<table border=\"1\" class=\"dataframe\">\n",
       "  <thead>\n",
       "    <tr style=\"text-align: right;\">\n",
       "      <th></th>\n",
       "      <th>id</th>\n",
       "      <th>country</th>\n",
       "      <th>managed_by</th>\n",
       "      <th>fulfill_via</th>\n",
       "      <th>vendor_inco_term</th>\n",
       "      <th>shipment_mode</th>\n",
       "      <th>late_delivery</th>\n",
       "      <th>late</th>\n",
       "      <th>product_group</th>\n",
       "      <th>sub_classification</th>\n",
       "      <th>...</th>\n",
       "      <th>line_item_quantity</th>\n",
       "      <th>line_item_value</th>\n",
       "      <th>pack_price</th>\n",
       "      <th>unit_price</th>\n",
       "      <th>manufacturing_site</th>\n",
       "      <th>first_line_designation</th>\n",
       "      <th>weight_kilograms</th>\n",
       "      <th>freight_cost_usd</th>\n",
       "      <th>freight_cost_groups</th>\n",
       "      <th>line_item_insurance_usd</th>\n",
       "    </tr>\n",
       "  </thead>\n",
       "  <tbody>\n",
       "    <tr>\n",
       "      <th>0</th>\n",
       "      <td>36203.0</td>\n",
       "      <td>Nigeria</td>\n",
       "      <td>PMO - US</td>\n",
       "      <td>Direct Drop</td>\n",
       "      <td>EXW</td>\n",
       "      <td>Air</td>\n",
       "      <td>1.0</td>\n",
       "      <td>Yes</td>\n",
       "      <td>HRDT</td>\n",
       "      <td>HIV test</td>\n",
       "      <td>...</td>\n",
       "      <td>2996.0</td>\n",
       "      <td>266644.00</td>\n",
       "      <td>89.00</td>\n",
       "      <td>0.89</td>\n",
       "      <td>Alere Medical Co., Ltd.</td>\n",
       "      <td>Yes</td>\n",
       "      <td>1426.0</td>\n",
       "      <td>33279.83</td>\n",
       "      <td>expensive</td>\n",
       "      <td>373.83</td>\n",
       "    </tr>\n",
       "    <tr>\n",
       "      <th>1</th>\n",
       "      <td>30998.0</td>\n",
       "      <td>Botswana</td>\n",
       "      <td>PMO - US</td>\n",
       "      <td>Direct Drop</td>\n",
       "      <td>EXW</td>\n",
       "      <td>Air</td>\n",
       "      <td>0.0</td>\n",
       "      <td>No</td>\n",
       "      <td>HRDT</td>\n",
       "      <td>HIV test</td>\n",
       "      <td>...</td>\n",
       "      <td>25.0</td>\n",
       "      <td>800.00</td>\n",
       "      <td>32.00</td>\n",
       "      <td>1.60</td>\n",
       "      <td>Trinity Biotech, Plc</td>\n",
       "      <td>Yes</td>\n",
       "      <td>10.0</td>\n",
       "      <td>559.89</td>\n",
       "      <td>reasonable</td>\n",
       "      <td>1.72</td>\n",
       "    </tr>\n",
       "    <tr>\n",
       "      <th>2</th>\n",
       "      <td>69871.0</td>\n",
       "      <td>Vietnam</td>\n",
       "      <td>PMO - US</td>\n",
       "      <td>Direct Drop</td>\n",
       "      <td>EXW</td>\n",
       "      <td>Air</td>\n",
       "      <td>0.0</td>\n",
       "      <td>No</td>\n",
       "      <td>ARV</td>\n",
       "      <td>Adult</td>\n",
       "      <td>...</td>\n",
       "      <td>22925.0</td>\n",
       "      <td>110040.00</td>\n",
       "      <td>4.80</td>\n",
       "      <td>0.08</td>\n",
       "      <td>Hetero Unit III Hyderabad IN</td>\n",
       "      <td>Yes</td>\n",
       "      <td>3723.0</td>\n",
       "      <td>19056.13</td>\n",
       "      <td>expensive</td>\n",
       "      <td>181.57</td>\n",
       "    </tr>\n",
       "    <tr>\n",
       "      <th>3</th>\n",
       "      <td>17648.0</td>\n",
       "      <td>South Africa</td>\n",
       "      <td>PMO - US</td>\n",
       "      <td>Direct Drop</td>\n",
       "      <td>DDP</td>\n",
       "      <td>Ocean</td>\n",
       "      <td>0.0</td>\n",
       "      <td>No</td>\n",
       "      <td>ARV</td>\n",
       "      <td>Adult</td>\n",
       "      <td>...</td>\n",
       "      <td>152535.0</td>\n",
       "      <td>361507.95</td>\n",
       "      <td>2.37</td>\n",
       "      <td>0.04</td>\n",
       "      <td>Aurobindo Unit III, India</td>\n",
       "      <td>Yes</td>\n",
       "      <td>7698.0</td>\n",
       "      <td>11372.23</td>\n",
       "      <td>expensive</td>\n",
       "      <td>779.41</td>\n",
       "    </tr>\n",
       "    <tr>\n",
       "      <th>4</th>\n",
       "      <td>5647.0</td>\n",
       "      <td>Uganda</td>\n",
       "      <td>PMO - US</td>\n",
       "      <td>Direct Drop</td>\n",
       "      <td>EXW</td>\n",
       "      <td>Air</td>\n",
       "      <td>0.0</td>\n",
       "      <td>No</td>\n",
       "      <td>HRDT</td>\n",
       "      <td>HIV test - Ancillary</td>\n",
       "      <td>...</td>\n",
       "      <td>850.0</td>\n",
       "      <td>8.50</td>\n",
       "      <td>0.01</td>\n",
       "      <td>0.00</td>\n",
       "      <td>Inverness Japan</td>\n",
       "      <td>Yes</td>\n",
       "      <td>56.0</td>\n",
       "      <td>360.00</td>\n",
       "      <td>reasonable</td>\n",
       "      <td>0.01</td>\n",
       "    </tr>\n",
       "  </tbody>\n",
       "</table>\n",
       "<p>5 rows × 27 columns</p>\n",
       "</div>"
      ],
      "text/plain": [
       "        id       country managed_by  fulfill_via vendor_inco_term  \\\n",
       "0  36203.0       Nigeria   PMO - US  Direct Drop              EXW   \n",
       "1  30998.0      Botswana   PMO - US  Direct Drop              EXW   \n",
       "2  69871.0       Vietnam   PMO - US  Direct Drop              EXW   \n",
       "3  17648.0  South Africa   PMO - US  Direct Drop              DDP   \n",
       "4   5647.0        Uganda   PMO - US  Direct Drop              EXW   \n",
       "\n",
       "  shipment_mode  late_delivery late product_group    sub_classification  ...  \\\n",
       "0           Air            1.0  Yes          HRDT              HIV test  ...   \n",
       "1           Air            0.0   No          HRDT              HIV test  ...   \n",
       "2           Air            0.0   No           ARV                 Adult  ...   \n",
       "3         Ocean            0.0   No           ARV                 Adult  ...   \n",
       "4           Air            0.0   No          HRDT  HIV test - Ancillary  ...   \n",
       "\n",
       "  line_item_quantity line_item_value pack_price unit_price  \\\n",
       "0             2996.0       266644.00      89.00       0.89   \n",
       "1               25.0          800.00      32.00       1.60   \n",
       "2            22925.0       110040.00       4.80       0.08   \n",
       "3           152535.0       361507.95       2.37       0.04   \n",
       "4              850.0            8.50       0.01       0.00   \n",
       "\n",
       "             manufacturing_site first_line_designation  weight_kilograms  \\\n",
       "0       Alere Medical Co., Ltd.                    Yes            1426.0   \n",
       "1          Trinity Biotech, Plc                    Yes              10.0   \n",
       "2  Hetero Unit III Hyderabad IN                    Yes            3723.0   \n",
       "3     Aurobindo Unit III, India                    Yes            7698.0   \n",
       "4               Inverness Japan                    Yes              56.0   \n",
       "\n",
       "   freight_cost_usd  freight_cost_groups  line_item_insurance_usd  \n",
       "0          33279.83            expensive                   373.83  \n",
       "1            559.89           reasonable                     1.72  \n",
       "2          19056.13            expensive                   181.57  \n",
       "3          11372.23            expensive                   779.41  \n",
       "4            360.00           reasonable                     0.01  \n",
       "\n",
       "[5 rows x 27 columns]"
      ]
     },
     "execution_count": 3,
     "metadata": {},
     "output_type": "execute_result"
    }
   ],
   "source": [
    "late_shipments.head()"
   ]
  },
  {
   "cell_type": "markdown",
   "metadata": {},
   "source": [
    "#### _Calculating the sample mean_"
   ]
  },
  {
   "cell_type": "code",
   "execution_count": 4,
   "metadata": {},
   "outputs": [
    {
     "name": "stdout",
     "output_type": "stream",
     "text": [
      "0.061\n"
     ]
    }
   ],
   "source": [
    "# Calculate the proportion of late shipments\n",
    "late_prop_samp = (late_shipments[\"late\"] == \"Yes\").mean()\n",
    "\n",
    "print(late_prop_samp)"
   ]
  },
  {
   "cell_type": "markdown",
   "metadata": {},
   "source": [
    "The proportion of late shipments in the sample is 6.1%."
   ]
  },
  {
   "cell_type": "markdown",
   "metadata": {},
   "source": [
    "#### _Calculating a z-score_"
   ]
  },
  {
   "cell_type": "markdown",
   "metadata": {},
   "source": [
    "\n",
    "Since variables have arbitrary ranges and units, we need to standardize them. For example, a hypothesis   \n",
    "\n",
    "test that gave different answers if the variables were in Euros instead of US dollars would be of little   \n",
    "\n",
    "value. Standardization avoids that. \n",
    "\n",
    "One standardized value of interest in a hypothesis test is called a z-score."
   ]
  },
  {
   "cell_type": "code",
   "execution_count": 5,
   "metadata": {},
   "outputs": [],
   "source": [
    "# Hypothesize that the proportion of late shipments is 6%\n",
    "late_prop_hyp = 0.06"
   ]
  },
  {
   "cell_type": "code",
   "execution_count": 6,
   "metadata": {},
   "outputs": [
    {
     "data": {
      "text/plain": [
       "[0.058, 0.064, 0.061, 0.045, 0.061]"
      ]
     },
     "execution_count": 6,
     "metadata": {},
     "output_type": "execute_result"
    }
   ],
   "source": [
    "# Create a bootstrap distribution of the proportion of late shipments, as a list\n",
    "late_shipments_bootstrap_dist = []\n",
    "\n",
    "for i in range(5000):\n",
    "    late_shipments_bootstrap_dist.append(\n",
    "        np.mean(\n",
    "            late_shipments.sample(frac=1, replace=True)[\"late\"] == \"Yes\"\n",
    "        )\n",
    "    )\n",
    "\n",
    "late_shipments_bootstrap_dist[0:5]"
   ]
  },
  {
   "cell_type": "code",
   "execution_count": 7,
   "metadata": {},
   "outputs": [],
   "source": [
    "# Calculate the standard error from the standard deviation of the bootstrap distribution\n",
    "std_error = np.std(late_shipments_bootstrap_dist, ddof=1)"
   ]
  },
  {
   "cell_type": "code",
   "execution_count": 8,
   "metadata": {},
   "outputs": [
    {
     "name": "stdout",
     "output_type": "stream",
     "text": [
      "0.13077914743852603\n"
     ]
    }
   ],
   "source": [
    "# Calculate the z-score of late_prop_samp\n",
    "z_score = (late_prop_samp - late_prop_hyp) / std_error \n",
    "\n",
    "print(z_score)"
   ]
  },
  {
   "cell_type": "markdown",
   "metadata": {},
   "source": [
    "The `z-score` is a standardized measure of the difference between   \n",
    "the sample statistic and the hypothesized statistic."
   ]
  },
  {
   "cell_type": "markdown",
   "metadata": {},
   "source": [
    "### 1.2 p-values"
   ]
  },
  {
   "cell_type": "markdown",
   "metadata": {},
   "source": [
    "#### _Left-tail, right tail, two tails_"
   ]
  },
  {
   "cell_type": "markdown",
   "metadata": {},
   "source": [
    "Hypothesis tests are used to determine whether the sample statistic lies in the tails of the null   \n",
    "distribution. However, the way that the alternative hypothesis is phrased affects which tail(s) we are   \n",
    "interested in."
   ]
  },
  {
   "cell_type": "markdown",
   "metadata": {},
   "source": [
    "| **Two tails**                                                                                                   | **Left tail**                                                                                               | **Right tail**                                                 |\n",
    "|-----------------------------------------------------------------------------------------------------------------|-------------------------------------------------------------------------------------------------------------|----------------------------------------------------------------|\n",
    "| Is there a difference beween the <br>voting preferences of 40-year-olds<br>and 80-year-olds?                    | Are grapes lower in popularity than<br>raisins on average?                                                  | Do hamburgers have more calories<br>than hot dogs, on average? |\n",
    "| Should we expect Slack and Zoom <br>to have dissimilar mean numbers of <br>employees over the last three years? | Is there evidence to conclude that <br>Belgian workers tend to have lower<br>salaries than Italian workers? | Do cats tend to live longer than<br>dogs?                      |"
   ]
  },
  {
   "cell_type": "markdown",
   "metadata": {},
   "source": [
    "The tails of the distribution that are relevant depend on whether the alternative hypothesis refers to  \n",
    "\"greater than\", \"less than\", or \"differences between.\""
   ]
  },
  {
   "cell_type": "markdown",
   "metadata": {},
   "source": [
    "#### _Calculating p-values_"
   ]
  },
  {
   "cell_type": "markdown",
   "metadata": {},
   "source": [
    "In order to determine whether to choose the null hypothesis, or the alternative hypothesis, calculate a  \n",
    "p-value from the z-score.\n",
    "\n",
    "The null hypothesis, $H_{0}$, is that the proportion of late shipments is six percent.\n",
    "\n",
    "The alternative hypothesis, $H_{1}$, is that the proportion of late shipments is  \n",
    "`greater than` six percent."
   ]
  },
  {
   "cell_type": "markdown",
   "metadata": {},
   "source": [
    "**Question**  \n",
    "What type of test should be used for this alternative hypothesis?"
   ]
  },
  {
   "cell_type": "markdown",
   "metadata": {},
   "source": [
    "**Answer**  \n",
    "Right-tailed"
   ]
  },
  {
   "cell_type": "markdown",
   "metadata": {},
   "source": [
    "The p-value is calculated by transforming the z-score   \n",
    "with the standard normal cumulative distribution function."
   ]
  },
  {
   "cell_type": "code",
   "execution_count": 9,
   "metadata": {},
   "outputs": [
    {
     "name": "stdout",
     "output_type": "stream",
     "text": [
      "0.4479750096183722\n"
     ]
    }
   ],
   "source": [
    "# Calculate the z-score of late_prop_samp\n",
    "z_score = (late_prop_samp - late_prop_hyp) / std_error\n",
    "\n",
    "# Calculate the p-value\n",
    "from scipy.stats import norm\n",
    "\n",
    "p_value = 1 - norm.cdf(z_score, loc=0, scale=1)\n",
    "\n",
    "print(p_value)"
   ]
  },
  {
   "cell_type": "markdown",
   "metadata": {},
   "source": [
    "### 1.3 Statistical significance"
   ]
  },
  {
   "cell_type": "markdown",
   "metadata": {},
   "source": [
    "#### _Decisions from p-values_"
   ]
  },
  {
   "cell_type": "markdown",
   "metadata": {},
   "source": [
    "The p-value, $p$, is a measure of the amount of evidence to reject the null hypothesis or not.  \n",
    "\n",
    "A decision about which hypothesis to support, can be made by comparing the p-value to the  \n",
    "significance level, $\\alpha$."
   ]
  },
  {
   "cell_type": "markdown",
   "metadata": {},
   "source": [
    "**Question**  \n",
    "What is the correct conclusion from the decision rule for a significance level, $\\alpha$?"
   ]
  },
  {
   "cell_type": "markdown",
   "metadata": {},
   "source": [
    "**Answer**  \n",
    "If $p \\le \\alpha$, reject $H_{0}$"
   ]
  },
  {
   "cell_type": "markdown",
   "metadata": {},
   "source": [
    "#### _Calculating a confidence interval_"
   ]
  },
  {
   "cell_type": "markdown",
   "metadata": {},
   "source": [
    "A confidence interval provides a range of values, within which the true population parameter is likely to  \n",
    "fall. Instead of giving a single estimate, it accounts for sampling variability.  \n",
    "\n",
    "For example, if the hypothesized proportion of late shipments is 6%, the actual proportion in any sample  \n",
    "may differ slightly.  \n",
    "\n",
    "A **confidence interval** expresses this uncertainty by stating, \"We are 95% confident that the true  \n",
    "proportion of late shipments lies between A and B.\" The interval gives a more accurate representation than  \n",
    "a single point estimate."
   ]
  },
  {
   "cell_type": "code",
   "execution_count": 10,
   "metadata": {},
   "outputs": [
    {
     "name": "stdout",
     "output_type": "stream",
     "text": [
      "0.046 0.076\n"
     ]
    }
   ],
   "source": [
    "''' Calculate a 95% confidence interval from 'late_shipments_boot_distn' using the \n",
    "quantile method. '''\n",
    "\n",
    "lower = np.quantile(late_shipments_bootstrap_dist, 0.025)\n",
    "\n",
    "upper = np.quantile(late_shipments_bootstrap_dist, 0.975)\n",
    "\n",
    "print(lower, upper)"
   ]
  },
  {
   "cell_type": "markdown",
   "metadata": {},
   "source": [
    "**Question**  \n",
    "Does the confidence interval support the decision to keep the original assumption  \n",
    "that 6% is a reasonable estimate for the population value?"
   ]
  },
  {
   "cell_type": "markdown",
   "metadata": {},
   "source": [
    "**Answer**  \n",
    "Yes, since 0.06 is included in the 95% confidence interval and we failed to  \n",
    "reject $H_{0}$ due to a large p-value, the results are similar.\n",
    "\n",
    "In other words, when you have a confidence interval width equal to one minus  \n",
    "the significance level, if the hypothesized population parameter is within the  \n",
    "confidence interval, you should fail to reject the null hypothesis."
   ]
  },
  {
   "cell_type": "markdown",
   "metadata": {},
   "source": [
    "#### _Type I and type II errors_"
   ]
  },
  {
   "cell_type": "markdown",
   "metadata": {},
   "source": [
    "In hypothesis testing, there are two possible correct outcomes and two types of errors:\n",
    "\n",
    "- A **false positive** (Type I error) occurs when you reject the null hypothesis when it's actually true.\n",
    "\n",
    "- A **false negative** (Type II error) happens when you fail to reject the null hypothesis when it's  \n",
    "actually false."
   ]
  },
  {
   "cell_type": "markdown",
   "metadata": {},
   "source": [
    "## 2. Two-Sample and ANOVA Tests"
   ]
  },
  {
   "cell_type": "markdown",
   "metadata": {},
   "source": [
    "Statistical methods for comparing the means of different groups to determine  \n",
    "if they are significantly different from each other:\n",
    "\n",
    "1. **T-tests for Two Groups**: \n",
    "   - A t-test is used to compare the means of two groups to check if the difference between them is  \n",
    "   statistically significant. It helps determine whether any observed difference in sample means reflects  \n",
    "   a real difference in the population or is due to random chance. You’ll typically use either an independent  \n",
    "   t-test (for two separate groups) or a paired t-test (for related or matched samples).\n",
    "\n",
    "2. **ANOVA (Analysis of Variance) for More Than Two Groups**: \n",
    "   - When comparing means across more than two groups, using multiple t-tests increases the risk of a  \n",
    "   Type I error (false positive). ANOVA solves this by testing the overall variance among the group means  \n",
    "   in one test. If ANOVA finds significant differences, it indicates that at least one group mean is  \n",
    "   different, but it doesn’t specify which groups differ.\n",
    "\n",
    "3. **Pairwise t-tests After ANOVA**:\n",
    "   - If ANOVA shows significant differences, you can use pairwise t-tests (also called post-hoc tests) to  \n",
    "   compare the means of each pair of groups. This helps identify exactly which groups differ from each other,  \n",
    "   while controlling for the increased error risk due to multiple comparisons.\n",
    "\n",
    "These methods are essential in hypothesis testing when dealing with continuous data across different groups.\n",
    "\n",
    "<small>_Source: OpenAI, ChatGPT_</small>"
   ]
  },
  {
   "cell_type": "markdown",
   "metadata": {},
   "source": [
    "### 2.1 Performing t-tests"
   ]
  },
  {
   "cell_type": "markdown",
   "metadata": {},
   "source": [
    "#### _Hypothesis testing workflow_"
   ]
  },
  {
   "cell_type": "markdown",
   "metadata": {},
   "source": [
    "The hypothesis testing workflow for the one sample case where you compare a sample mean to a hypothesized  \n",
    "value, and the two sample case where you compare two sample means, share common steps as follows:"
   ]
  },
  {
   "cell_type": "markdown",
   "metadata": {},
   "source": [
    "* Identify population parameter that is hypothesized about\n",
    "* Specify the null and alternative hypotheses\n",
    "* Determine (standardized) test statistic and corresponding null distribution\n",
    "* Conduct hypothesis test in Python\n",
    "* Measure evidence against the null hypothesis and compare to significance level\n",
    "* Interpret the results in the context of the original problem"
   ]
  },
  {
   "cell_type": "markdown",
   "metadata": {},
   "source": [
    "#### _Two sample mean test statistic_"
   ]
  },
  {
   "cell_type": "markdown",
   "metadata": {},
   "source": [
    "The hypothesis test for determining if there is a difference between the means of two populations uses a  \n",
    "different type of test statistic, called \"t\", and it can be calculated from three values from each sample  \n",
    "using this equation."
   ]
  },
  {
   "cell_type": "markdown",
   "metadata": {},
   "source": [
    "$$\n",
    "t = \\frac{\\bar{X}_1 - \\bar{X}_2}{\\sqrt{\\frac{s_1^2}{n_1} + \\frac{s_2^2}{n_2}}}\n",
    "$$"
   ]
  },
  {
   "cell_type": "markdown",
   "metadata": {},
   "source": [
    "While trying to determine why some shipments are late, you may wonder if the weight of the shipments that  \n",
    "were on time is less than the weight of the shipments that were late. \n",
    "\n",
    "The `late_shipments` dataset has been split into a \"yes\" group, where `late == \"Yes\"` and a \"no\" group where  \n",
    "`late == \"No\"`. \n",
    "\n",
    "The weight of the shipment is given in the `weight_kilograms` variable."
   ]
  },
  {
   "cell_type": "code",
   "execution_count": 11,
   "metadata": {},
   "outputs": [
    {
     "name": "stdout",
     "output_type": "stream",
     "text": [
      "  late  weight_kilograms\n",
      "0   No       1897.791267\n",
      "1  Yes       2715.672131\n"
     ]
    }
   ],
   "source": [
    "# Calculate the sample means for the two groups\n",
    "xbar = late_shipments.groupby(\"late\", as_index=False)[\"weight_kilograms\"].mean()\n",
    "print(xbar)"
   ]
  },
  {
   "cell_type": "code",
   "execution_count": 12,
   "metadata": {},
   "outputs": [
    {
     "name": "stdout",
     "output_type": "stream",
     "text": [
      "1897.7912673056444 2715.6721311475408\n"
     ]
    }
   ],
   "source": [
    "xbar_no = xbar.iloc[0, 1]\n",
    "xbar_yes = xbar.iloc[1, 1]\n",
    "print(xbar_no, xbar_yes)"
   ]
  },
  {
   "cell_type": "code",
   "execution_count": 13,
   "metadata": {},
   "outputs": [
    {
     "name": "stdout",
     "output_type": "stream",
     "text": [
      "  late  weight_kilograms\n",
      "0   No       3154.039507\n",
      "1  Yes       2544.688211\n"
     ]
    }
   ],
   "source": [
    "# Calculate the sample standard deviations for the two groups\n",
    "s = late_shipments.groupby(\"late\", as_index=False)[\"weight_kilograms\"].std()\n",
    "print(s)"
   ]
  },
  {
   "cell_type": "code",
   "execution_count": 14,
   "metadata": {},
   "outputs": [
    {
     "name": "stdout",
     "output_type": "stream",
     "text": [
      "3154.0395070841687 2544.688210903328\n"
     ]
    }
   ],
   "source": [
    "s_no = s.iloc[0, 1]\n",
    "s_yes = s.iloc[1, 1]\n",
    "print(s_no, s_yes)"
   ]
  },
  {
   "cell_type": "code",
   "execution_count": 15,
   "metadata": {},
   "outputs": [
    {
     "name": "stdout",
     "output_type": "stream",
     "text": [
      "  late  weight_kilograms\n",
      "0   No               939\n",
      "1  Yes                61\n"
     ]
    }
   ],
   "source": [
    "# Calculate the sample sizes of the two groups\n",
    "n = late_shipments.groupby(\"late\", as_index=False)[\"weight_kilograms\"].count()\n",
    "print(n)"
   ]
  },
  {
   "cell_type": "code",
   "execution_count": 16,
   "metadata": {},
   "outputs": [
    {
     "name": "stdout",
     "output_type": "stream",
     "text": [
      "939 61\n"
     ]
    }
   ],
   "source": [
    "n_no = n.iloc[0, 1]\n",
    "n_yes = n.iloc[1, 1]\n",
    "print(n_no, n_yes)"
   ]
  },
  {
   "cell_type": "code",
   "execution_count": 17,
   "metadata": {},
   "outputs": [
    {
     "name": "stdout",
     "output_type": "stream",
     "text": [
      "-2.3936661778766433\n"
     ]
    }
   ],
   "source": [
    "# Calculate the numerator of the test statistic\n",
    "numerator = xbar_no - xbar_yes\n",
    "\n",
    "# Calculate the denominator of the test statistic\n",
    "denominator = np.sqrt(s_no**2/n_no + s_yes**2/n_yes)\n",
    "\n",
    "# Calculate the test statistic\n",
    "t_stat = numerator / denominator\n",
    "\n",
    "print(t_stat)"
   ]
  },
  {
   "cell_type": "markdown",
   "metadata": {},
   "source": [
    "### 2.2 Calculating p-values from t-statistics"
   ]
  },
  {
   "cell_type": "markdown",
   "metadata": {},
   "source": [
    "#### _Why is t needed?_"
   ]
  },
  {
   "cell_type": "markdown",
   "metadata": {},
   "source": [
    "The process for calculating p-values is to start with the sample statistic, standardize it to get a test  \n",
    "statistic, then transform it via a cumulative distribution function. "
   ]
  },
  {
   "cell_type": "markdown",
   "metadata": {},
   "source": [
    "**Question**  \n",
    "\n",
    "In which hypothesis testing scenario is a t-distribution needed instead of the z-distribution?"
   ]
  },
  {
   "cell_type": "markdown",
   "metadata": {},
   "source": [
    "**Answer**\n",
    "\n",
    "When a sample standard deviation is used in estimating a standard error."
   ]
  },
  {
   "cell_type": "markdown",
   "metadata": {},
   "source": [
    "**Explanation**\n",
    "\n",
    "Using a sample standard deviation to estimate the standard error is computationally easier than using  \n",
    "bootstrapping. \n",
    "\n",
    "However, to correct for the approximation, you need to use a t-distribution when transforming  \n",
    "the test statistic to get the p-value."
   ]
  },
  {
   "cell_type": "markdown",
   "metadata": {},
   "source": [
    "#### _From t to p_"
   ]
  },
  {
   "cell_type": "markdown",
   "metadata": {},
   "source": [
    "Recall the hypotheses from the previous exercise:\n",
    "\n",
    "$H_{0}$: The mean weight of shipments that weren't late is the same as the mean weight of shipments that were late.\n",
    "\n",
    "$H_{A}$: The mean weight of shipments that weren't late is less than the mean weight of shipments that were late."
   ]
  },
  {
   "cell_type": "markdown",
   "metadata": {},
   "source": [
    "In order to make a decision, transform the test statistic, calculated previously, with a cumulative  \n",
    "distribution function to get a p-value. Use a significance level of `alpha = 0.05`."
   ]
  },
  {
   "cell_type": "markdown",
   "metadata": {},
   "source": [
    "**Question**\n",
    "\n",
    "What type of test does the alternative hypothesis indicate that we need?"
   ]
  },
  {
   "cell_type": "markdown",
   "metadata": {},
   "source": [
    "**Answer**\n",
    "\n",
    "Left-tailed"
   ]
  },
  {
   "cell_type": "code",
   "execution_count": 18,
   "metadata": {},
   "outputs": [
    {
     "name": "stdout",
     "output_type": "stream",
     "text": [
      "0.008432382146249523\n"
     ]
    }
   ],
   "source": [
    "# Calculate the degrees of freedom for the test\n",
    "degrees_of_freedom = n_no + n_yes - 2\n",
    "\n",
    "# Compute the p-value using the test statistic, t_stat\n",
    "from scipy.stats import t \n",
    "p_value = t.cdf(t_stat, df=degrees_of_freedom)\n",
    "\n",
    "print(p_value)"
   ]
  },
  {
   "cell_type": "markdown",
   "metadata": {},
   "source": [
    "Decision: reject the null hypothesis"
   ]
  },
  {
   "cell_type": "markdown",
   "metadata": {},
   "source": [
    "### 2.3 Paired t-tests"
   ]
  },
  {
   "cell_type": "markdown",
   "metadata": {},
   "source": [
    "#### _Is pairing needed?_"
   ]
  },
  {
   "cell_type": "markdown",
   "metadata": {},
   "source": [
    "t-tests are used to compare two sample means. However, the test involves different calculations  \n",
    "depending upon whether the two samples are paired or not. \n",
    "\n",
    "To make sure you use the correct version of the t-test, you need to be able to identify pairing,  \n",
    "as in the examples below."
   ]
  },
  {
   "cell_type": "markdown",
   "metadata": {},
   "source": [
    "| **Paired**                                                                                                                                         | **Not paired**                                                                                                                                           |\n",
    "|----------------------------------------------------------------------------------------------------------------------------------------------------|----------------------------------------------------------------------------------------------------------------------------------------------------------|\n",
    "| To test the effectiveness of a new elementary school <br>study technique, pre- and post-tests are given to the <br>same random sample of students. | To test the effectiveness of a new elementary school <br>study technique, pre- and post-tests are given to two <br>different random samples of students. |"
   ]
  },
  {
   "cell_type": "markdown",
   "metadata": {},
   "source": [
    "#### _Visualizing the difference_"
   ]
  },
  {
   "cell_type": "markdown",
   "metadata": {},
   "source": [
    "Before running hypothesis tests, it's a great idea to perform some exploratory data analysis; that is,  \n",
    "calculating summary statistics and visualizing distributions.\n",
    "\n",
    "Here, you'll look at the proportion of county-level votes for the Democratic candidate in 2012 and 2016,  \n",
    "`sample_dem_data`. Since the counties are the same in both years, these samples are paired. The columns  \n",
    "containing the samples are `dem_percent_12` and `dem_percent_16`."
   ]
  },
  {
   "cell_type": "code",
   "execution_count": 19,
   "metadata": {},
   "outputs": [
    {
     "name": "stdout",
     "output_type": "stream",
     "text": [
      "     state    county  dem_percent_12  dem_percent_16      diff\n",
      "0  Alabama   Bullock       76.305900       74.946921  1.358979\n",
      "1  Alabama   Chilton       19.453671       15.847352  3.606319\n",
      "2  Alabama      Clay       26.673672       18.674517  7.999155\n",
      "3  Alabama   Cullman       14.661752       10.028252  4.633500\n",
      "4  Alabama  Escambia       36.915731       31.020546  5.895185\n"
     ]
    }
   ],
   "source": [
    "''' Create a new diff column containing the percentage of votes for the democratic candidate in 2012  \n",
    "minus the percentage of votes for the democratic candidate in 2016. '''\n",
    "\n",
    "sample_dem_data[\"diff\"] = sample_dem_data[\"dem_percent_12\"] - sample_dem_data[\"dem_percent_16\"]\n",
    "\n",
    "print(sample_dem_data.head())"
   ]
  },
  {
   "cell_type": "code",
   "execution_count": 20,
   "metadata": {},
   "outputs": [
    {
     "name": "stdout",
     "output_type": "stream",
     "text": [
      "6.829312660106834\n"
     ]
    }
   ],
   "source": [
    "# Calculate the mean of the 'diff' column\n",
    "xbar_diff = sample_dem_data[\"diff\"].mean()\n",
    "\n",
    "print(xbar_diff)"
   ]
  },
  {
   "cell_type": "code",
   "execution_count": 21,
   "metadata": {},
   "outputs": [
    {
     "name": "stdout",
     "output_type": "stream",
     "text": [
      "5.040139140132316\n"
     ]
    }
   ],
   "source": [
    "# Calculate the standard deviation of the 'diff' column\n",
    "s_diff = sample_dem_data[\"diff\"].std()\n",
    "\n",
    "print(s_diff)"
   ]
  },
  {
   "cell_type": "code",
   "execution_count": 22,
   "metadata": {},
   "outputs": [
    {
     "data": {
      "image/png": "[encoded data removed]",
      "text/plain": [
       "<Figure size 640x480 with 1 Axes>"
      ]
     },
     "metadata": {},
     "output_type": "display_data"
    }
   ],
   "source": [
    "# Plot a histogram of the 'diff' column\n",
    "sample_dem_data[\"diff\"].hist(bins=20)\n",
    "\n",
    "plt.show()"
   ]
  },
  {
   "cell_type": "markdown",
   "metadata": {},
   "source": [
    "#### _Using ttest()_"
   ]
  },
  {
   "cell_type": "markdown",
   "metadata": {},
   "source": [
    "Manually calculating test statistics and transforming them with a CDF to get a p-value is a lot of effort to  \n",
    "compare two sample means. The comparison of two sample means is called a t-test, and the `pingouin` Python  \n",
    "package has a `.ttest()` method to accomplish it. This method provides some flexibility in how you perform  \n",
    "the test."
   ]
  },
  {
   "cell_type": "markdown",
   "metadata": {},
   "source": [
    "Explore the difference between the proportion of county-level votes for the Democratic candidate in 2012 and  \n",
    "2016 to identify if the difference is significant. \n",
    "\n",
    "The hypotheses are as follows:\n",
    "\n",
    "$H_{0}$: The proportion of democratic votes in 2012 and 2016 were the same.  \n",
    "$H_{A}$: The proportion of democratic votes in 2012 and 2016 were different."
   ]
  },
  {
   "cell_type": "code",
   "execution_count": 23,
   "metadata": {},
   "outputs": [
    {
     "name": "stdout",
     "output_type": "stream",
     "text": [
      "                T  dof alternative          p-val         CI95%   cohen-d  \\\n",
      "T-test  30.298384  499   two-sided  3.600634e-115  [6.39, 7.27]  1.354985   \n",
      "\n",
      "              BF10  power  \n",
      "T-test  2.246e+111    1.0  \n"
     ]
    }
   ],
   "source": [
    "''' Conduct a t-test on the sample differences (the 'diff' column of 'sample_dem_data') using an  \n",
    "appropriate alternative hypothesis. '''\n",
    "\n",
    "test_results = pingouin.ttest(\n",
    "    x=sample_dem_data[\"diff\"],\n",
    "    y=0,\n",
    "    alternative=\"two-sided\"\n",
    ")\n",
    "\n",
    "print(test_results)"
   ]
  },
  {
   "cell_type": "markdown",
   "metadata": {},
   "source": [
    "**Question**\n",
    "\n",
    "What is the correct decision from the t-test assuming $\\alpha$ = 0.01?"
   ]
  },
  {
   "cell_type": "markdown",
   "metadata": {},
   "source": [
    "**Answer**\n",
    "\n",
    "Reject the null hypothesis"
   ]
  },
  {
   "cell_type": "code",
   "execution_count": 24,
   "metadata": {},
   "outputs": [
    {
     "name": "stdout",
     "output_type": "stream",
     "text": [
      "                T  dof alternative          p-val         CI95%   cohen-d  \\\n",
      "T-test  30.298384  499   two-sided  3.600634e-115  [6.39, 7.27]  0.454202   \n",
      "\n",
      "              BF10  power  \n",
      "T-test  2.246e+111    1.0  \n"
     ]
    }
   ],
   "source": [
    "''' Conduct a paired test on the democratic votes in 2012 and 2016  \n",
    "using an appropriate alternative hypothesis. '''\n",
    "\n",
    "paired_test_results = pingouin.ttest(\n",
    "    x=sample_dem_data[\"dem_percent_12\"],\n",
    "    y=sample_dem_data[\"dem_percent_16\"],\n",
    "    paired=True,\n",
    "    alternative=\"two-sided\"\n",
    ")\n",
    "\n",
    "print(paired_test_results)"
   ]
  },
  {
   "cell_type": "markdown",
   "metadata": {},
   "source": [
    "**Question**\n",
    "\n",
    "Compare the paired t-test to an (inappropriate) unpaired test on the same data.  \n",
    "How does the p-value change?"
   ]
  },
  {
   "cell_type": "code",
   "execution_count": 25,
   "metadata": {},
   "outputs": [
    {
     "data": {
      "text/html": [
       "<div>\n",
       "<style scoped>\n",
       "    .dataframe tbody tr th:only-of-type {\n",
       "        vertical-align: middle;\n",
       "    }\n",
       "\n",
       "    .dataframe tbody tr th {\n",
       "        vertical-align: top;\n",
       "    }\n",
       "\n",
       "    .dataframe thead th {\n",
       "        text-align: right;\n",
       "    }\n",
       "</style>\n",
       "<table border=\"1\" class=\"dataframe\">\n",
       "  <thead>\n",
       "    <tr style=\"text-align: right;\">\n",
       "      <th></th>\n",
       "      <th>T</th>\n",
       "      <th>dof</th>\n",
       "      <th>alternative</th>\n",
       "      <th>p-val</th>\n",
       "      <th>CI95%</th>\n",
       "      <th>cohen-d</th>\n",
       "      <th>BF10</th>\n",
       "      <th>power</th>\n",
       "    </tr>\n",
       "  </thead>\n",
       "  <tbody>\n",
       "    <tr>\n",
       "      <th>T-test</th>\n",
       "      <td>7.181565</td>\n",
       "      <td>998</td>\n",
       "      <td>two-sided</td>\n",
       "      <td>1.345737e-12</td>\n",
       "      <td>[4.96, 8.7]</td>\n",
       "      <td>0.454202</td>\n",
       "      <td>4.308e+09</td>\n",
       "      <td>1.0</td>\n",
       "    </tr>\n",
       "  </tbody>\n",
       "</table>\n",
       "</div>"
      ],
      "text/plain": [
       "               T  dof alternative         p-val        CI95%   cohen-d  \\\n",
       "T-test  7.181565  998   two-sided  1.345737e-12  [4.96, 8.7]  0.454202   \n",
       "\n",
       "             BF10  power  \n",
       "T-test  4.308e+09    1.0  "
      ]
     },
     "execution_count": 25,
     "metadata": {},
     "output_type": "execute_result"
    }
   ],
   "source": [
    "pingouin.ttest(\n",
    "    x=sample_dem_data[\"dem_percent_12\"],\n",
    "    y=sample_dem_data[\"dem_percent_16\"],\n",
    "    alternative=\"two-sided\"\n",
    ")"
   ]
  },
  {
   "cell_type": "markdown",
   "metadata": {},
   "source": [
    "**Answer**\n",
    "\n",
    "The p-value from the unpaired test is greated than the p-value from the paired test."
   ]
  },
  {
   "cell_type": "markdown",
   "metadata": {},
   "source": [
    "**Explanation**\n",
    "\n",
    "When you have paired data, a paired t-test is preferable to the unpaired version  \n",
    "because it reduces the chance of a false negative error."
   ]
  },
  {
   "cell_type": "markdown",
   "metadata": {},
   "source": [
    "### 2.4 ANOVA tests"
   ]
  },
  {
   "cell_type": "markdown",
   "metadata": {},
   "source": [
    "#### _Visualizing many categories_"
   ]
  },
  {
   "cell_type": "markdown",
   "metadata": {},
   "source": [
    "Before conducting tests on many categories, it's often helpful to perform exploratory data analysis (EDA),  \n",
    "calculating summary statistics for each group and visualizing the distributions of the numeric variable for  \n",
    "each category using box plots."
   ]
  },
  {
   "cell_type": "markdown",
   "metadata": {},
   "source": [
    "Here, we'll return to the late shipments data, and how the price of each package (pack_price) varies  \n",
    "between the three shipment modes (shipment_mode): \"Air\", \"Air Charter\", and \"Ocean\"."
   ]
  },
  {
   "cell_type": "code",
   "execution_count": 26,
   "metadata": {},
   "outputs": [
    {
     "name": "stdout",
     "output_type": "stream",
     "text": [
      "shipment_mode\n",
      "Air            39.712395\n",
      "Air Charter     4.226667\n",
      "Ocean           6.432273\n",
      "Name: pack_price, dtype: float64\n"
     ]
    }
   ],
   "source": [
    "''' Group 'late_shipments' by 'shipment_mode' and calculate the mean  \n",
    "'pack_price' for each group. '''\n",
    "\n",
    "xbar_pack_by_mode = late_shipments.groupby(\"shipment_mode\")[\"pack_price\"].mean()\n",
    "\n",
    "print(xbar_pack_by_mode)"
   ]
  },
  {
   "cell_type": "code",
   "execution_count": 27,
   "metadata": {},
   "outputs": [
    {
     "name": "stdout",
     "output_type": "stream",
     "text": [
      "shipment_mode\n",
      "Air            48.932861\n",
      "Air Charter     0.992969\n",
      "Ocean           5.303047\n",
      "Name: pack_price, dtype: float64\n"
     ]
    }
   ],
   "source": [
    "''' Group 'late_shipments' by 'shipment_mode' and calculate the standard  \n",
    "deviation 'pack_price' for each group. '''\n",
    "\n",
    "s_pack_by_mode = late_shipments.groupby(\"shipment_mode\")[\"pack_price\"].std()\n",
    "\n",
    "print(s_pack_by_mode)"
   ]
  },
  {
   "cell_type": "code",
   "execution_count": 28,
   "metadata": {},
   "outputs": [
    {
     "data": {
      "image/png": "[encoded data removed]",
      "text/plain": [
       "<Figure size 640x480 with 1 Axes>"
      ]
     },
     "metadata": {},
     "output_type": "display_data"
    }
   ],
   "source": [
    "''' Create a boxplot from 'late_shipments' with 'pack_price' as 'x' and  \n",
    "'shipment_mode' as 'y'. '''\n",
    "\n",
    "sns.boxplot(\n",
    "    x=\"pack_price\",\n",
    "    y=\"shipment_mode\",\n",
    "    data=late_shipments\n",
    ")\n",
    "\n",
    "plt.show()"
   ]
  },
  {
   "cell_type": "markdown",
   "metadata": {},
   "source": [
    "#### _Conducting an ANOVA test_"
   ]
  },
  {
   "cell_type": "markdown",
   "metadata": {},
   "source": [
    "The box plots made it look like the distribution of pack price was different for each of the three shipment  \n",
    "modes. However, it didn't tell us whether the mean pack price was different in each category.  \n",
    "\n",
    "To determine that, we can use an ANOVA test. The null and alternative hypotheses can be written as follows.\n",
    "\n",
    "$H_{0}$: Pack prices for every category of shipment mode are the same.\n",
    "\n",
    "$H_{A}$: Pack prices for some categories of shipment mode are different.\n",
    "\n",
    "Use a significance level of 0.1."
   ]
  },
  {
   "cell_type": "code",
   "execution_count": 29,
   "metadata": {},
   "outputs": [
    {
     "name": "stdout",
     "output_type": "stream",
     "text": [
      "          Source  ddof1  ddof2        F         p-unc       np2\n",
      "0  shipment_mode      2    997  21.8646  5.089479e-10  0.042018\n"
     ]
    }
   ],
   "source": [
    "''' Run an ANOVA on 'late_shipments' investigating 'pack_price' (the \n",
    "dependent variable) between the groups of 'shipment_mode'. '''\n",
    "\n",
    "anova_results = pingouin.anova(\n",
    "    data=late_shipments,\n",
    "    dv=\"pack_price\",\n",
    "    between=\"shipment_mode\"\n",
    ")\n",
    "\n",
    "print(anova_results)"
   ]
  },
  {
   "cell_type": "markdown",
   "metadata": {},
   "source": [
    "**Question** \n",
    "\n",
    "Assuming a significance level of 0.1, should you reject the null hypothesis that  \n",
    "there is no difference in pack prices between shipment modes?"
   ]
  },
  {
   "cell_type": "markdown",
   "metadata": {},
   "source": [
    "**Answer**\n",
    "\n",
    "Yes. The p-value is less than or equal to the significance level, so the null   \n",
    "hypothesis should be rejected."
   ]
  },
  {
   "cell_type": "markdown",
   "metadata": {},
   "source": [
    "**Explanation**\n",
    "\n",
    "There is a significant difference in pack prices between the shipment  \n",
    "modes. However, we don't know which shipment modes this applies to."
   ]
  },
  {
   "cell_type": "markdown",
   "metadata": {},
   "source": [
    "#### _Pairwise t-tests_"
   ]
  },
  {
   "cell_type": "markdown",
   "metadata": {},
   "source": [
    "The ANOVA test didn't tell you which categories of shipment mode had significant differences in pack prices.  \n",
    "To pinpoint which categories had differences, you could instead use pairwise t-tests."
   ]
  },
  {
   "cell_type": "code",
   "execution_count": 30,
   "metadata": {},
   "outputs": [
    {
     "name": "stdout",
     "output_type": "stream",
     "text": [
      "        Contrast            A            B  Paired  Parametric          T  \\\n",
      "0  shipment_mode          Air  Air Charter   False        True  21.179625   \n",
      "1  shipment_mode          Air        Ocean   False        True  19.335760   \n",
      "2  shipment_mode  Air Charter        Ocean   False        True  -3.170654   \n",
      "\n",
      "          dof alternative         p-unc       BF10    hedges  \n",
      "0  600.685682   two-sided  8.748346e-75  5.809e+76  0.726592  \n",
      "1  986.979785   two-sided  6.934555e-71  1.129e+67  0.711119  \n",
      "2   35.615026   two-sided  3.123012e-03     15.277 -0.423775  \n"
     ]
    }
   ],
   "source": [
    "''' Perform pairwise t-tests on late_shipments's 'pack_price' variable, grouped by 'shipment_mode',   \n",
    "without doing any p-value adjustment. '''\n",
    "\n",
    "pairwise_results = pingouin.pairwise_tests(\n",
    "    data=late_shipments,\n",
    "    dv=\"pack_price\",\n",
    "    between=\"shipment_mode\"\n",
    ")\n",
    "\n",
    "print(pairwise_results)"
   ]
  },
  {
   "cell_type": "code",
   "execution_count": 31,
   "metadata": {},
   "outputs": [
    {
     "name": "stdout",
     "output_type": "stream",
     "text": [
      "        Contrast            A            B  Paired  Parametric          T  \\\n",
      "0  shipment_mode          Air  Air Charter   False        True  21.179625   \n",
      "1  shipment_mode          Air        Ocean   False        True  19.335760   \n",
      "2  shipment_mode  Air Charter        Ocean   False        True  -3.170654   \n",
      "\n",
      "          dof alternative         p-unc        p-corr p-adjust       BF10  \\\n",
      "0  600.685682   two-sided  8.748346e-75  2.624504e-74     bonf  5.809e+76   \n",
      "1  986.979785   two-sided  6.934555e-71  2.080367e-70     bonf  1.129e+67   \n",
      "2   35.615026   two-sided  3.123012e-03  9.369037e-03     bonf     15.277   \n",
      "\n",
      "     hedges  \n",
      "0  0.726592  \n",
      "1  0.711119  \n",
      "2 -0.423775  \n"
     ]
    }
   ],
   "source": [
    "''' Perform the pairwise t-tests again using the Bonferroni p-value adjustment. '''\n",
    "\n",
    "pairwise_bonf_results = pingouin.pairwise_tests(\n",
    "    data=late_shipments,\n",
    "    dv=\"pack_price\",\n",
    "    between=\"shipment_mode\",\n",
    "    padjust=\"bonf\"\n",
    ")\n",
    "\n",
    "print(pairwise_bonf_results)"
   ]
  },
  {
   "cell_type": "markdown",
   "metadata": {},
   "source": [
    "**Question**\n",
    "\n",
    "Using the Bonferroni correction results and assuming a significance level of 0.1, for which pairs of  \n",
    "shipment modes should you reject the null hypothesis that the pack prices are equal?"
   ]
  },
  {
   "cell_type": "markdown",
   "metadata": {},
   "source": [
    "**Answer**\n",
    "\n",
    "\"Ocean\" and \"Air Charter\"; \"Ocean\" and \"Air\"; \"Air Charter\" and \"Air\""
   ]
  },
  {
   "cell_type": "markdown",
   "metadata": {},
   "source": [
    "**Explanation**\n",
    "\n",
    "After applying the Bonferroni adjustment, the p-values for the   \n",
    "t-tests between each of the three groups are all less than 0.1 ."
   ]
  },
  {
   "cell_type": "markdown",
   "metadata": {},
   "source": [
    "## 3. Proportion Tests"
   ]
  },
  {
   "cell_type": "markdown",
   "metadata": {},
   "source": [
    "**Proportion Tests** are statistical tests used to determine whether there is a significant difference in  \n",
    "proportions between two or more groups. These tests compare the proportion of individuals with a particular  \n",
    "characteristic in one group to that of another.\n",
    "\n",
    "- **Two-Sample Proportion Test**: Compares proportions between two groups to see if they are significantly  \n",
    "different.\n",
    "  \n",
    "- **Chi-Square Test of Independence**: Extends the proportion test to more than two groups, testing whether  \n",
    "there is an association between two categorical variables across multiple groups.\n",
    "  \n",
    "- **Chi-Square Goodness of Fit Test**: Tests if the observed proportions in a sample match expected  \n",
    "proportions for a single categorical variable.\n",
    "\n",
    "These tests are used in various fields like medicine, marketing, and social sciences for categorical data  \n",
    "analysis.\n",
    "\n",
    "<small>_Source: OpenAI, ChatGPT_</small>"
   ]
  },
  {
   "cell_type": "markdown",
   "metadata": {},
   "source": [
    "### 3.1 One-sample proportion tests"
   ]
  },
  {
   "cell_type": "markdown",
   "metadata": {},
   "source": [
    "#### _t for proportions?_"
   ]
  },
  {
   "cell_type": "markdown",
   "metadata": {},
   "source": [
    "**Question**\n",
    "\n",
    "Do tests of proportion(s) use a $z$ or a $t$ test statistic and why?"
   ]
  },
  {
   "cell_type": "markdown",
   "metadata": {},
   "source": [
    "**Answer**\n",
    "\n",
    "$z$: The test statistic for proportion(s) has only one estimate  \n",
    "of a parameter instead of two"
   ]
  },
  {
   "cell_type": "markdown",
   "metadata": {},
   "source": [
    "#### _Test for single proportions_"
   ]
  },
  {
   "cell_type": "markdown",
   "metadata": {},
   "source": [
    "In Chapter 1, you calculated a p-value for a test hypothesizing   \n",
    "that the proportion of late shipments was greater than 6%.  \n",
    "\n",
    "In that chapter, you used a bootstrap distribution to estimate  \n",
    "the standard error of the statistic.  \n",
    "\n",
    "An alternative is to use an equation for the standard error based  \n",
    "on the sample proportion, hypothesized proportion, and sample size."
   ]
  },
  {
   "cell_type": "markdown",
   "metadata": {},
   "source": [
    "$$\n",
    "z = \\frac{\\hat{p} - p_0}{\\sqrt{\\frac{p_0 * (1 - p_0)}{n}}}\n",
    "$$"
   ]
  },
  {
   "cell_type": "code",
   "execution_count": 32,
   "metadata": {},
   "outputs": [
    {
     "name": "stdout",
     "output_type": "stream",
     "text": [
      "0.061 1000\n"
     ]
    }
   ],
   "source": [
    "# Hypothsize that the proportion of late shipments is 6%\n",
    "p_0 = 0.06\n",
    "\n",
    "# Calculate the sample proportion of shipments where late equals 'Yes' \n",
    "p_hat = (late_shipments[\"late\"] == \"Yes\").mean()\n",
    "\n",
    "# Calculate the number of observations in the sample\n",
    "n = len(late_shipments)\n",
    "\n",
    "print(p_hat, n)"
   ]
  },
  {
   "cell_type": "code",
   "execution_count": 33,
   "metadata": {},
   "outputs": [
    {
     "name": "stdout",
     "output_type": "stream",
     "text": [
      "0.13315591032282698\n"
     ]
    }
   ],
   "source": [
    "# Calculate the test statistic\n",
    "numerator = p_hat - p_0\n",
    "\n",
    "demominator = np.sqrt(p_0 * (1 - p_0) / n)\n",
    "\n",
    "z_score = numerator / demominator\n",
    "\n",
    "print(z_score)"
   ]
  },
  {
   "cell_type": "code",
   "execution_count": 34,
   "metadata": {},
   "outputs": [
    {
     "name": "stdout",
     "output_type": "stream",
     "text": [
      "0.44703503936503364\n"
     ]
    }
   ],
   "source": [
    "''' Calculate the p-value, remembering that this is a 'greater than' alternative \n",
    "hypothesis ''' \n",
    "\n",
    "p_value = 1 - norm.cdf(z_score)\n",
    "\n",
    "print(p_value)"
   ]
  },
  {
   "cell_type": "markdown",
   "metadata": {},
   "source": [
    "**Note:** While bootstrapping can be used to estimate the standard error of any statistic,  \n",
    "it is computationally intensive. For proportions, using a simple equation of the hypothesized  \n",
    "proportion and sample size is easier to compute."
   ]
  },
  {
   "cell_type": "markdown",
   "metadata": {},
   "source": [
    "### 3.2 Two-sample proportion tests"
   ]
  },
  {
   "cell_type": "markdown",
   "metadata": {},
   "source": [
    "#### _Test of two proportions_"
   ]
  },
  {
   "cell_type": "markdown",
   "metadata": {},
   "source": [
    "Does the amount paid for freight affects whether or not the shipment was late? \n",
    "\n",
    "In the `late_shipments` dataset, whether or not the shipment was late is stored in the `late` column.   \n",
    "Freight costs are stored in the `freight_cost_groups` column, and the categories are `\"expensive\"`  \n",
    "and `\"reasonable\"`.\n",
    "\n",
    "The hypotheses to test, with `\"late\"` corresponding to the proportion of late shipments for that group, are:"
   ]
  },
  {
   "cell_type": "markdown",
   "metadata": {},
   "source": [
    "$H_{0}: late_{expensive} - late_{reasonable} = 0$\n",
    "\n",
    "$H_{A}: late_{expensive} - late_{reasonable} > 0$"
   ]
  },
  {
   "cell_type": "code",
   "execution_count": 35,
   "metadata": {},
   "outputs": [
    {
     "name": "stdout",
     "output_type": "stream",
     "text": [
      "  freight_cost_groups late  proportion\n",
      "0           expensive   No    0.920904\n",
      "1           expensive  Yes    0.079096\n",
      "2          reasonable   No    0.964835\n",
      "3          reasonable  Yes    0.035165\n"
     ]
    }
   ],
   "source": [
    "''' Calculate the estimates of population proportions (sample proportions) for \n",
    "each 'freight_cost_group. '''\n",
    "\n",
    "p_hats = late_shipments.groupby(\"freight_cost_groups\", as_index=False)[\"late\"]\\\n",
    "    .value_counts(normalize=True)\n",
    "\n",
    "print(p_hats)"
   ]
  },
  {
   "cell_type": "code",
   "execution_count": 36,
   "metadata": {},
   "outputs": [
    {
     "name": "stdout",
     "output_type": "stream",
     "text": [
      "  freight_cost_groups  late\n",
      "0           expensive   531\n",
      "1          reasonable   455\n"
     ]
    }
   ],
   "source": [
    "''' Calculate the sample sizes for the groups. '''\n",
    "\n",
    "ns = late_shipments.groupby(\"freight_cost_groups\", as_index=False)[\"late\"].count()\n",
    "\n",
    "print(ns)"
   ]
  },
  {
   "cell_type": "markdown",
   "metadata": {},
   "source": [
    "Calculate the pooled sample proportion, $\\hat{p}$, from `p_hats` and `ns` using the equation:\n",
    "\n",
    "$$\n",
    "\\hat{p} = \\frac{n_{\\text{expensive}} \\times \\hat{p}_{\\text{expensive}} + n_{\\text{reasonable}} \\times \\hat{p}_{\\text{reasonable}}}{n_{\\text{expensive}} + n_{\\text{reasonable}}}\n",
    "$$\n"
   ]
  },
  {
   "cell_type": "code",
   "execution_count": 37,
   "metadata": {},
   "outputs": [
    {
     "name": "stdout",
     "output_type": "stream",
     "text": [
      "0.07909604519774012 0.035164835164835165\n",
      "531 455\n"
     ]
    }
   ],
   "source": [
    "# Assign values to variables used in the calculation\n",
    "p_expensive = p_hats.iloc[1, 2]\n",
    "\n",
    "p_reasonable = p_hats.iloc[3, 2]\n",
    "\n",
    "n_expensive = ns.iloc[0, 1]\n",
    "\n",
    "n_reasonable = ns.iloc[1, 1]\n",
    "\n",
    "print(p_expensive, p_reasonable)\n",
    "print(n_expensive, n_reasonable)"
   ]
  },
  {
   "cell_type": "code",
   "execution_count": 38,
   "metadata": {},
   "outputs": [
    {
     "name": "stdout",
     "output_type": "stream",
     "text": [
      "0.058823529411764705\n"
     ]
    }
   ],
   "source": [
    "# Calculate the pooled sample proportion\n",
    "p_hat = (n_expensive * p_expensive + n_reasonable * p_reasonable)\\\n",
    "    / (n_expensive + n_reasonable)\n",
    "\n",
    "print(p_hat)"
   ]
  },
  {
   "cell_type": "markdown",
   "metadata": {},
   "source": [
    "Calculate the standard error of the sample using the equation:\n",
    "\n",
    "$$\n",
    "\\text{SE}(\\hat{p}_{\\text{expensive}} - \\hat{p}_{\\text{reasonable}}) = \\sqrt{\\dfrac{\\hat{p} \\times (1 - \\hat{p})}{n_{\\text{expensive}}} + \\dfrac{\\hat{p} \\times (1 - \\hat{p})}{n_{\\text{reasonable}}}}\n",
    "$$"
   ]
  },
  {
   "cell_type": "code",
   "execution_count": 39,
   "metadata": {},
   "outputs": [
    {
     "name": "stdout",
     "output_type": "stream",
     "text": [
      "0.015031300895066685\n"
     ]
    }
   ],
   "source": [
    "# Calculate p_hat multiplied by (1 - p_hat)\n",
    "p_hat_times_not_p_hat = p_hat * (1 - p_hat)\n",
    "\n",
    "# Divide this by each of the sample sizes and then sum\n",
    "p_hat_times_not_p_hat_over_ns = (\n",
    "    p_hat_times_not_p_hat / n_expensive\n",
    "    + p_hat_times_not_p_hat / n_reasonable\n",
    ")\n",
    "\n",
    "# Calculate the standard error\n",
    "std_error = np.sqrt(p_hat_times_not_p_hat_over_ns)\n",
    "\n",
    "print(std_error)\n"
   ]
  },
  {
   "cell_type": "markdown",
   "metadata": {},
   "source": [
    "Calculate the $z-score$ using the following equation:\n",
    "\n",
    "$$\n",
    "z = \\frac{(\\hat{p}_{\\text{expensive}} - \\hat{p}_{\\text{reasonable}})}{\\text{SE}(\\hat{p}_{\\text{expensive}} - \\hat{p}_{\\text{reasonable}})}\n",
    "$$"
   ]
  },
  {
   "cell_type": "code",
   "execution_count": 40,
   "metadata": {},
   "outputs": [
    {
     "name": "stdout",
     "output_type": "stream",
     "text": [
      "2.922648567784529\n"
     ]
    }
   ],
   "source": [
    "# Calculate the z-score\n",
    "z_score = (p_expensive - p_reasonable) / std_error\n",
    "\n",
    "print(z_score)"
   ]
  },
  {
   "cell_type": "code",
   "execution_count": 41,
   "metadata": {},
   "outputs": [
    {
     "name": "stdout",
     "output_type": "stream",
     "text": [
      "0.0017353400023595311\n"
     ]
    }
   ],
   "source": [
    "# Calculate the p-value from the z-score\n",
    "p_value = 1 - norm.cdf(z_score)\n",
    "\n",
    "print(p_value)"
   ]
  },
  {
   "cell_type": "markdown",
   "metadata": {},
   "source": [
    "This small p-value leads us to suspect there is a larger proportion of late shipments for  \n",
    "expensive freight compared to reasonable freight."
   ]
  },
  {
   "cell_type": "markdown",
   "metadata": {},
   "source": [
    "#### _proportions_ztest() for two samples_"
   ]
  },
  {
   "cell_type": "markdown",
   "metadata": {},
   "source": [
    "Calculating the p-value manually takes a lot of effort, so while it's helpful to understand how the  \n",
    "calculations work, it's not practical for real-world analyses. For everyday use, it's easier to rely  \n",
    "on the `statsmodels` package."
   ]
  },
  {
   "cell_type": "code",
   "execution_count": 42,
   "metadata": {},
   "outputs": [],
   "source": [
    "# Import the statsmodels package\n",
    "from statsmodels.stats.proportion import proportions_ztest"
   ]
  },
  {
   "cell_type": "code",
   "execution_count": 43,
   "metadata": {},
   "outputs": [
    {
     "name": "stdout",
     "output_type": "stream",
     "text": [
      "freight_cost_groups  late\n",
      "expensive            No      489\n",
      "                     Yes      42\n",
      "reasonable           No      439\n",
      "                     Yes      16\n",
      "Name: count, dtype: int64\n"
     ]
    }
   ],
   "source": [
    "# Count the 'late' column values for each 'freight_cost_group' \n",
    "late_by_freight_cost_group = late_shipments.groupby(\"freight_cost_groups\")\\\n",
    "    [\"late\"].value_counts()\n",
    "\n",
    "print(late_by_freight_cost_group)"
   ]
  },
  {
   "cell_type": "code",
   "execution_count": 44,
   "metadata": {},
   "outputs": [
    {
     "name": "stdout",
     "output_type": "stream",
     "text": [
      "2.922648567784529 0.001735340002359578\n"
     ]
    }
   ],
   "source": [
    "# Create an array of the 'Yes' counts\n",
    "positive_counts = np.array([42, 16])\n",
    "\n",
    "''' Create an array of the total number of rows in\n",
    "each 'freight_cost_group' ''' \n",
    "n = np.array([489+42, 439+16])\n",
    "\n",
    "# Run a z-test on the two proportions\n",
    "stat, p_value = proportions_ztest(\n",
    "    count=positive_counts,\n",
    "    nobs=n,\n",
    "    alternative=\"larger\"\n",
    ")\n",
    "\n",
    "print(stat, p_value)"
   ]
  },
  {
   "cell_type": "markdown",
   "metadata": {},
   "source": [
    "The results are the same with less effort."
   ]
  },
  {
   "cell_type": "markdown",
   "metadata": {},
   "source": [
    "### 3.3 Chi-square test of independence"
   ]
  },
  {
   "cell_type": "markdown",
   "metadata": {},
   "source": [
    "#### _How many tails for chi-square tests?_"
   ]
  },
  {
   "cell_type": "markdown",
   "metadata": {},
   "source": [
    "Unlike `pingouin.ttest()` and `statsmodels.stats.proportion.proportions_ztest()`,  \n",
    "`pingouin.chi2_independence()` does not have an `alternative` argument to specify  \n",
    "which tails are considered by the alternative hypothesis.\n",
    "\n",
    "Which tail is almost always considered in chi-square tests?"
   ]
  },
  {
   "cell_type": "markdown",
   "metadata": {},
   "source": [
    "**Answer**\n",
    "\n",
    "Right-tailed"
   ]
  },
  {
   "cell_type": "markdown",
   "metadata": {},
   "source": [
    "**Explanation**\n",
    "\n",
    "The chi-square test statistic is a square number, so it is always  \n",
    "non-negative, so only the right tail tends to be of interest."
   ]
  },
  {
   "cell_type": "markdown",
   "metadata": {},
   "source": [
    "#### _Performing a chi-square test_"
   ]
  },
  {
   "cell_type": "markdown",
   "metadata": {},
   "source": [
    "The _chi-square independence test_ compares proportions of successes of one categorical variable across the  \n",
    "categories of another categorical variable.\n",
    "\n",
    "Trade deals often use a form of business shorthand in order to specify the exact details of their contract.  \n",
    "These are International Chamber of Commerce (ICC) international commercial terms, or incoterms for short.\n",
    "\n",
    "The late_shipments dataset includes a vendor_inco_term that describes the incoterms that applied to a given  \n",
    "shipment. The choices are:\n",
    "\n",
    "* `EXW`: \"Ex works\". The buyer pays for transportation of the goods.  \n",
    "* `CIP`: \"Carriage and insurance paid to\". The seller pays for freight  \n",
    "and insurance until the goods board a ship.  \n",
    "* `DDP`: \"Delivered duty paid\". The seller pays for transportation of   \n",
    "the goods until they reach a destination port.    \n",
    "* `FCA`: \"Free carrier\". The seller pays for transportation of the goods.  \n",
    "\n",
    "Perhaps the incoterms affect whether or not the freight costs are expensive.  \n",
    "Test these hypotheses with a significance level of 0.01.\n",
    "\n",
    "$H_{0}$: vendor_inco_term and freight_cost_group are independent.\n",
    "\n",
    "$H_{A}$: vendor_inco_term and freight_cost_group are associated."
   ]
  },
  {
   "cell_type": "code",
   "execution_count": 45,
   "metadata": {},
   "outputs": [
    {
     "name": "stdout",
     "output_type": "stream",
     "text": [
      "764\n"
     ]
    }
   ],
   "source": [
    "''' Prepare the 'late_shipments' dataset by dropping the only row with  \n",
    "the DDU incoterm. '''\n",
    "\n",
    "# Find the index number of the row to drop\n",
    "index_number = late_shipments[late_shipments[\"vendor_inco_term\"] == \"DDU\"].index[0]\n",
    "print(index_number)"
   ]
  },
  {
   "cell_type": "code",
   "execution_count": 46,
   "metadata": {},
   "outputs": [],
   "source": [
    "# Drop the row with the DDU incoterm\n",
    "late_shipments.drop(index_number, inplace=True)"
   ]
  },
  {
   "cell_type": "code",
   "execution_count": 47,
   "metadata": {},
   "outputs": [
    {
     "name": "stdout",
     "output_type": "stream",
     "text": [
      "vendor_inco_term  freight_cost_groups\n",
      "CIP               reasonable             0.680000\n",
      "                  expensive              0.320000\n",
      "DDP               expensive              0.550000\n",
      "                  reasonable             0.450000\n",
      "EXW               expensive              0.583448\n",
      "                  reasonable             0.416552\n",
      "FCA               reasonable             0.663636\n",
      "                  expensive              0.336364\n",
      "Name: proportion, dtype: float64\n"
     ]
    }
   ],
   "source": [
    "''' Calculate the proportion of 'freight_cost_groups' in 'late_shipments' \n",
    "grouped by 'vendor_inco_term'. '''\n",
    "\n",
    "props = late_shipments.groupby(\"vendor_inco_term\")[\"freight_cost_groups\"]\\\n",
    "    .value_counts(normalize=True)\n",
    "\n",
    "print(props)"
   ]
  },
  {
   "cell_type": "code",
   "execution_count": 48,
   "metadata": {},
   "outputs": [
    {
     "name": "stdout",
     "output_type": "stream",
     "text": [
      "freight_cost_groups  expensive  reasonable\n",
      "vendor_inco_term                          \n",
      "CIP                   0.320000    0.680000\n",
      "DDP                   0.550000    0.450000\n",
      "EXW                   0.583448    0.416552\n",
      "FCA                   0.336364    0.663636\n"
     ]
    }
   ],
   "source": [
    "# Convert props to a wide format\n",
    "wide_props = props.unstack()\n",
    "\n",
    "print(wide_props)"
   ]
  },
  {
   "cell_type": "code",
   "execution_count": 49,
   "metadata": {},
   "outputs": [
    {
     "data": {
      "image/png": "[encoded data removed]",
      "text/plain": [
       "<Figure size 640x480 with 1 Axes>"
      ]
     },
     "metadata": {},
     "output_type": "display_data"
    }
   ],
   "source": [
    "''' Create a proportional stacked bar plot with bars filled based on  \n",
    "'freight_cost_groups' across the levels of 'vendor_inco_term'. '''\n",
    "\n",
    "wide_props.plot(kind=\"bar\", stacked=True)\n",
    "plt.show()"
   ]
  },
  {
   "cell_type": "code",
   "execution_count": 50,
   "metadata": {},
   "outputs": [
    {
     "name": "stdout",
     "output_type": "stream",
     "text": [
      "      test  lambda     chi2  dof          pval    cramer     power\n",
      "0  pearson     1.0  33.6426  3.0  2.357026e-07  0.183511  0.999424\n"
     ]
    }
   ],
   "source": [
    "''' Perform a chi-square test of independence on 'freight_cost_groups' \n",
    "and 'vendor_inco_term'. '''\n",
    "\n",
    "expected, observed, stats = pingouin.chi2_independence(\n",
    "    data=late_shipments,\n",
    "    x=\"vendor_inco_term\",\n",
    "    y=\"freight_cost_groups\"\n",
    ")\n",
    "\n",
    "print(stats[stats[\"test\"] == \"pearson\"])"
   ]
  },
  {
   "cell_type": "markdown",
   "metadata": {},
   "source": [
    "**Question**\n",
    "\n",
    "What should you conclude from the hypothesis test?"
   ]
  },
  {
   "cell_type": "markdown",
   "metadata": {},
   "source": [
    "**Answer**\n",
    "\n",
    "Reject the null hypothesis and conclude that 'vendor_inco_term' and  \n",
    "'freight_cost_groups' are associated."
   ]
  },
  {
   "cell_type": "markdown",
   "metadata": {},
   "source": [
    "### 3.4 Chi-square goodness of fit tests"
   ]
  },
  {
   "cell_type": "markdown",
   "metadata": {},
   "source": [
    "#### _Visualizing goodness of fit_"
   ]
  },
  {
   "cell_type": "markdown",
   "metadata": {},
   "source": [
    "The chi-square goodness of fit test compares proportions of each level of a categorical variable to  \n",
    "hypothesized values. Before running such a test, it can be helpful to visually compare the distribution  \n",
    "in the sample to the hypothesized distribution.\n",
    "\n",
    "Recall the vendor incoterms in the late_shipments dataset. You hypothesize that the four values occur  \n",
    "with these frequencies in the population of shipments.\n",
    "\n",
    "* CIP: 0.05\n",
    "* DDP: 0.1\n",
    "* EXW: 0.75\n",
    "* FCA: 0.1"
   ]
  },
  {
   "cell_type": "code",
   "execution_count": 51,
   "metadata": {},
   "outputs": [
    {
     "name": "stdout",
     "output_type": "stream",
     "text": [
      "  vendor_inco_term  prop\n",
      "0              CIP  0.05\n",
      "1              DDP  0.10\n",
      "2              EXW  0.75\n",
      "3              FCA  0.10\n"
     ]
    }
   ],
   "source": [
    "# Create a DataFrame to store the frequencies\n",
    "hypothesized = pd.DataFrame({\n",
    "    \"vendor_inco_term\": [\"CIP\", \"DDP\", \"EXW\", \"FCA\"],\n",
    "    \"prop\": [0.05, 0.10, 0.75, 0.10]\n",
    "})\n",
    "\n",
    "print(hypothesized)"
   ]
  },
  {
   "cell_type": "code",
   "execution_count": 52,
   "metadata": {},
   "outputs": [
    {
     "name": "stdout",
     "output_type": "stream",
     "text": [
      "  vendor_inco_term    n\n",
      "3              CIP   56\n",
      "2              DDP  100\n",
      "0              EXW  732\n",
      "1              FCA  111\n"
     ]
    }
   ],
   "source": [
    "''' Create a DataFrame to store the 'value_counts()' of the \n",
    "'vendor_inco_term' column. ''' \n",
    "\n",
    "incoterm_counts = late_shipments[\"vendor_inco_term\"].value_counts()\n",
    "\n",
    "incoterm_counts = incoterm_counts.reset_index(name=\"n\")\\\n",
    "    .sort_values(\"vendor_inco_term\")\n",
    "\n",
    "print(incoterm_counts)"
   ]
  },
  {
   "cell_type": "code",
   "execution_count": 53,
   "metadata": {},
   "outputs": [
    {
     "name": "stdout",
     "output_type": "stream",
     "text": [
      "999\n"
     ]
    }
   ],
   "source": [
    "# Find the total number of rows in 'late_shipments' \n",
    "n_total = len(late_shipments)\n",
    "\n",
    "print(n_total)"
   ]
  },
  {
   "cell_type": "code",
   "execution_count": 54,
   "metadata": {},
   "outputs": [
    {
     "name": "stdout",
     "output_type": "stream",
     "text": [
      "  vendor_inco_term  prop       n\n",
      "0              CIP  0.05   49.95\n",
      "1              DDP  0.10   99.90\n",
      "2              EXW  0.75  749.25\n",
      "3              FCA  0.10   99.90\n"
     ]
    }
   ],
   "source": [
    "''' Add a column named 'n' to the 'hypothesized' DataFrame that is the  \n",
    "'hypothesized' 'prop' column times 'n_total'. '''\n",
    "\n",
    "hypothesized[\"n\"] = hypothesized[\"prop\"] * n_total\n",
    "\n",
    "print(hypothesized)"
   ]
  },
  {
   "cell_type": "code",
   "execution_count": 55,
   "metadata": {},
   "outputs": [
    {
     "data": {
      "image/png": "[encoded data removed]",
      "text/plain": [
       "<Figure size 640x480 with 1 Axes>"
      ]
     },
     "metadata": {},
     "output_type": "display_data"
    }
   ],
   "source": [
    "''' Plot a bar graph of 'n' vs. 'vendor_inco_term' for 'incoterm_counts'. '''\n",
    "\n",
    "plt.bar(\n",
    "    incoterm_counts[\"vendor_inco_term\"], incoterm_counts[\"n\"],\n",
    "    color=\"red\", label=\"Observed\"\n",
    ")\n",
    "\n",
    "''' Add a bar plot for the 'hypothesized' counts. '''\n",
    "\n",
    "plt.bar(\n",
    "    hypothesized[\"vendor_inco_term\"], hypothesized[\"n\"],\n",
    "    color=\"blue\", alpha=0.5, label=\"Hypothesized\"\n",
    ")\n",
    "\n",
    "plt.legend()\n",
    "plt.show()"
   ]
  },
  {
   "cell_type": "markdown",
   "metadata": {},
   "source": [
    "Two of the bars in the sample are very close to the hypothesized values while  \n",
    "two are a little higher. The next exercise will test if these differences are  \n",
    "statistically significant."
   ]
  },
  {
   "cell_type": "markdown",
   "metadata": {},
   "source": [
    "#### _Performing a goodness of fit test_"
   ]
  },
  {
   "cell_type": "markdown",
   "metadata": {},
   "source": [
    "Perform a chi-square goodness of fit test to see whether the  \n",
    "differences in the previous exercise are statistically significant.\n",
    "\n",
    "Recall the hypotheses for this type of test:\n",
    "\n",
    "$H_{0}$: The sample matches with the hypothesized distribution.\n",
    "\n",
    "$H_{A}$: The sample does not match with the hypothesized distribution.\n",
    "\n",
    "To decide which hypothesis to choose, set a significance level of 0.1."
   ]
  },
  {
   "cell_type": "code",
   "execution_count": 56,
   "metadata": {},
   "outputs": [
    {
     "name": "stdout",
     "output_type": "stream",
     "text": [
      "Power_divergenceResult(statistic=2.3633633633633613, pvalue=0.5004909543758689)\n"
     ]
    }
   ],
   "source": [
    "''' Using the 'incoterm_counts' and 'hypothesized' datasets, perform a chi-square  \n",
    "goodness of fit test on the incoterm counts, 'n'. '''\n",
    "\n",
    "from scipy.stats import chisquare\n",
    "\n",
    "gof_test = chisquare(\n",
    "    f_obs=incoterm_counts[\"n\"],\n",
    "    f_exp=hypothesized[\"n\"],\n",
    ")\n",
    "\n",
    "print(gof_test)"
   ]
  },
  {
   "cell_type": "markdown",
   "metadata": {},
   "source": [
    "**Question**\n",
    "\n",
    "What should you conclude from the hypothesis test?"
   ]
  },
  {
   "cell_type": "markdown",
   "metadata": {},
   "source": [
    "**Answer**\n",
    "\n",
    "Fail to reject the null hypothesis and conclude that `n` follows the  \n",
    "distribution specified by `hypothesized`."
   ]
  },
  {
   "cell_type": "markdown",
   "metadata": {},
   "source": [
    "## 4. Non-Parametric Tests"
   ]
  },
  {
   "cell_type": "markdown",
   "metadata": {},
   "source": [
    "Non-parametric tests are statistical methods used when the assumptions of parametric tests are not met.  \n",
    "Parametric tests, like the t-test or ANOVA, assume that the data follows a normal distribution, has  \n",
    "equal variances, and is measured on an interval or ratio scale.\n",
    "\n",
    "Non-parametric tests, on the other hand, make fewer assumptions about the data. They are useful when:\n",
    "* Data is not normally distributed\n",
    "* Sample sizes are small\n",
    "* Data is ordinal, ranked, or categorical\n",
    "\n",
    "Examples of non-parametric tests include the Mann-Whitney U test (alternative to the t-test) and the  \n",
    "Kruskal-Wallis test (alternative to ANOVA). These tests rely on the ranks of the data rather than the  \n",
    "data's actual values, making them robust in situations where parametric assumptions don't hold.\n",
    "\n",
    "<small>_Source: OpenAI, ChatGPT, September 22, 2024._</small>"
   ]
  },
  {
   "cell_type": "markdown",
   "metadata": {},
   "source": [
    "### 4.1 Assumptions in hypothesis testing"
   ]
  },
  {
   "cell_type": "markdown",
   "metadata": {},
   "source": [
    "#### _Common assumptions of hypothesis tests_"
   ]
  },
  {
   "cell_type": "markdown",
   "metadata": {},
   "source": [
    "Hypothesis tests make assumptions about the dataset that they are testing, and the conclusions you draw  \n",
    "from the test results are only valid if those assumptions hold. While some assumptions differ between  \n",
    "types of test, others are common to all hypothesis tests."
   ]
  },
  {
   "cell_type": "markdown",
   "metadata": {},
   "source": [
    "**Question**\n",
    "\n",
    "Which of the following statements is a common assumption of hypothesis tests?"
   ]
  },
  {
   "cell_type": "markdown",
   "metadata": {},
   "source": [
    "**Answer**\n",
    "\n",
    "Sample observations have no direct relationship with each other."
   ]
  },
  {
   "cell_type": "markdown",
   "metadata": {},
   "source": [
    "**Explanation**\n",
    "\n",
    "All hypothesis tests assume that the data are collected at random from the population,  \n",
    "that each row is independent of the others, and that the sample size is \"big enough\"."
   ]
  },
  {
   "cell_type": "markdown",
   "metadata": {},
   "source": [
    "#### _Testing sample size_"
   ]
  },
  {
   "cell_type": "markdown",
   "metadata": {},
   "source": [
    "In order to conduct a hypothesis test and be sure that the result is fair, a sample must meet three  \n",
    "requirements: it is a random sample of the population, the observations are independent, and there are  \n",
    "enough observations. Of these, only the last condition is easily testable with code.\n",
    "\n",
    "The minimum sample size depends on the type of hypothesis tests you want to perform. Test some scenarios  \n",
    "on the `late_shipments` dataset in the following exercises."
   ]
  },
  {
   "cell_type": "code",
   "execution_count": 57,
   "metadata": {},
   "outputs": [
    {
     "name": "stdout",
     "output_type": "stream",
     "text": [
      "freight_cost_groups\n",
      "expensive     531\n",
      "reasonable    454\n",
      "Name: count, dtype: int64\n"
     ]
    }
   ],
   "source": [
    "''' Get the count of each value in the 'freight_cost_groups' column of 'late_shipments'.\n",
    "Insert a suitable number to inspect whether the counts are \"big enough\" for a two sample t-test. '''\n",
    "\n",
    "counts = late_shipments[\"freight_cost_groups\"].value_counts()\n",
    "\n",
    "print(counts)"
   ]
  },
  {
   "cell_type": "code",
   "execution_count": 58,
   "metadata": {},
   "outputs": [
    {
     "name": "stdout",
     "output_type": "stream",
     "text": [
      "True\n"
     ]
    }
   ],
   "source": [
    "# Inspect whether the counts are big enough\n",
    "print((counts >= 30).all())"
   ]
  },
  {
   "cell_type": "code",
   "execution_count": 59,
   "metadata": {},
   "outputs": [
    {
     "name": "stdout",
     "output_type": "stream",
     "text": [
      "late\n",
      "No     938\n",
      "Yes     61\n",
      "Name: count, dtype: int64\n"
     ]
    }
   ],
   "source": [
    "''' Get the count of each value in the late column of late_shipments. Insert a suitable number  \n",
    "to inspect whether the counts are \"big enough\" for a one sample proportion test.'''\n",
    "\n",
    "counts = late_shipments[\"late\"].value_counts()\n",
    "\n",
    "print(counts)"
   ]
  },
  {
   "cell_type": "code",
   "execution_count": 60,
   "metadata": {},
   "outputs": [
    {
     "name": "stdout",
     "output_type": "stream",
     "text": [
      "True\n"
     ]
    }
   ],
   "source": [
    "# Inspect whether the counts are big enough\n",
    "print((counts >= 10).all())"
   ]
  },
  {
   "cell_type": "code",
   "execution_count": 61,
   "metadata": {},
   "outputs": [
    {
     "name": "stdout",
     "output_type": "stream",
     "text": [
      "vendor_inco_term  freight_cost_groups\n",
      "CIP               reasonable              34\n",
      "                  expensive               16\n",
      "DDP               expensive               55\n",
      "                  reasonable              45\n",
      "EXW               expensive              423\n",
      "                  reasonable             302\n",
      "FCA               reasonable              73\n",
      "                  expensive               37\n",
      "Name: count, dtype: int64\n"
     ]
    }
   ],
   "source": [
    "''' Get the count of each value in the 'freight_cost_groups' column of 'late_shipments' grouped by  \n",
    "'vendor_inco_term'. Insert a suitable number to inspect whether the counts are \"big enough\" for a  \n",
    "chi-square independence test. '''\n",
    "\n",
    "counts = late_shipments.groupby(\"vendor_inco_term\")[\"freight_cost_groups\"]\\\n",
    "    .value_counts()\n",
    "\n",
    "print(counts)"
   ]
  },
  {
   "cell_type": "code",
   "execution_count": 62,
   "metadata": {},
   "outputs": [
    {
     "name": "stdout",
     "output_type": "stream",
     "text": [
      "True\n"
     ]
    }
   ],
   "source": [
    "# Inspect whether the counts are big enough\n",
    "print((counts >= 5).all())"
   ]
  },
  {
   "cell_type": "code",
   "execution_count": 63,
   "metadata": {},
   "outputs": [
    {
     "name": "stdout",
     "output_type": "stream",
     "text": [
      "shipment_mode\n",
      "Air            905\n",
      "Ocean           88\n",
      "Air Charter      6\n",
      "Name: count, dtype: int64\n"
     ]
    }
   ],
   "source": [
    "''' Get the count of each value in the 'shipment_mode' column of 'late_shipments'.\n",
    "Insert a suitable number to inspect whether the counts are \"big enough\" for an ANOVA test. '''\n",
    "\n",
    "counts = late_shipments[\"shipment_mode\"].value_counts()\n",
    "\n",
    "print(counts)"
   ]
  },
  {
   "cell_type": "code",
   "execution_count": 64,
   "metadata": {},
   "outputs": [
    {
     "name": "stdout",
     "output_type": "stream",
     "text": [
      "False\n"
     ]
    }
   ],
   "source": [
    "# Inspect whether the counts are big enough\n",
    "print((counts >= 30).all())"
   ]
  },
  {
   "cell_type": "markdown",
   "metadata": {},
   "source": [
    "While randomness and independence of observations can't easily be tested programmatically, you can test  \n",
    "that your sample sizes are big enough to make a hypothesis test appropriate.  \n",
    "\n",
    "Based on the last result, we should be a little cautious of the ANOVA test results given the small sample  \n",
    "size for Air Charter."
   ]
  },
  {
   "cell_type": "markdown",
   "metadata": {},
   "source": [
    "### 4.2 Non-parametric tests"
   ]
  },
  {
   "cell_type": "markdown",
   "metadata": {},
   "source": [
    "#### _Which parametric test?_"
   ]
  },
  {
   "cell_type": "markdown",
   "metadata": {},
   "source": [
    "**Question**\n",
    "\n",
    "Which test is a parametric equivalent to the Wilcoxon  \n",
    "signed-rank test?"
   ]
  },
  {
   "cell_type": "markdown",
   "metadata": {},
   "source": [
    "**Answer**\n",
    "\n",
    "Paired t-test"
   ]
  },
  {
   "cell_type": "markdown",
   "metadata": {},
   "source": [
    "**Explanation**\n",
    "\n",
    "The Wilcoxon signed-rank test works well when  \n",
    "the assumptions of a paired t-test aren't met."
   ]
  },
  {
   "cell_type": "markdown",
   "metadata": {},
   "source": [
    "#### _Wilcoxon signed-rank test_"
   ]
  },
  {
   "cell_type": "markdown",
   "metadata": {},
   "source": [
    "Explore the difference between the proportion of county-level votes for the Democratic  \n",
    "candidate in 2012 and 2016 to identify if the difference is significant."
   ]
  },
  {
   "cell_type": "code",
   "execution_count": 67,
   "metadata": {},
   "outputs": [
    {
     "name": "stdout",
     "output_type": "stream",
     "text": [
      "                T  dof alternative          p-val         CI95%   cohen-d  \\\n",
      "T-test  30.298384  499   two-sided  3.600634e-115  [6.39, 7.27]  0.454202   \n",
      "\n",
      "              BF10  power  \n",
      "T-test  2.246e+111    1.0  \n"
     ]
    }
   ],
   "source": [
    "''' Conduct a paired t-test on the percentage columns of 'sample_dem_data'  \n",
    "using an appropriate alternative hypothesis. '''\n",
    "\n",
    "paired_test_results = pingouin.ttest(\n",
    "    x=sample_dem_data[\"dem_percent_12\"],\n",
    "    y=sample_dem_data[\"dem_percent_16\"],\n",
    "    paired=True,\n",
    "    alternative=\"two-sided\"\n",
    ")\n",
    "\n",
    "print(paired_test_results)"
   ]
  },
  {
   "cell_type": "code",
   "execution_count": 68,
   "metadata": {},
   "outputs": [
    {
     "name": "stdout",
     "output_type": "stream",
     "text": [
      "           W-val alternative         p-val       RBC      CLES\n",
      "Wilcoxon  2401.0   two-sided  1.780396e-77  0.961661  0.644816\n"
     ]
    }
   ],
   "source": [
    "''' Conduct a Wilcoxon signed-rank test on the same columns. '''\n",
    "\n",
    "wilcoxon_test_results = pingouin.wilcoxon(\n",
    "    x=sample_dem_data[\"dem_percent_12\"],\n",
    "    y=sample_dem_data[\"dem_percent_16\"],\n",
    "    alternative=\"two-sided\"\n",
    ")\n",
    "\n",
    "print(wilcoxon_test_results)"
   ]
  },
  {
   "cell_type": "markdown",
   "metadata": {},
   "source": [
    "Given the large sample size (500), similar results were obtained between the  \n",
    "parametric t-test and non-parametric Wilcoxon test with a very small p-value."
   ]
  },
  {
   "cell_type": "markdown",
   "metadata": {},
   "source": [
    "### 4.3 Non-parametric ANOVA and unpaired t-tests"
   ]
  },
  {
   "cell_type": "code",
   "execution_count": 72,
   "metadata": {},
   "outputs": [
    {
     "data": {
      "text/html": [
       "<div>\n",
       "<style scoped>\n",
       "    .dataframe tbody tr th:only-of-type {\n",
       "        vertical-align: middle;\n",
       "    }\n",
       "\n",
       "    .dataframe tbody tr th {\n",
       "        vertical-align: top;\n",
       "    }\n",
       "\n",
       "    .dataframe thead th {\n",
       "        text-align: right;\n",
       "    }\n",
       "</style>\n",
       "<table border=\"1\" class=\"dataframe\">\n",
       "  <thead>\n",
       "    <tr style=\"text-align: right;\">\n",
       "      <th></th>\n",
       "      <th>converted_comp</th>\n",
       "      <th>age_first_code_cut</th>\n",
       "    </tr>\n",
       "  </thead>\n",
       "  <tbody>\n",
       "    <tr>\n",
       "      <th>0</th>\n",
       "      <td>77556.0</td>\n",
       "      <td>adult</td>\n",
       "    </tr>\n",
       "    <tr>\n",
       "      <th>1</th>\n",
       "      <td>74970.0</td>\n",
       "      <td>child</td>\n",
       "    </tr>\n",
       "    <tr>\n",
       "      <th>2</th>\n",
       "      <td>594539.0</td>\n",
       "      <td>child</td>\n",
       "    </tr>\n",
       "    <tr>\n",
       "      <th>3</th>\n",
       "      <td>2000000.0</td>\n",
       "      <td>adult</td>\n",
       "    </tr>\n",
       "    <tr>\n",
       "      <th>4</th>\n",
       "      <td>37816.0</td>\n",
       "      <td>adult</td>\n",
       "    </tr>\n",
       "  </tbody>\n",
       "</table>\n",
       "</div>"
      ],
      "text/plain": [
       "   converted_comp age_first_code_cut\n",
       "0         77556.0              adult\n",
       "1         74970.0              child\n",
       "2        594539.0              child\n",
       "3       2000000.0              adult\n",
       "4         37816.0              adult"
      ]
     },
     "execution_count": 72,
     "metadata": {},
     "output_type": "execute_result"
    }
   ],
   "source": [
    "age_vs_comp = stack_overflow[[\"converted_comp\", \"age_first_code_cut\"]]\n",
    "\n",
    "age_vs_comp.head()"
   ]
  },
  {
   "cell_type": "code",
   "execution_count": 71,
   "metadata": {},
   "outputs": [
    {
     "data": {
      "text/html": [
       "<div>\n",
       "<style scoped>\n",
       "    .dataframe tbody tr th:only-of-type {\n",
       "        vertical-align: middle;\n",
       "    }\n",
       "\n",
       "    .dataframe tbody tr th {\n",
       "        vertical-align: top;\n",
       "    }\n",
       "\n",
       "    .dataframe thead th {\n",
       "        text-align: right;\n",
       "    }\n",
       "</style>\n",
       "<table border=\"1\" class=\"dataframe\">\n",
       "  <thead>\n",
       "    <tr style=\"text-align: right;\">\n",
       "      <th>age_first_code_cut</th>\n",
       "      <th>adult</th>\n",
       "      <th>child</th>\n",
       "    </tr>\n",
       "  </thead>\n",
       "  <tbody>\n",
       "    <tr>\n",
       "      <th>0</th>\n",
       "      <td>77556.0</td>\n",
       "      <td>NaN</td>\n",
       "    </tr>\n",
       "    <tr>\n",
       "      <th>1</th>\n",
       "      <td>NaN</td>\n",
       "      <td>74970.0</td>\n",
       "    </tr>\n",
       "    <tr>\n",
       "      <th>2</th>\n",
       "      <td>NaN</td>\n",
       "      <td>594539.0</td>\n",
       "    </tr>\n",
       "    <tr>\n",
       "      <th>3</th>\n",
       "      <td>2000000.0</td>\n",
       "      <td>NaN</td>\n",
       "    </tr>\n",
       "    <tr>\n",
       "      <th>4</th>\n",
       "      <td>37816.0</td>\n",
       "      <td>NaN</td>\n",
       "    </tr>\n",
       "  </tbody>\n",
       "</table>\n",
       "</div>"
      ],
      "text/plain": [
       "age_first_code_cut      adult     child\n",
       "0                     77556.0       NaN\n",
       "1                         NaN   74970.0\n",
       "2                         NaN  594539.0\n",
       "3                   2000000.0       NaN\n",
       "4                     37816.0       NaN"
      ]
     },
     "execution_count": 71,
     "metadata": {},
     "output_type": "execute_result"
    }
   ],
   "source": [
    "age_vs_comp_wide = age_vs_comp.pivot(\n",
    "    columns=\"age_first_code_cut\",\n",
    "    values=\"converted_comp\"\n",
    ")\n",
    "\n",
    "age_vs_comp_wide.head()"
   ]
  },
  {
   "cell_type": "code",
   "execution_count": 73,
   "metadata": {},
   "outputs": [
    {
     "data": {
      "text/html": [
       "<div>\n",
       "<style scoped>\n",
       "    .dataframe tbody tr th:only-of-type {\n",
       "        vertical-align: middle;\n",
       "    }\n",
       "\n",
       "    .dataframe tbody tr th {\n",
       "        vertical-align: top;\n",
       "    }\n",
       "\n",
       "    .dataframe thead th {\n",
       "        text-align: right;\n",
       "    }\n",
       "</style>\n",
       "<table border=\"1\" class=\"dataframe\">\n",
       "  <thead>\n",
       "    <tr style=\"text-align: right;\">\n",
       "      <th></th>\n",
       "      <th>U-val</th>\n",
       "      <th>alternative</th>\n",
       "      <th>p-val</th>\n",
       "      <th>RBC</th>\n",
       "      <th>CLES</th>\n",
       "    </tr>\n",
       "  </thead>\n",
       "  <tbody>\n",
       "    <tr>\n",
       "      <th>MWU</th>\n",
       "      <td>744365.5</td>\n",
       "      <td>greater</td>\n",
       "      <td>1.902723e-19</td>\n",
       "      <td>0.222516</td>\n",
       "      <td>0.611258</td>\n",
       "    </tr>\n",
       "  </tbody>\n",
       "</table>\n",
       "</div>"
      ],
      "text/plain": [
       "        U-val alternative         p-val       RBC      CLES\n",
       "MWU  744365.5     greater  1.902723e-19  0.222516  0.611258"
      ]
     },
     "execution_count": 73,
     "metadata": {},
     "output_type": "execute_result"
    }
   ],
   "source": [
    "pingouin.mwu(\n",
    "    x=age_vs_comp_wide[\"child\"],\n",
    "    y=age_vs_comp_wide[\"adult\"],\n",
    "    alternative=\"greater\"\n",
    ")"
   ]
  },
  {
   "cell_type": "code",
   "execution_count": 74,
   "metadata": {},
   "outputs": [
    {
     "data": {
      "text/html": [
       "<div>\n",
       "<style scoped>\n",
       "    .dataframe tbody tr th:only-of-type {\n",
       "        vertical-align: middle;\n",
       "    }\n",
       "\n",
       "    .dataframe tbody tr th {\n",
       "        vertical-align: top;\n",
       "    }\n",
       "\n",
       "    .dataframe thead th {\n",
       "        text-align: right;\n",
       "    }\n",
       "</style>\n",
       "<table border=\"1\" class=\"dataframe\">\n",
       "  <thead>\n",
       "    <tr style=\"text-align: right;\">\n",
       "      <th></th>\n",
       "      <th>Source</th>\n",
       "      <th>ddof1</th>\n",
       "      <th>H</th>\n",
       "      <th>p-unc</th>\n",
       "    </tr>\n",
       "  </thead>\n",
       "  <tbody>\n",
       "    <tr>\n",
       "      <th>Kruskal</th>\n",
       "      <td>job_sat</td>\n",
       "      <td>4</td>\n",
       "      <td>72.814939</td>\n",
       "      <td>5.772915e-15</td>\n",
       "    </tr>\n",
       "  </tbody>\n",
       "</table>\n",
       "</div>"
      ],
      "text/plain": [
       "          Source  ddof1          H         p-unc\n",
       "Kruskal  job_sat      4  72.814939  5.772915e-15"
      ]
     },
     "execution_count": 74,
     "metadata": {},
     "output_type": "execute_result"
    }
   ],
   "source": [
    "pingouin.kruskal(\n",
    "    data=stack_overflow,\n",
    "    dv=\"converted_comp\",\n",
    "    between=\"job_sat\"\n",
    ")"
   ]
  },
  {
   "cell_type": "markdown",
   "metadata": {},
   "source": []
  },
  {
   "cell_type": "markdown",
   "metadata": {},
   "source": [
    "#### _Wilcoxon-Mann-Whitney_"
   ]
  },
  {
   "cell_type": "markdown",
   "metadata": {},
   "source": [
    "Another class of non-parametric hypothesis tests are called rank sum tests. Ranks are the positions of  \n",
    "numeric values from smallest to largest.\n",
    "\n",
    "By calculating on the ranks of data instead of the actual values, you can avoid making assumptions about  \n",
    "the distribution of the test statistic. It's more robust in the same way that a median is more robust  \n",
    "than a mean.\n",
    "\n",
    "One common rank-based test is the Wilcoxon-Mann-Whitney test, which is like a non-parametric t-test."
   ]
  },
  {
   "cell_type": "code",
   "execution_count": 75,
   "metadata": {},
   "outputs": [
    {
     "name": "stdout",
     "output_type": "stream",
     "text": [
      "       U-val alternative     p-val       RBC      CLES\n",
      "MWU  38087.0   two-sided  0.000014  0.331294  0.665647\n"
     ]
    }
   ],
   "source": [
    "# Select 'weight_kilograms' and 'late' from 'late_shipments' \n",
    "weight_vs_late = late_shipments[[\"weight_kilograms\", \"late\"]]\n",
    "\n",
    "# Convert 'weight_vs_late' from long to wide format\n",
    "weight_vs_late_wide = weight_vs_late.pivot(\n",
    "    columns=\"late\",\n",
    "    values=\"weight_kilograms\"\n",
    ")\n",
    "\n",
    "''' Run a Wilcoxon-Mann-Whitney test for a difference in 'weight_kilograms'  \n",
    "when the shipment wa late and on-time. '''\n",
    "\n",
    "wmw_test = pingouin.mwu(\n",
    "    x=weight_vs_late_wide[\"Yes\"],\n",
    "    y=weight_vs_late_wide[\"No\"],\n",
    "    alternative=\"two-sided\"\n",
    ")\n",
    "\n",
    "print(wmw_test)"
   ]
  },
  {
   "cell_type": "markdown",
   "metadata": {},
   "source": [
    "The small p-value here leads us to suspect that a difference does exist in the weight of the shipment  \n",
    "and whether or not it was late.  \n",
    "\n",
    "The Wilcoxon-Mann-Whitney test is useful when you cannot satisfy the assumptions for a parametric test  \n",
    "comparing two means, like the t-test."
   ]
  },
  {
   "cell_type": "markdown",
   "metadata": {},
   "source": [
    "#### _Kruskal-Wallis_"
   ]
  },
  {
   "cell_type": "markdown",
   "metadata": {},
   "source": [
    "The Kruskal-Wallis test is a non-parametric version of an ANOVA test,  \n",
    "comparing the means across multiple groups."
   ]
  },
  {
   "cell_type": "code",
   "execution_count": 77,
   "metadata": {},
   "outputs": [
    {
     "name": "stdout",
     "output_type": "stream",
     "text": [
      "                   Source  ddof1           H         p-unc\n",
      "Kruskal  vendor_inco_term      3  143.067219  8.242568e-31\n"
     ]
    }
   ],
   "source": [
    "''' Run a Kruskal-Wallis test on 'weight-kilograms' between the different \n",
    "shipment modes in 'late_shipments'. '''\n",
    "\n",
    "kw_test = pingouin.kruskal(\n",
    "    data=late_shipments,\n",
    "    dv=\"weight_kilograms\",\n",
    "    between=\"vendor_inco_term\"\n",
    ")\n",
    "\n",
    "print(kw_test)"
   ]
  },
  {
   "cell_type": "markdown",
   "metadata": {},
   "source": [
    "The Kruskal-Wallis test yielded a very small p-value, so there is evidence that at least one of the  \n",
    "three groups of shipment mode has a different weight distribution than the others.  \n",
    "\n",
    "The Kruskal-Wallis test is comparable to an ANOVA, which tests for a difference in means across  \n",
    "multiple groups."
   ]
  },
  {
   "cell_type": "markdown",
   "metadata": {},
   "source": [
    "<div style=\"text-align: center; font-size: 18px; font-weight: bold; color: #F5DEB3;\">\n",
    "<span>[ End of notebook ]</span>\n",
    "</div>"
   ]
  }
 ],
 "metadata": {
  "kernelspec": {
   "display_name": "my_env",
   "language": "python",
   "name": "python3"
  },
  "language_info": {
   "codemirror_mode": {
    "name": "ipython",
    "version": 3
   },
   "file_extension": ".py",
   "mimetype": "text/x-python",
   "name": "python",
   "nbconvert_exporter": "python",
   "pygments_lexer": "ipython3",
   "version": "3.12.4"
  }
 },
 "nbformat": 4,
 "nbformat_minor": 2
}

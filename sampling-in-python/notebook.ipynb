{
 "cells": [
  {
   "cell_type": "markdown",
   "metadata": {},
   "source": [
    "## Sampling in Python"
   ]
  },
  {
   "cell_type": "markdown",
   "metadata": {},
   "source": [
    "Sampling in Python is the cornerstone of inference statistics and hypothesis testing. It's a powerful  \n",
    "skill used in survey analysis and experimental design to draw conclusions without surveying an entire  \n",
    "population. \n",
    "\n",
    "You will discover when to use sampling and how to perform common types of sampling -- from  \n",
    "simple random sampling to more complex methods like stratified and cluster sampling. \n",
    "\n",
    "Using real-world   datasets, including coffee ratings, Spotify songs, and employee attrition, you'll learn  \n",
    "to estimate  population statistics and quantify uncertainty in your estimates by generating sampling  \n",
    "distributions and bootstrap distributions. "
   ]
  },
  {
   "cell_type": "code",
   "execution_count": 57,
   "metadata": {},
   "outputs": [],
   "source": [
    "# Import packages\n",
    "import numpy as np\n",
    "import pandas as pd\n",
    "import matplotlib.pyplot as plt\n",
    "import seaborn as sns\n",
    "\n",
    "# change the default console output settings in NumPy and pandas to improve readability\n",
    "pd.options.display.max_columns = 20\n",
    "pd.options.display.max_rows = 20\n",
    "pd.options.display.max_colwidth = 80\n",
    "np.set_printoptions(precision=4, suppress=True)"
   ]
  },
  {
   "cell_type": "markdown",
   "metadata": {},
   "source": [
    "### Chapter 1: Introduction to Sampling"
   ]
  },
  {
   "cell_type": "markdown",
   "metadata": {},
   "source": [
    "Learn what sampling is and why it is so powerful. You'll also learn about the problems caused by  \n",
    "convenience sampling and the difference between true randomness and pseudo-randomness."
   ]
  },
  {
   "cell_type": "markdown",
   "metadata": {},
   "source": [
    "#### Sampling and point estimates"
   ]
  },
  {
   "cell_type": "markdown",
   "metadata": {},
   "source": [
    "##### Sampling households"
   ]
  },
  {
   "cell_type": "markdown",
   "metadata": {},
   "source": [
    "Cheaper to ask a small number of households and use statistics to estimate the population.\n",
    "\n",
    "Working with a subset of the whole population is called *sampling*."
   ]
  },
  {
   "cell_type": "markdown",
   "metadata": {},
   "source": [
    "##### Population vs. sample"
   ]
  },
  {
   "cell_type": "markdown",
   "metadata": {},
   "source": [
    "* The *population* is the complete dataset\n",
    "    * Doesn't have to refer to people\n",
    "    * We typically don't know what the whole population is\n",
    "\n",
    "* The sample is the subset of data we are working with"
   ]
  },
  {
   "cell_type": "markdown",
   "metadata": {},
   "source": [
    "##### Coffee rating dataset"
   ]
  },
  {
   "cell_type": "markdown",
   "metadata": {},
   "source": [
    "**Note:** An essential library must be installed to work with the feather format. \n",
    "\n",
    "* To install: `pip install pyarrow`"
   ]
  },
  {
   "cell_type": "code",
   "execution_count": 58,
   "metadata": {},
   "outputs": [
    {
     "data": {
      "text/html": [
       "<div>\n",
       "<style scoped>\n",
       "    .dataframe tbody tr th:only-of-type {\n",
       "        vertical-align: middle;\n",
       "    }\n",
       "\n",
       "    .dataframe tbody tr th {\n",
       "        vertical-align: top;\n",
       "    }\n",
       "\n",
       "    .dataframe thead th {\n",
       "        text-align: right;\n",
       "    }\n",
       "</style>\n",
       "<table border=\"1\" class=\"dataframe\">\n",
       "  <thead>\n",
       "    <tr style=\"text-align: right;\">\n",
       "      <th></th>\n",
       "      <th>total_cup_points</th>\n",
       "      <th>variety</th>\n",
       "      <th>country_of_origin</th>\n",
       "      <th>aroma</th>\n",
       "      <th>flavor</th>\n",
       "      <th>aftertaste</th>\n",
       "      <th>body</th>\n",
       "      <th>balance</th>\n",
       "    </tr>\n",
       "  </thead>\n",
       "  <tbody>\n",
       "    <tr>\n",
       "      <th>0</th>\n",
       "      <td>90.58</td>\n",
       "      <td>None</td>\n",
       "      <td>Ethiopia</td>\n",
       "      <td>8.67</td>\n",
       "      <td>8.83</td>\n",
       "      <td>8.67</td>\n",
       "      <td>8.50</td>\n",
       "      <td>8.42</td>\n",
       "    </tr>\n",
       "    <tr>\n",
       "      <th>1</th>\n",
       "      <td>89.92</td>\n",
       "      <td>Other</td>\n",
       "      <td>Ethiopia</td>\n",
       "      <td>8.75</td>\n",
       "      <td>8.67</td>\n",
       "      <td>8.50</td>\n",
       "      <td>8.42</td>\n",
       "      <td>8.42</td>\n",
       "    </tr>\n",
       "    <tr>\n",
       "      <th>2</th>\n",
       "      <td>89.75</td>\n",
       "      <td>Bourbon</td>\n",
       "      <td>Guatemala</td>\n",
       "      <td>8.42</td>\n",
       "      <td>8.50</td>\n",
       "      <td>8.42</td>\n",
       "      <td>8.33</td>\n",
       "      <td>8.42</td>\n",
       "    </tr>\n",
       "    <tr>\n",
       "      <th>3</th>\n",
       "      <td>89.00</td>\n",
       "      <td>None</td>\n",
       "      <td>Ethiopia</td>\n",
       "      <td>8.17</td>\n",
       "      <td>8.58</td>\n",
       "      <td>8.42</td>\n",
       "      <td>8.50</td>\n",
       "      <td>8.25</td>\n",
       "    </tr>\n",
       "    <tr>\n",
       "      <th>4</th>\n",
       "      <td>88.83</td>\n",
       "      <td>Other</td>\n",
       "      <td>Ethiopia</td>\n",
       "      <td>8.25</td>\n",
       "      <td>8.50</td>\n",
       "      <td>8.25</td>\n",
       "      <td>8.42</td>\n",
       "      <td>8.33</td>\n",
       "    </tr>\n",
       "  </tbody>\n",
       "</table>\n",
       "</div>"
      ],
      "text/plain": [
       "   total_cup_points  variety country_of_origin  aroma  flavor  aftertaste  \\\n",
       "0             90.58     None          Ethiopia   8.67    8.83        8.67   \n",
       "1             89.92    Other          Ethiopia   8.75    8.67        8.50   \n",
       "2             89.75  Bourbon         Guatemala   8.42    8.50        8.42   \n",
       "3             89.00     None          Ethiopia   8.17    8.58        8.42   \n",
       "4             88.83    Other          Ethiopia   8.25    8.50        8.25   \n",
       "\n",
       "   body  balance  \n",
       "0  8.50     8.42  \n",
       "1  8.42     8.42  \n",
       "2  8.33     8.42  \n",
       "3  8.50     8.25  \n",
       "4  8.42     8.33  "
      ]
     },
     "execution_count": 58,
     "metadata": {},
     "output_type": "execute_result"
    }
   ],
   "source": [
    "# Import coffee ratings\n",
    "coffee_ratings = pd.read_feather('datasets/coffee_ratings_full.feather')\n",
    "\n",
    "# Subset DataFrame for columns of interest\n",
    "coffee_ratings = coffee_ratings[['total_cup_points', 'variety', 'country_of_origin', 'aroma',\\\n",
    "                                 'flavor', 'aftertaste', 'body', 'balance']]\n",
    "\n",
    "# Preview DataFrame\n",
    "coffee_ratings.head()"
   ]
  },
  {
   "cell_type": "markdown",
   "metadata": {},
   "source": [
    "The dataset of professional ratings of coffees contains 1338 rows. Each row corresponds to one coffee.  \n",
    "The coffee is given a score from zero to one hundred, which is stored in the total_cup_points column.\n",
    "\n",
    "Other columns contain contextual information like the variety and country of origin and scores between  \n",
    "zero and ten for attributes of the coffee such as aroma and body. These scores are averaged across all  \n",
    "the reviewers for that particular coffee.\n",
    "\n",
    "It doesn't contain every coffee in the world, so we don't know exactly what the population of coffees is.  \n",
    "However, there are enough here that we can think of it as our population of interest."
   ]
  },
  {
   "cell_type": "markdown",
   "metadata": {},
   "source": [
    "##### Points vs. flavor: population"
   ]
  },
  {
   "cell_type": "markdown",
   "metadata": {},
   "source": [
    "This dataset contains all 1338 rows from the original dataset."
   ]
  },
  {
   "cell_type": "code",
   "execution_count": 59,
   "metadata": {},
   "outputs": [],
   "source": [
    "# Select total_cup_points and flavor columns\n",
    "pts_vs_flavor_pop = coffee_ratings[['total_cup_points', 'flavor']]"
   ]
  },
  {
   "cell_type": "markdown",
   "metadata": {},
   "source": [
    "##### Points vs. flavor: 10 row sample"
   ]
  },
  {
   "cell_type": "markdown",
   "metadata": {},
   "source": [
    "The pandas `.sample()` method returns a random subset of rows. Setting *n=10* means ten random rows are  \n",
    "\n",
    "returned. By default, rows from the original dataset can't appear in the sample dataset multiple times,  \n",
    "\n",
    "so we are guaranteed to have ten unique rows in our sample."
   ]
  },
  {
   "cell_type": "code",
   "execution_count": 60,
   "metadata": {},
   "outputs": [
    {
     "data": {
      "text/html": [
       "<div>\n",
       "<style scoped>\n",
       "    .dataframe tbody tr th:only-of-type {\n",
       "        vertical-align: middle;\n",
       "    }\n",
       "\n",
       "    .dataframe tbody tr th {\n",
       "        vertical-align: top;\n",
       "    }\n",
       "\n",
       "    .dataframe thead th {\n",
       "        text-align: right;\n",
       "    }\n",
       "</style>\n",
       "<table border=\"1\" class=\"dataframe\">\n",
       "  <thead>\n",
       "    <tr style=\"text-align: right;\">\n",
       "      <th></th>\n",
       "      <th>total_cup_points</th>\n",
       "      <th>flavor</th>\n",
       "    </tr>\n",
       "  </thead>\n",
       "  <tbody>\n",
       "    <tr>\n",
       "      <th>130</th>\n",
       "      <td>84.67</td>\n",
       "      <td>8.00</td>\n",
       "    </tr>\n",
       "    <tr>\n",
       "      <th>1033</th>\n",
       "      <td>80.83</td>\n",
       "      <td>7.25</td>\n",
       "    </tr>\n",
       "    <tr>\n",
       "      <th>441</th>\n",
       "      <td>83.17</td>\n",
       "      <td>7.58</td>\n",
       "    </tr>\n",
       "    <tr>\n",
       "      <th>1271</th>\n",
       "      <td>76.00</td>\n",
       "      <td>6.83</td>\n",
       "    </tr>\n",
       "    <tr>\n",
       "      <th>18</th>\n",
       "      <td>87.25</td>\n",
       "      <td>8.25</td>\n",
       "    </tr>\n",
       "    <tr>\n",
       "      <th>653</th>\n",
       "      <td>82.50</td>\n",
       "      <td>7.50</td>\n",
       "    </tr>\n",
       "    <tr>\n",
       "      <th>788</th>\n",
       "      <td>82.08</td>\n",
       "      <td>7.42</td>\n",
       "    </tr>\n",
       "    <tr>\n",
       "      <th>442</th>\n",
       "      <td>83.17</td>\n",
       "      <td>7.58</td>\n",
       "    </tr>\n",
       "    <tr>\n",
       "      <th>360</th>\n",
       "      <td>83.50</td>\n",
       "      <td>7.42</td>\n",
       "    </tr>\n",
       "    <tr>\n",
       "      <th>850</th>\n",
       "      <td>81.83</td>\n",
       "      <td>7.50</td>\n",
       "    </tr>\n",
       "  </tbody>\n",
       "</table>\n",
       "</div>"
      ],
      "text/plain": [
       "      total_cup_points  flavor\n",
       "130              84.67    8.00\n",
       "1033             80.83    7.25\n",
       "441              83.17    7.58\n",
       "1271             76.00    6.83\n",
       "18               87.25    8.25\n",
       "653              82.50    7.50\n",
       "788              82.08    7.42\n",
       "442              83.17    7.58\n",
       "360              83.50    7.42\n",
       "850              81.83    7.50"
      ]
     },
     "execution_count": 60,
     "metadata": {},
     "output_type": "execute_result"
    }
   ],
   "source": [
    "# Select a sample of 10 unique rows from the population\n",
    "pts_vs_flavor_samp = pts_vs_flavor_pop.sample(n=10)\n",
    "\n",
    "pts_vs_flavor_samp"
   ]
  },
  {
   "cell_type": "markdown",
   "metadata": {},
   "source": [
    "##### Python sampling for Series"
   ]
  },
  {
   "cell_type": "markdown",
   "metadata": {},
   "source": [
    "* Use `.sample()` for `pandas` DataFrames and Series"
   ]
  },
  {
   "cell_type": "code",
   "execution_count": 61,
   "metadata": {},
   "outputs": [
    {
     "data": {
      "text/plain": [
       "165    84.50\n",
       "220    84.17\n",
       "713    82.33\n",
       "215    84.17\n",
       "440    83.17\n",
       "330    83.67\n",
       "44     86.08\n",
       "753    82.25\n",
       "518    83.00\n",
       "186    84.33\n",
       "Name: total_cup_points, dtype: float64"
      ]
     },
     "execution_count": 61,
     "metadata": {},
     "output_type": "execute_result"
    }
   ],
   "source": [
    "# Example: select a sample of 10 unique rows from total_cup_points\n",
    "cup_points_samp = pts_vs_flavor_pop['total_cup_points'].sample(n=10)\n",
    "cup_points_samp"
   ]
  },
  {
   "cell_type": "markdown",
   "metadata": {},
   "source": [
    "##### Population parameters & point estimates"
   ]
  },
  {
   "cell_type": "markdown",
   "metadata": {},
   "source": [
    "A *population* parameter is a calculation made on the population dataset"
   ]
  },
  {
   "cell_type": "code",
   "execution_count": 62,
   "metadata": {},
   "outputs": [
    {
     "data": {
      "text/plain": [
       "82.15120328849028"
      ]
     },
     "execution_count": 62,
     "metadata": {},
     "output_type": "execute_result"
    }
   ],
   "source": [
    "# Calculate the population mean of the cup points\n",
    "np.mean(pts_vs_flavor_pop['total_cup_points'])"
   ]
  },
  {
   "cell_type": "markdown",
   "metadata": {},
   "source": [
    "A *point estimate* or *sample statistic* is a calculation made on the sample dataset."
   ]
  },
  {
   "cell_type": "code",
   "execution_count": 63,
   "metadata": {},
   "outputs": [
    {
     "data": {
      "text/plain": [
       "82.50000000000001"
      ]
     },
     "execution_count": 63,
     "metadata": {},
     "output_type": "execute_result"
    }
   ],
   "source": [
    "# Calculate the sample mean of the cup points\n",
    "np.mean(pts_vs_flavor_samp['total_cup_points'])"
   ]
  },
  {
   "cell_type": "markdown",
   "metadata": {},
   "source": [
    "Notice that the means are very similar but not identical."
   ]
  },
  {
   "cell_type": "markdown",
   "metadata": {},
   "source": [
    "##### Point estimates with Pandas"
   ]
  },
  {
   "cell_type": "markdown",
   "metadata": {},
   "source": [
    "The mean calculations can be performed using the `.mean()` pandas method."
   ]
  },
  {
   "cell_type": "code",
   "execution_count": 64,
   "metadata": {},
   "outputs": [
    {
     "data": {
      "text/plain": [
       "7.526046337817639"
      ]
     },
     "execution_count": 64,
     "metadata": {},
     "output_type": "execute_result"
    }
   ],
   "source": [
    "# Calculate the population mean of 'flavor' \n",
    "pts_vs_flavor_pop['flavor'].mean()"
   ]
  },
  {
   "cell_type": "code",
   "execution_count": 65,
   "metadata": {},
   "outputs": [
    {
     "data": {
      "text/plain": [
       "7.5329999999999995"
      ]
     },
     "execution_count": 65,
     "metadata": {},
     "output_type": "execute_result"
    }
   ],
   "source": [
    "# Calculate the sample mean of 'flavor' \n",
    "pts_vs_flavor_samp['flavor'].mean()"
   ]
  },
  {
   "cell_type": "markdown",
   "metadata": {},
   "source": [
    "#### Convenience sampling"
   ]
  },
  {
   "cell_type": "markdown",
   "metadata": {},
   "source": [
    "##### Convenience sampling"
   ]
  },
  {
   "cell_type": "markdown",
   "metadata": {},
   "source": [
    "* A sample not representative of the population causes *sample bias*\n",
    "\n",
    "* Collecting data by the easiest method is called *convenience sampling*\n",
    "    * For example, telephoning people\n",
    "    * It is often prone to *sample bias*"
   ]
  },
  {
   "cell_type": "markdown",
   "metadata": {},
   "source": [
    "##### Convenience sampling coffee ratings"
   ]
  },
  {
   "cell_type": "code",
   "execution_count": 66,
   "metadata": {},
   "outputs": [
    {
     "data": {
      "text/plain": [
       "82.15120328849028"
      ]
     },
     "execution_count": 66,
     "metadata": {},
     "output_type": "execute_result"
    }
   ],
   "source": [
    "# Calculate the mean cup points of the population\n",
    "coffee_ratings['total_cup_points'].mean()"
   ]
  },
  {
   "cell_type": "code",
   "execution_count": 67,
   "metadata": {},
   "outputs": [
    {
     "data": {
      "text/plain": [
       "89.1"
      ]
     },
     "execution_count": 67,
     "metadata": {},
     "output_type": "execute_result"
    }
   ],
   "source": [
    "# Take the head of the DataFrame as a convenience sample\n",
    "coffee_ratings_first10 = coffee_ratings.head(10)\n",
    "\n",
    "# Calculate the mean cup points of the convenience sample\n",
    "coffee_ratings_first10['total_cup_points'].mean()\n"
   ]
  },
  {
   "cell_type": "markdown",
   "metadata": {},
   "source": [
    "The higher sample mean suggests that coffee with higher cup points appear near the top of the dataset.  \n",
    "\n",
    "The convenience sample is not representive of the whole population."
   ]
  },
  {
   "cell_type": "markdown",
   "metadata": {},
   "source": [
    "##### Visualizing selection bias"
   ]
  },
  {
   "cell_type": "markdown",
   "metadata": {},
   "source": [
    "Create a histogram of total cup points from the population which contains values ranging from around  \n",
    "59 to around 91. The `np.arange` function can be used to create bins of width 2 from 59 to 91."
   ]
  },
  {
   "cell_type": "code",
   "execution_count": 68,
   "metadata": {},
   "outputs": [
    {
     "data": {
      "image/png": "[encoded data removed]",
      "text/plain": [
       "<Figure size 640x480 with 1 Axes>"
      ]
     },
     "metadata": {},
     "output_type": "display_data"
    }
   ],
   "source": [
    "# Create a histogram of total cup points from the population\n",
    "coffee_ratings['total_cup_points'].hist(bins=np.arange(2, 93, 2))  # specify 93 as stop value is exclusive\n",
    "plt.show()"
   ]
  },
  {
   "cell_type": "code",
   "execution_count": 69,
   "metadata": {},
   "outputs": [
    {
     "data": {
      "image/png": "[encoded data removed]",
      "text/plain": [
       "<Figure size 640x480 with 1 Axes>"
      ]
     },
     "metadata": {},
     "output_type": "display_data"
    }
   ],
   "source": [
    "# Create a histogram of total cup points from the convenience sample\n",
    "coffee_ratings_first10['total_cup_points'].hist(bins=np.arange(59, 93, 2))\n",
    "plt.show()"
   ]
  },
  {
   "cell_type": "markdown",
   "metadata": {},
   "source": [
    "##### Distribution of a population and of a convenience sample"
   ]
  },
  {
   "cell_type": "markdown",
   "metadata": {},
   "source": [
    "The histograms show that the distribution of the sample is not the same as the population: all of the  \n",
    "sample values are on the right-hand side of the plot."
   ]
  },
  {
   "cell_type": "markdown",
   "metadata": {},
   "source": [
    "##### Visualizing selection bias for a random sample"
   ]
  },
  {
   "cell_type": "code",
   "execution_count": 70,
   "metadata": {},
   "outputs": [
    {
     "data": {
      "image/png": "[encoded data removed]",
      "text/plain": [
       "<Figure size 640x480 with 1 Axes>"
      ]
     },
     "metadata": {},
     "output_type": "display_data"
    }
   ],
   "source": [
    "# Take a random sample from coffee ratings\n",
    "coffee_sample = coffee_ratings.sample(n=10)\n",
    "\n",
    "# Create a histogram of total cup points from the random sample\n",
    "coffee_sample['total_cup_points'].hist(bins=np.arange(59, 93, 2))\n",
    "plt.show()"
   ]
  },
  {
   "cell_type": "markdown",
   "metadata": {},
   "source": [
    "##### Distribution of a population and of a simple random sample"
   ]
  },
  {
   "cell_type": "markdown",
   "metadata": {},
   "source": [
    "The shapes of the distributions is more closely aligned when random sampling is used."
   ]
  },
  {
   "cell_type": "markdown",
   "metadata": {},
   "source": [
    "#### Pseudo-random number generation"
   ]
  },
  {
   "cell_type": "markdown",
   "metadata": {},
   "source": [
    "How does a computer do random sampling?"
   ]
  },
  {
   "cell_type": "markdown",
   "metadata": {},
   "source": [
    "##### What does random mean?"
   ]
  },
  {
   "cell_type": "markdown",
   "metadata": {},
   "source": [
    "Definition from Oxford Languages:\n",
    "\n",
    "*{adjective}* made, done, happening, or chosen without method or conscious decision."
   ]
  },
  {
   "cell_type": "markdown",
   "metadata": {},
   "source": [
    "##### True random numbers"
   ]
  },
  {
   "cell_type": "markdown",
   "metadata": {},
   "source": [
    "* Generated from physical processes, like flipping coins\n",
    "\n",
    "* Hotbits service generates numbers from radioactive decay  \n",
    "    * https://www.fourmilab.ch/\n",
    "    \n",
    "* RANDOM.ORG generates numbers from atmospheric noise (radio signals  \n",
    "generated by lightning)\n",
    "    * https://www.random.org\n",
    "\n",
    "* These processes are fairly slow and expensive for generating  \n",
    "random numbers"
   ]
  },
  {
   "cell_type": "markdown",
   "metadata": {},
   "source": [
    "##### Pseudo-random number generation"
   ]
  },
  {
   "cell_type": "markdown",
   "metadata": {},
   "source": [
    "* This method is cheap and fast\n",
    "\n",
    "* Each value appears to be 'random' but it is actually  \n",
    "calculated from the previous 'random' number\n",
    "\n",
    "* The first 'random' number is calculated from a *seed value*\n",
    "\n",
    "* The same seed value yields the same random numbers"
   ]
  },
  {
   "cell_type": "markdown",
   "metadata": {},
   "source": [
    "##### Random number generation functions"
   ]
  },
  {
   "cell_type": "markdown",
   "metadata": {},
   "source": [
    "<img src=\"images/screenshot-01.png\" width=80%/>"
   ]
  },
  {
   "cell_type": "markdown",
   "metadata": {},
   "source": [
    "##### Visualizing random numbers"
   ]
  },
  {
   "cell_type": "markdown",
   "metadata": {},
   "source": [
    "The first argument to each random number function specify distribution parameters. The size argument  \n",
    "specifies how many numbers to generate. Here, because the numbers were generated from the beta      \n",
    "distribution, all the values are between zero and one.\n"
   ]
  },
  {
   "cell_type": "code",
   "execution_count": 71,
   "metadata": {},
   "outputs": [
    {
     "data": {
      "text/plain": [
       "array([0.2625, 0.6218, 0.366 , ..., 0.4428, 0.5933, 0.3542])"
      ]
     },
     "execution_count": 71,
     "metadata": {},
     "output_type": "execute_result"
    }
   ],
   "source": [
    "# Generate random numbers using the beta distribution\n",
    "randoms = np.random.beta(a=2, b=2, size=5000)\n",
    "randoms"
   ]
  },
  {
   "cell_type": "code",
   "execution_count": 72,
   "metadata": {},
   "outputs": [
    {
     "data": {
      "image/png": "[encoded data removed]",
      "text/plain": [
       "<Figure size 640x480 with 1 Axes>"
      ]
     },
     "metadata": {},
     "output_type": "display_data"
    }
   ],
   "source": [
    "# Plot histogram\n",
    "plt.hist(randoms, bins=np.arange(0, 1, 0.05))\n",
    "plt.show()"
   ]
  },
  {
   "cell_type": "markdown",
   "metadata": {},
   "source": [
    "##### Random numbers seeds"
   ]
  },
  {
   "cell_type": "markdown",
   "metadata": {},
   "source": [
    "The NumPy `random.seed()` method takes an integer for the seed number.  \n",
    "\n",
    "`.normal()` generates pseudo-random numbers from the normal distribution. The `loc`  \n",
    "and `scale` arguments set the mean and standard deviation of the distribution, and   \n",
    "the `size` argument determines how many random numbers from that distribution will  \n",
    "be returned.\n",
    "\n",
    "The numbers are reproducible if the same seed is used."
   ]
  },
  {
   "cell_type": "code",
   "execution_count": 73,
   "metadata": {},
   "outputs": [
    {
     "data": {
      "text/plain": [
       "array([-0.5903,  1.8782])"
      ]
     },
     "execution_count": 73,
     "metadata": {},
     "output_type": "execute_result"
    }
   ],
   "source": [
    "# Set the seed\n",
    "np.random.seed(20000229)\n",
    "\n",
    "# Generate 'random' numbers from the normal distribution\n",
    "np.random.normal(loc=2, scale=1.5, size=2)"
   ]
  },
  {
   "cell_type": "markdown",
   "metadata": {},
   "source": [
    "### Chapter 2: Sampling Methods"
   ]
  },
  {
   "cell_type": "markdown",
   "metadata": {},
   "source": [
    "#### Simple random and systematic sampling"
   ]
  },
  {
   "cell_type": "markdown",
   "metadata": {},
   "source": [
    "##### Simple random sampling of coffees"
   ]
  },
  {
   "cell_type": "markdown",
   "metadata": {},
   "source": [
    "In our coffee ratings dataset, the population consists of coffee varieties. To perform simple random  \n",
    "sampling, we take some at random, one at a time.\n",
    "\n",
    "Each coffee has the same chance as any other of being picked."
   ]
  },
  {
   "cell_type": "markdown",
   "metadata": {},
   "source": [
    "##### Simple random sampling with pandas"
   ]
  },
  {
   "cell_type": "markdown",
   "metadata": {},
   "source": [
    "We call `.sample()` and set `n` to the size of the sample. We can also set the seed using the   \n",
    "`random_state` argument to generate reproducible results."
   ]
  },
  {
   "cell_type": "code",
   "execution_count": 74,
   "metadata": {},
   "outputs": [
    {
     "data": {
      "text/html": [
       "<div>\n",
       "<style scoped>\n",
       "    .dataframe tbody tr th:only-of-type {\n",
       "        vertical-align: middle;\n",
       "    }\n",
       "\n",
       "    .dataframe tbody tr th {\n",
       "        vertical-align: top;\n",
       "    }\n",
       "\n",
       "    .dataframe thead th {\n",
       "        text-align: right;\n",
       "    }\n",
       "</style>\n",
       "<table border=\"1\" class=\"dataframe\">\n",
       "  <thead>\n",
       "    <tr style=\"text-align: right;\">\n",
       "      <th></th>\n",
       "      <th>total_cup_points</th>\n",
       "      <th>variety</th>\n",
       "      <th>country_of_origin</th>\n",
       "      <th>aroma</th>\n",
       "      <th>flavor</th>\n",
       "      <th>aftertaste</th>\n",
       "      <th>body</th>\n",
       "      <th>balance</th>\n",
       "    </tr>\n",
       "  </thead>\n",
       "  <tbody>\n",
       "    <tr>\n",
       "      <th>437</th>\n",
       "      <td>83.25</td>\n",
       "      <td>None</td>\n",
       "      <td>Colombia</td>\n",
       "      <td>7.92</td>\n",
       "      <td>7.75</td>\n",
       "      <td>7.25</td>\n",
       "      <td>7.83</td>\n",
       "      <td>7.58</td>\n",
       "    </tr>\n",
       "    <tr>\n",
       "      <th>285</th>\n",
       "      <td>83.83</td>\n",
       "      <td>Yellow Bourbon</td>\n",
       "      <td>Brazil</td>\n",
       "      <td>7.92</td>\n",
       "      <td>7.50</td>\n",
       "      <td>7.33</td>\n",
       "      <td>8.17</td>\n",
       "      <td>7.50</td>\n",
       "    </tr>\n",
       "    <tr>\n",
       "      <th>784</th>\n",
       "      <td>82.08</td>\n",
       "      <td>None</td>\n",
       "      <td>Colombia</td>\n",
       "      <td>7.50</td>\n",
       "      <td>7.42</td>\n",
       "      <td>7.42</td>\n",
       "      <td>7.67</td>\n",
       "      <td>7.42</td>\n",
       "    </tr>\n",
       "    <tr>\n",
       "      <th>648</th>\n",
       "      <td>82.58</td>\n",
       "      <td>Caturra</td>\n",
       "      <td>Colombia</td>\n",
       "      <td>7.58</td>\n",
       "      <td>7.50</td>\n",
       "      <td>7.42</td>\n",
       "      <td>7.67</td>\n",
       "      <td>7.42</td>\n",
       "    </tr>\n",
       "    <tr>\n",
       "      <th>155</th>\n",
       "      <td>84.58</td>\n",
       "      <td>Caturra</td>\n",
       "      <td>Colombia</td>\n",
       "      <td>7.42</td>\n",
       "      <td>7.67</td>\n",
       "      <td>7.75</td>\n",
       "      <td>8.08</td>\n",
       "      <td>7.83</td>\n",
       "    </tr>\n",
       "  </tbody>\n",
       "</table>\n",
       "</div>"
      ],
      "text/plain": [
       "     total_cup_points         variety country_of_origin  aroma  flavor  \\\n",
       "437             83.25            None          Colombia   7.92    7.75   \n",
       "285             83.83  Yellow Bourbon            Brazil   7.92    7.50   \n",
       "784             82.08            None          Colombia   7.50    7.42   \n",
       "648             82.58         Caturra          Colombia   7.58    7.50   \n",
       "155             84.58         Caturra          Colombia   7.42    7.67   \n",
       "\n",
       "     aftertaste  body  balance  \n",
       "437        7.25  7.83     7.58  \n",
       "285        7.33  8.17     7.50  \n",
       "784        7.42  7.67     7.42  \n",
       "648        7.42  7.67     7.42  \n",
       "155        7.75  8.08     7.83  "
      ]
     },
     "execution_count": 74,
     "metadata": {},
     "output_type": "execute_result"
    }
   ],
   "source": [
    "# Create a simple random sample\n",
    "coffee_ratings.sample(n=5, random_state=19000113)"
   ]
  },
  {
   "cell_type": "markdown",
   "metadata": {},
   "source": [
    "##### Systematic sampling"
   ]
  },
  {
   "cell_type": "markdown",
   "metadata": {},
   "source": [
    "This samples the population at regular intervals. Here, looking from top to bottom and left to right  \n",
    "within each row, every fifth coffee is sampled."
   ]
  },
  {
   "cell_type": "markdown",
   "metadata": {},
   "source": [
    "<img src=\"images/screenshot-02.png\" width=80%/>"
   ]
  },
  {
   "cell_type": "markdown",
   "metadata": {},
   "source": [
    "##### Systematic sampling -defining the interval"
   ]
  },
  {
   "cell_type": "code",
   "execution_count": 75,
   "metadata": {},
   "outputs": [
    {
     "name": "stdout",
     "output_type": "stream",
     "text": [
      "1338\n"
     ]
    }
   ],
   "source": [
    "# Set the sample size\n",
    "sample_size = 5\n",
    "\n",
    "# Find the number of rows in the dataset\n",
    "pop_size = len(coffee_ratings) \n",
    "print(pop_size)"
   ]
  },
  {
   "cell_type": "code",
   "execution_count": 76,
   "metadata": {},
   "outputs": [
    {
     "name": "stdout",
     "output_type": "stream",
     "text": [
      "267\n"
     ]
    }
   ],
   "source": [
    "# Set the interval\n",
    "interval = pop_size // sample_size  # integer division with // discards any fractional part\n",
    "print(interval)"
   ]
  },
  {
   "cell_type": "markdown",
   "metadata": {},
   "source": [
    "Thus, to get a systematic sample of five coffees, we will select every 267th coffee in the dataset."
   ]
  },
  {
   "cell_type": "markdown",
   "metadata": {},
   "source": [
    "##### Systematic sampling - selecting the rows"
   ]
  },
  {
   "cell_type": "code",
   "execution_count": 77,
   "metadata": {},
   "outputs": [
    {
     "data": {
      "text/html": [
       "<div>\n",
       "<style scoped>\n",
       "    .dataframe tbody tr th:only-of-type {\n",
       "        vertical-align: middle;\n",
       "    }\n",
       "\n",
       "    .dataframe tbody tr th {\n",
       "        vertical-align: top;\n",
       "    }\n",
       "\n",
       "    .dataframe thead th {\n",
       "        text-align: right;\n",
       "    }\n",
       "</style>\n",
       "<table border=\"1\" class=\"dataframe\">\n",
       "  <thead>\n",
       "    <tr style=\"text-align: right;\">\n",
       "      <th></th>\n",
       "      <th>total_cup_points</th>\n",
       "      <th>variety</th>\n",
       "      <th>country_of_origin</th>\n",
       "      <th>aroma</th>\n",
       "      <th>flavor</th>\n",
       "      <th>aftertaste</th>\n",
       "      <th>body</th>\n",
       "      <th>balance</th>\n",
       "    </tr>\n",
       "  </thead>\n",
       "  <tbody>\n",
       "    <tr>\n",
       "      <th>0</th>\n",
       "      <td>90.58</td>\n",
       "      <td>None</td>\n",
       "      <td>Ethiopia</td>\n",
       "      <td>8.67</td>\n",
       "      <td>8.83</td>\n",
       "      <td>8.67</td>\n",
       "      <td>8.50</td>\n",
       "      <td>8.42</td>\n",
       "    </tr>\n",
       "    <tr>\n",
       "      <th>267</th>\n",
       "      <td>83.92</td>\n",
       "      <td>None</td>\n",
       "      <td>Colombia</td>\n",
       "      <td>7.83</td>\n",
       "      <td>7.75</td>\n",
       "      <td>7.58</td>\n",
       "      <td>7.75</td>\n",
       "      <td>7.75</td>\n",
       "    </tr>\n",
       "    <tr>\n",
       "      <th>534</th>\n",
       "      <td>82.92</td>\n",
       "      <td>Bourbon</td>\n",
       "      <td>El Salvador</td>\n",
       "      <td>7.50</td>\n",
       "      <td>7.50</td>\n",
       "      <td>7.75</td>\n",
       "      <td>7.92</td>\n",
       "      <td>7.83</td>\n",
       "    </tr>\n",
       "    <tr>\n",
       "      <th>801</th>\n",
       "      <td>82.00</td>\n",
       "      <td>Typica</td>\n",
       "      <td>Taiwan</td>\n",
       "      <td>7.33</td>\n",
       "      <td>7.50</td>\n",
       "      <td>7.17</td>\n",
       "      <td>7.50</td>\n",
       "      <td>7.33</td>\n",
       "    </tr>\n",
       "    <tr>\n",
       "      <th>1068</th>\n",
       "      <td>80.50</td>\n",
       "      <td>Other</td>\n",
       "      <td>Taiwan</td>\n",
       "      <td>7.17</td>\n",
       "      <td>7.17</td>\n",
       "      <td>7.17</td>\n",
       "      <td>7.17</td>\n",
       "      <td>7.25</td>\n",
       "    </tr>\n",
       "    <tr>\n",
       "      <th>1335</th>\n",
       "      <td>77.17</td>\n",
       "      <td>None</td>\n",
       "      <td>United States</td>\n",
       "      <td>7.33</td>\n",
       "      <td>7.33</td>\n",
       "      <td>7.17</td>\n",
       "      <td>7.50</td>\n",
       "      <td>7.17</td>\n",
       "    </tr>\n",
       "  </tbody>\n",
       "</table>\n",
       "</div>"
      ],
      "text/plain": [
       "      total_cup_points  variety country_of_origin  aroma  flavor  aftertaste  \\\n",
       "0                90.58     None          Ethiopia   8.67    8.83        8.67   \n",
       "267              83.92     None          Colombia   7.83    7.75        7.58   \n",
       "534              82.92  Bourbon       El Salvador   7.50    7.50        7.75   \n",
       "801              82.00   Typica            Taiwan   7.33    7.50        7.17   \n",
       "1068             80.50    Other            Taiwan   7.17    7.17        7.17   \n",
       "1335             77.17     None     United States   7.33    7.33        7.17   \n",
       "\n",
       "      body  balance  \n",
       "0     8.50     8.42  \n",
       "267   7.75     7.75  \n",
       "534   7.92     7.83  \n",
       "801   7.50     7.33  \n",
       "1068  7.17     7.25  \n",
       "1335  7.50     7.17  "
      ]
     },
     "execution_count": 77,
     "metadata": {},
     "output_type": "execute_result"
    }
   ],
   "source": [
    "# The double-colon tells pandas to select every 267th row \n",
    "# from zero to the end of the DataFrame\n",
    "coffee_ratings.iloc[::interval]  "
   ]
  },
  {
   "cell_type": "markdown",
   "metadata": {},
   "source": [
    "##### The trouble with systematic sampling"
   ]
  },
  {
   "cell_type": "markdown",
   "metadata": {},
   "source": [
    "To examine statistics about the aftertaste attribute of the coffees:"
   ]
  },
  {
   "cell_type": "code",
   "execution_count": 78,
   "metadata": {},
   "outputs": [
    {
     "data": {
      "text/html": [
       "<div>\n",
       "<style scoped>\n",
       "    .dataframe tbody tr th:only-of-type {\n",
       "        vertical-align: middle;\n",
       "    }\n",
       "\n",
       "    .dataframe tbody tr th {\n",
       "        vertical-align: top;\n",
       "    }\n",
       "\n",
       "    .dataframe thead th {\n",
       "        text-align: right;\n",
       "    }\n",
       "</style>\n",
       "<table border=\"1\" class=\"dataframe\">\n",
       "  <thead>\n",
       "    <tr style=\"text-align: right;\">\n",
       "      <th></th>\n",
       "      <th>index</th>\n",
       "      <th>total_cup_points</th>\n",
       "      <th>variety</th>\n",
       "      <th>country_of_origin</th>\n",
       "      <th>aroma</th>\n",
       "      <th>flavor</th>\n",
       "      <th>aftertaste</th>\n",
       "      <th>body</th>\n",
       "      <th>balance</th>\n",
       "    </tr>\n",
       "  </thead>\n",
       "  <tbody>\n",
       "    <tr>\n",
       "      <th>0</th>\n",
       "      <td>0</td>\n",
       "      <td>90.58</td>\n",
       "      <td>None</td>\n",
       "      <td>Ethiopia</td>\n",
       "      <td>8.67</td>\n",
       "      <td>8.83</td>\n",
       "      <td>8.67</td>\n",
       "      <td>8.50</td>\n",
       "      <td>8.42</td>\n",
       "    </tr>\n",
       "    <tr>\n",
       "      <th>1</th>\n",
       "      <td>1</td>\n",
       "      <td>89.92</td>\n",
       "      <td>Other</td>\n",
       "      <td>Ethiopia</td>\n",
       "      <td>8.75</td>\n",
       "      <td>8.67</td>\n",
       "      <td>8.50</td>\n",
       "      <td>8.42</td>\n",
       "      <td>8.42</td>\n",
       "    </tr>\n",
       "    <tr>\n",
       "      <th>2</th>\n",
       "      <td>2</td>\n",
       "      <td>89.75</td>\n",
       "      <td>Bourbon</td>\n",
       "      <td>Guatemala</td>\n",
       "      <td>8.42</td>\n",
       "      <td>8.50</td>\n",
       "      <td>8.42</td>\n",
       "      <td>8.33</td>\n",
       "      <td>8.42</td>\n",
       "    </tr>\n",
       "    <tr>\n",
       "      <th>3</th>\n",
       "      <td>3</td>\n",
       "      <td>89.00</td>\n",
       "      <td>None</td>\n",
       "      <td>Ethiopia</td>\n",
       "      <td>8.17</td>\n",
       "      <td>8.58</td>\n",
       "      <td>8.42</td>\n",
       "      <td>8.50</td>\n",
       "      <td>8.25</td>\n",
       "    </tr>\n",
       "    <tr>\n",
       "      <th>4</th>\n",
       "      <td>4</td>\n",
       "      <td>88.83</td>\n",
       "      <td>Other</td>\n",
       "      <td>Ethiopia</td>\n",
       "      <td>8.25</td>\n",
       "      <td>8.50</td>\n",
       "      <td>8.25</td>\n",
       "      <td>8.42</td>\n",
       "      <td>8.33</td>\n",
       "    </tr>\n",
       "  </tbody>\n",
       "</table>\n",
       "</div>"
      ],
      "text/plain": [
       "   index  total_cup_points  variety country_of_origin  aroma  flavor  \\\n",
       "0      0             90.58     None          Ethiopia   8.67    8.83   \n",
       "1      1             89.92    Other          Ethiopia   8.75    8.67   \n",
       "2      2             89.75  Bourbon         Guatemala   8.42    8.50   \n",
       "3      3             89.00     None          Ethiopia   8.17    8.58   \n",
       "4      4             88.83    Other          Ethiopia   8.25    8.50   \n",
       "\n",
       "   aftertaste  body  balance  \n",
       "0        8.67  8.50     8.42  \n",
       "1        8.50  8.42     8.42  \n",
       "2        8.42  8.33     8.42  \n",
       "3        8.42  8.50     8.25  \n",
       "4        8.25  8.42     8.33  "
      ]
     },
     "execution_count": 78,
     "metadata": {},
     "output_type": "execute_result"
    }
   ],
   "source": [
    "# First create a column of index values that we can plot\n",
    "coffee_ratings_with_id = coffee_ratings.reset_index()\n",
    "coffee_ratings_with_id.head()"
   ]
  },
  {
   "cell_type": "code",
   "execution_count": 79,
   "metadata": {},
   "outputs": [
    {
     "data": {
      "image/png": "[encoded data removed]",
      "text/plain": [
       "<Figure size 640x480 with 1 Axes>"
      ]
     },
     "metadata": {},
     "output_type": "display_data"
    }
   ],
   "source": [
    "# Create a scatter plot \n",
    "coffee_ratings_with_id.plot(x='index', y='aftertaste', kind='scatter')\n",
    "plt.show()"
   ]
  },
  {
   "cell_type": "markdown",
   "metadata": {},
   "source": [
    "Plotting aftertaste against index shows a pattern. Earlier rows generally have higher aftertaste scores  \n",
    "than later rows. This introduces bias into the statistics that we calculate.  \n",
    "\n",
    "In general, it is only safe to use systematic sampling if a plot like this has no pattern; that is, it  \n",
    "just looks like noise."
   ]
  },
  {
   "cell_type": "markdown",
   "metadata": {},
   "source": [
    "##### Making systematic sampling safe"
   ]
  },
  {
   "cell_type": "markdown",
   "metadata": {},
   "source": [
    "To ensure that systematic sampling is safe, we can randomize the row order before sampling. The `frac`  \n",
    "argument lets us specify the proportion of the dataset to return in the sample, rather than the absolute  \n",
    "number of rows that `n` specifies.\n",
    "\n",
    "Setting `frac=1` randomly samples the whole dataset. In effect, this randomly shuffles the rows.\n",
    "\n",
    "Next, the indices need to be reset so that they go in order from zero again. Specifying `drop=True`  \n",
    "clears the previous row indices, and chaining to another `reset_index` call creates a column containing  \n",
    "these new indexes."
   ]
  },
  {
   "cell_type": "code",
   "execution_count": 80,
   "metadata": {},
   "outputs": [
    {
     "data": {
      "text/html": [
       "<div>\n",
       "<style scoped>\n",
       "    .dataframe tbody tr th:only-of-type {\n",
       "        vertical-align: middle;\n",
       "    }\n",
       "\n",
       "    .dataframe tbody tr th {\n",
       "        vertical-align: top;\n",
       "    }\n",
       "\n",
       "    .dataframe thead th {\n",
       "        text-align: right;\n",
       "    }\n",
       "</style>\n",
       "<table border=\"1\" class=\"dataframe\">\n",
       "  <thead>\n",
       "    <tr style=\"text-align: right;\">\n",
       "      <th></th>\n",
       "      <th>index</th>\n",
       "      <th>total_cup_points</th>\n",
       "      <th>variety</th>\n",
       "      <th>country_of_origin</th>\n",
       "      <th>aroma</th>\n",
       "      <th>flavor</th>\n",
       "      <th>aftertaste</th>\n",
       "      <th>body</th>\n",
       "      <th>balance</th>\n",
       "    </tr>\n",
       "  </thead>\n",
       "  <tbody>\n",
       "    <tr>\n",
       "      <th>0</th>\n",
       "      <td>0</td>\n",
       "      <td>84.25</td>\n",
       "      <td>Caturra</td>\n",
       "      <td>Colombia</td>\n",
       "      <td>7.83</td>\n",
       "      <td>7.58</td>\n",
       "      <td>7.75</td>\n",
       "      <td>7.67</td>\n",
       "      <td>8.00</td>\n",
       "    </tr>\n",
       "    <tr>\n",
       "      <th>1</th>\n",
       "      <td>1</td>\n",
       "      <td>84.17</td>\n",
       "      <td>Bourbon</td>\n",
       "      <td>El Salvador</td>\n",
       "      <td>8.42</td>\n",
       "      <td>8.08</td>\n",
       "      <td>7.50</td>\n",
       "      <td>7.58</td>\n",
       "      <td>8.17</td>\n",
       "    </tr>\n",
       "    <tr>\n",
       "      <th>2</th>\n",
       "      <td>2</td>\n",
       "      <td>84.58</td>\n",
       "      <td>Bourbon</td>\n",
       "      <td>Brazil</td>\n",
       "      <td>8.00</td>\n",
       "      <td>8.00</td>\n",
       "      <td>7.75</td>\n",
       "      <td>7.58</td>\n",
       "      <td>7.75</td>\n",
       "    </tr>\n",
       "    <tr>\n",
       "      <th>3</th>\n",
       "      <td>3</td>\n",
       "      <td>82.75</td>\n",
       "      <td>Typica</td>\n",
       "      <td>Colombia</td>\n",
       "      <td>7.67</td>\n",
       "      <td>7.42</td>\n",
       "      <td>7.42</td>\n",
       "      <td>7.33</td>\n",
       "      <td>7.67</td>\n",
       "    </tr>\n",
       "    <tr>\n",
       "      <th>4</th>\n",
       "      <td>4</td>\n",
       "      <td>85.00</td>\n",
       "      <td>None</td>\n",
       "      <td>Kenya</td>\n",
       "      <td>8.17</td>\n",
       "      <td>7.83</td>\n",
       "      <td>7.92</td>\n",
       "      <td>7.67</td>\n",
       "      <td>7.83</td>\n",
       "    </tr>\n",
       "  </tbody>\n",
       "</table>\n",
       "</div>"
      ],
      "text/plain": [
       "   index  total_cup_points  variety country_of_origin  aroma  flavor  \\\n",
       "0      0             84.25  Caturra          Colombia   7.83    7.58   \n",
       "1      1             84.17  Bourbon       El Salvador   8.42    8.08   \n",
       "2      2             84.58  Bourbon            Brazil   8.00    8.00   \n",
       "3      3             82.75   Typica          Colombia   7.67    7.42   \n",
       "4      4             85.00     None             Kenya   8.17    7.83   \n",
       "\n",
       "   aftertaste  body  balance  \n",
       "0        7.75  7.67     8.00  \n",
       "1        7.50  7.58     8.17  \n",
       "2        7.75  7.58     7.75  \n",
       "3        7.42  7.33     7.67  \n",
       "4        7.92  7.67     7.83  "
      ]
     },
     "execution_count": 80,
     "metadata": {},
     "output_type": "execute_result"
    }
   ],
   "source": [
    "# Randomly shuffle the rows in the dataset\n",
    "shuffled = coffee_ratings.sample(frac=1)\n",
    "\n",
    "# Create a new index column\n",
    "shuffled = shuffled.reset_index(drop=True).reset_index()\n",
    "shuffled.head()"
   ]
  },
  {
   "cell_type": "code",
   "execution_count": 81,
   "metadata": {},
   "outputs": [
    {
     "data": {
      "image/png": "[encoded data removed]",
      "text/plain": [
       "<Figure size 640x480 with 1 Axes>"
      ]
     },
     "metadata": {},
     "output_type": "display_data"
    }
   ],
   "source": [
    "# Redraw the plot with the shuffled dataset\n",
    "shuffled.plot(x='index', y='aftertaste', kind='scatter')\n",
    "plt.show()"
   ]
  },
  {
   "cell_type": "markdown",
   "metadata": {},
   "source": [
    "There is now no pattern between aftertaste and index.  \n",
    "\n",
    "**Note:** Shuffling rows + systematic sampling is the same as simple random sampling."
   ]
  },
  {
   "cell_type": "markdown",
   "metadata": {},
   "source": [
    "#### Stratified and weighted random sampling"
   ]
  },
  {
   "cell_type": "markdown",
   "metadata": {},
   "source": [
    "Stratified sampling is a technique that allows us to sample a population that contains subgroups."
   ]
  },
  {
   "cell_type": "markdown",
   "metadata": {},
   "source": [
    "##### Coffees by country"
   ]
  },
  {
   "cell_type": "markdown",
   "metadata": {},
   "source": [
    "For example, we could group the coffee ratings by country.\n",
    "  \n",
    "Six countries have the most data."
   ]
  },
  {
   "cell_type": "code",
   "execution_count": 82,
   "metadata": {},
   "outputs": [
    {
     "data": {
      "text/plain": [
       "country_of_origin\n",
       "Mexico                    236\n",
       "Colombia                  183\n",
       "Guatemala                 181\n",
       "Brazil                    132\n",
       "Taiwan                     75\n",
       "United States (Hawaii)     73\n",
       "Name: count, dtype: int64"
      ]
     },
     "execution_count": 82,
     "metadata": {},
     "output_type": "execute_result"
    }
   ],
   "source": [
    "# Group coffee_ratings by country\n",
    "top_counts = coffee_ratings['country_of_origin'].value_counts()\n",
    "top_counts.head(6)"
   ]
  },
  {
   "cell_type": "markdown",
   "metadata": {},
   "source": [
    "##### Filter for 6 countries"
   ]
  },
  {
   "cell_type": "markdown",
   "metadata": {},
   "source": [
    "To make it easier to think about sampling subgroups, we limit our analysis to these six countries.\n",
    "\n",
    "The filtered dataset is stored as coffee_ratings_top"
   ]
  },
  {
   "cell_type": "code",
   "execution_count": 83,
   "metadata": {},
   "outputs": [
    {
     "data": {
      "text/html": [
       "<div>\n",
       "<style scoped>\n",
       "    .dataframe tbody tr th:only-of-type {\n",
       "        vertical-align: middle;\n",
       "    }\n",
       "\n",
       "    .dataframe tbody tr th {\n",
       "        vertical-align: top;\n",
       "    }\n",
       "\n",
       "    .dataframe thead th {\n",
       "        text-align: right;\n",
       "    }\n",
       "</style>\n",
       "<table border=\"1\" class=\"dataframe\">\n",
       "  <thead>\n",
       "    <tr style=\"text-align: right;\">\n",
       "      <th></th>\n",
       "      <th>total_cup_points</th>\n",
       "      <th>variety</th>\n",
       "      <th>country_of_origin</th>\n",
       "      <th>aroma</th>\n",
       "      <th>flavor</th>\n",
       "      <th>aftertaste</th>\n",
       "      <th>body</th>\n",
       "      <th>balance</th>\n",
       "    </tr>\n",
       "  </thead>\n",
       "  <tbody>\n",
       "    <tr>\n",
       "      <th>2</th>\n",
       "      <td>89.75</td>\n",
       "      <td>Bourbon</td>\n",
       "      <td>Guatemala</td>\n",
       "      <td>8.42</td>\n",
       "      <td>8.50</td>\n",
       "      <td>8.42</td>\n",
       "      <td>8.33</td>\n",
       "      <td>8.42</td>\n",
       "    </tr>\n",
       "    <tr>\n",
       "      <th>5</th>\n",
       "      <td>88.83</td>\n",
       "      <td>None</td>\n",
       "      <td>Brazil</td>\n",
       "      <td>8.58</td>\n",
       "      <td>8.42</td>\n",
       "      <td>8.42</td>\n",
       "      <td>8.25</td>\n",
       "      <td>8.33</td>\n",
       "    </tr>\n",
       "    <tr>\n",
       "      <th>13</th>\n",
       "      <td>87.92</td>\n",
       "      <td>None</td>\n",
       "      <td>United States (Hawaii)</td>\n",
       "      <td>8.33</td>\n",
       "      <td>8.42</td>\n",
       "      <td>8.08</td>\n",
       "      <td>8.25</td>\n",
       "      <td>8.00</td>\n",
       "    </tr>\n",
       "    <tr>\n",
       "      <th>22</th>\n",
       "      <td>87.17</td>\n",
       "      <td>Other</td>\n",
       "      <td>Mexico</td>\n",
       "      <td>8.17</td>\n",
       "      <td>8.25</td>\n",
       "      <td>8.17</td>\n",
       "      <td>7.83</td>\n",
       "      <td>8.17</td>\n",
       "    </tr>\n",
       "    <tr>\n",
       "      <th>25</th>\n",
       "      <td>86.92</td>\n",
       "      <td>Bourbon</td>\n",
       "      <td>Brazil</td>\n",
       "      <td>8.50</td>\n",
       "      <td>8.50</td>\n",
       "      <td>8.00</td>\n",
       "      <td>8.00</td>\n",
       "      <td>8.00</td>\n",
       "    </tr>\n",
       "  </tbody>\n",
       "</table>\n",
       "</div>"
      ],
      "text/plain": [
       "    total_cup_points  variety       country_of_origin  aroma  flavor  \\\n",
       "2              89.75  Bourbon               Guatemala   8.42    8.50   \n",
       "5              88.83     None                  Brazil   8.58    8.42   \n",
       "13             87.92     None  United States (Hawaii)   8.33    8.42   \n",
       "22             87.17    Other                  Mexico   8.17    8.25   \n",
       "25             86.92  Bourbon                  Brazil   8.50    8.50   \n",
       "\n",
       "    aftertaste  body  balance  \n",
       "2         8.42  8.33     8.42  \n",
       "5         8.42  8.25     8.33  \n",
       "13        8.08  8.25     8.00  \n",
       "22        8.17  7.83     8.17  \n",
       "25        8.00  8.00     8.00  "
      ]
     },
     "execution_count": 83,
     "metadata": {},
     "output_type": "execute_result"
    }
   ],
   "source": [
    "# Create a list of the six countries\n",
    "top_counted_countries = [\n",
    "    'Mexico', 'Colombia', 'Guatemala', 'Brazil',\n",
    "    'Taiwan', 'United States (Hawaii)'\n",
    "]\n",
    "\n",
    "# Filter coffee_ratings for the list of countries\n",
    "top_counted_subset = coffee_ratings['country_of_origin'].isin(top_counted_countries)\n",
    "coffee_ratings_top = coffee_ratings[top_counted_subset]\n",
    "coffee_ratings_top.head()"
   ]
  },
  {
   "cell_type": "markdown",
   "metadata": {},
   "source": [
    "##### Counts of a simple random sample"
   ]
  },
  {
   "cell_type": "code",
   "execution_count": 84,
   "metadata": {},
   "outputs": [
    {
     "data": {
      "text/plain": [
       "country_of_origin\n",
       "Mexico                    0.250000\n",
       "Guatemala                 0.204545\n",
       "Colombia                  0.181818\n",
       "Brazil                    0.181818\n",
       "United States (Hawaii)    0.102273\n",
       "Taiwan                    0.079545\n",
       "Name: proportion, dtype: float64"
      ]
     },
     "execution_count": 84,
     "metadata": {},
     "output_type": "execute_result"
    }
   ],
   "source": [
    "# Take a 10% simple random sample of the dataset\n",
    "coffee_ratings_samp = coffee_ratings_top.sample(frac=0.1, random_state=2021)\n",
    "\n",
    "# Look at the proportion of counts from each country by setting \n",
    "# normalize=True\n",
    "coffee_ratings_samp['country_of_origin'].value_counts(normalize=True)"
   ]
  },
  {
   "cell_type": "markdown",
   "metadata": {},
   "source": [
    "##### Comparing proportions"
   ]
  },
  {
   "cell_type": "markdown",
   "metadata": {},
   "source": [
    "In this sample, Taiwanese coffees form a disproportionately low percentage. The different makeup of the  \n",
    "sample compared to the population could be a problem if we want to analyze the country of origin,  \n",
    "for example."
   ]
  },
  {
   "cell_type": "markdown",
   "metadata": {},
   "source": [
    "<img src=\"images/screenshot-03.png\" width=80%/>"
   ]
  },
  {
   "cell_type": "markdown",
   "metadata": {},
   "source": [
    "##### Proportional stratified sampling"
   ]
  },
  {
   "cell_type": "markdown",
   "metadata": {},
   "source": [
    "For the proportion of each country in the sample to closely match those in the population, group the data  \n",
    "by country before taking the simple random sample.\n",
    "\n",
    "Calling the `.sample()` method after grouping takes a simple random sample within each country."
   ]
  },
  {
   "cell_type": "code",
   "execution_count": 85,
   "metadata": {},
   "outputs": [
    {
     "data": {
      "text/plain": [
       "country_of_origin\n",
       "Mexico                    0.272727\n",
       "Colombia                  0.204545\n",
       "Guatemala                 0.204545\n",
       "Brazil                    0.147727\n",
       "Taiwan                    0.090909\n",
       "United States (Hawaii)    0.079545\n",
       "Name: proportion, dtype: float64"
      ]
     },
     "execution_count": 85,
     "metadata": {},
     "output_type": "execute_result"
    }
   ],
   "source": [
    "# Croup by country before taking a simple random sample\n",
    "coffee_ratings_strat = coffee_ratings_top.groupby('country_of_origin')\\\n",
    "    .sample(frac=0.1, random_state=2021)\n",
    "\n",
    "# Look at the proportion of counts from each country\n",
    "coffee_ratings_strat['country_of_origin'].value_counts(normalize=True)"
   ]
  },
  {
   "cell_type": "markdown",
   "metadata": {},
   "source": [
    "##### Equal counts stratified sampling"
   ]
  },
  {
   "cell_type": "markdown",
   "metadata": {},
   "source": [
    "One variation of stratified sampling is to sample equal counts from each group, rather than an equal  \n",
    "proportion. The resulting sample has equal proportions of one-sixth from each country."
   ]
  },
  {
   "cell_type": "code",
   "execution_count": 86,
   "metadata": {},
   "outputs": [
    {
     "data": {
      "text/plain": [
       "country_of_origin\n",
       "Brazil                    0.166667\n",
       "Colombia                  0.166667\n",
       "Guatemala                 0.166667\n",
       "Mexico                    0.166667\n",
       "Taiwan                    0.166667\n",
       "United States (Hawaii)    0.166667\n",
       "Name: proportion, dtype: float64"
      ]
     },
     "execution_count": 86,
     "metadata": {},
     "output_type": "execute_result"
    }
   ],
   "source": [
    "# Extract 15 randomly selected rows from each country\n",
    "coffee_ratings_eq = coffee_ratings_top.groupby('country_of_origin')\\\n",
    "    .sample(n=15, random_state=2021)\n",
    "\n",
    "# Look at the proportion of counts from each country\n",
    "coffee_ratings_eq['country_of_origin'].value_counts(normalize=True)"
   ]
  },
  {
   "cell_type": "markdown",
   "metadata": {},
   "source": [
    "##### Weighted random sampling"
   ]
  },
  {
   "cell_type": "markdown",
   "metadata": {},
   "source": [
    "In this variant, we create a column of weights that adjusts the relative probability of sampling each row.\n",
    "\n",
    "For example, to have a higher proportion of Taiwanese coffees in the sample than in the population,  \n",
    "we first create a condition.\n",
    "\n",
    "Next, using the `np.where()` function, set a weight of two for rows that match the condition and a \n",
    "weight of one for rows that don't match the condition. This means Taiwanese coffees have two times the  \n",
    "chance of being picked."
   ]
  },
  {
   "cell_type": "code",
   "execution_count": 87,
   "metadata": {},
   "outputs": [],
   "source": [
    "# Condition to select rows where country_of_origin is Taiwan\n",
    "import numpy as np\n",
    "coffee_ratings_weight = coffee_ratings_top.copy()  # make a copy\n",
    "condition = coffee_ratings_weight['country_of_origin'] == 'Taiwan'\n",
    "\n",
    "# Add a weight column to the dataframe\n",
    "coffee_ratings_weight['weight'] = np.where(condition, 2, 1)\n",
    "\n",
    "# Sample the dataframe passing the weights argument\n",
    "coffee_ratings_weight = coffee_ratings_weight.sample(frac=0.1, weights='weight')"
   ]
  },
  {
   "cell_type": "markdown",
   "metadata": {},
   "source": [
    "##### Weighted random sampling results"
   ]
  },
  {
   "cell_type": "code",
   "execution_count": 88,
   "metadata": {},
   "outputs": [
    {
     "data": {
      "text/plain": [
       "country_of_origin\n",
       "Mexico                    0.250000\n",
       "United States (Hawaii)    0.204545\n",
       "Colombia                  0.193182\n",
       "Guatemala                 0.159091\n",
       "Taiwan                    0.102273\n",
       "Brazil                    0.090909\n",
       "Name: proportion, dtype: float64"
      ]
     },
     "execution_count": 88,
     "metadata": {},
     "output_type": "execute_result"
    }
   ],
   "source": [
    "coffee_ratings_weight['country_of_origin'].value_counts(normalize=True)"
   ]
  },
  {
   "cell_type": "markdown",
   "metadata": {},
   "source": [
    "#### Cluster sampling"
   ]
  },
  {
   "cell_type": "markdown",
   "metadata": {},
   "source": [
    "One problem with stratified sampling is that we need to collect data from every subgroup. In cases where collecting  \n",
    "data is expensive, a cheaper alternative is cluster sampling."
   ]
  },
  {
   "cell_type": "markdown",
   "metadata": {},
   "source": [
    "##### Stratified sampling vs. cluster sampling"
   ]
  },
  {
   "cell_type": "markdown",
   "metadata": {},
   "source": [
    "**Stratified sampling**\n",
    "* Split the population into subgroups\n",
    "* Use simple random sampling on every subgroup\n",
    "\n",
    "**Cluster sampling**\n",
    "* It is a two stage sampling technique\n",
    "    * Stage 1: Use simple random sampling to pick some subgroups\n",
    "    * Stage 2: Use simple random sampling on only those subgroups"
   ]
  },
  {
   "cell_type": "markdown",
   "metadata": {},
   "source": [
    "##### Varieties of coffee"
   ]
  },
  {
   "cell_type": "markdown",
   "metadata": {},
   "source": [
    "Suppose it is expensive to work with all 28 varieties of coffee in the dataset."
   ]
  },
  {
   "cell_type": "code",
   "execution_count": 89,
   "metadata": {},
   "outputs": [],
   "source": [
    "# Extract a list of unique varieties of coffee from the dataset\n",
    "varieties_pop = list(coffee_ratings['variety'].unique())"
   ]
  },
  {
   "cell_type": "markdown",
   "metadata": {},
   "source": [
    "##### Stage 1: sampling for subgroups"
   ]
  },
  {
   "cell_type": "code",
   "execution_count": 90,
   "metadata": {},
   "outputs": [],
   "source": [
    "# Randomly select 3 varieties of coffee\n",
    "\"\"\" Do not run this code again so that varieties_samp, will not change\n",
    "as it affects subsequent computations:\n",
    "\n",
    "import random\n",
    "varieties_samp = random.sample(varieties_pop, k=3)\n",
    "varieties_samp\n",
    "\n",
    "\"\"\"\n",
    "# Hardcode the coffee samples\n",
    "varieties_samp = ['Caturra', 'Bourbon', 'Typica']"
   ]
  },
  {
   "cell_type": "markdown",
   "metadata": {},
   "source": [
    "##### Stage 2: sample each group"
   ]
  },
  {
   "cell_type": "markdown",
   "metadata": {},
   "source": [
    "Perform simple random sampling on each of the three varieties that was randomly selected."
   ]
  },
  {
   "cell_type": "code",
   "execution_count": 91,
   "metadata": {},
   "outputs": [
    {
     "data": {
      "text/plain": [
       "variety\n",
       "Caturra    255\n",
       "Bourbon    226\n",
       "Typica     211\n",
       "Name: count, dtype: int64"
      ]
     },
     "execution_count": 91,
     "metadata": {},
     "output_type": "execute_result"
    }
   ],
   "source": [
    "# Filter the dataset for rows with the selected varieties\n",
    "variety_condition = coffee_ratings['variety'].isin(varieties_samp)\n",
    "coffee_ratings_cluster = coffee_ratings[variety_condition]\n",
    "coffee_ratings_cluster['variety'].value_counts()"
   ]
  },
  {
   "cell_type": "code",
   "execution_count": 92,
   "metadata": {},
   "outputs": [
    {
     "data": {
      "text/html": [
       "<div>\n",
       "<style scoped>\n",
       "    .dataframe tbody tr th:only-of-type {\n",
       "        vertical-align: middle;\n",
       "    }\n",
       "\n",
       "    .dataframe tbody tr th {\n",
       "        vertical-align: top;\n",
       "    }\n",
       "\n",
       "    .dataframe thead th {\n",
       "        text-align: right;\n",
       "    }\n",
       "</style>\n",
       "<table border=\"1\" class=\"dataframe\">\n",
       "  <thead>\n",
       "    <tr style=\"text-align: right;\">\n",
       "      <th></th>\n",
       "      <th>total_cup_points</th>\n",
       "      <th>variety</th>\n",
       "      <th>country_of_origin</th>\n",
       "      <th>aroma</th>\n",
       "      <th>flavor</th>\n",
       "      <th>aftertaste</th>\n",
       "      <th>body</th>\n",
       "      <th>balance</th>\n",
       "    </tr>\n",
       "  </thead>\n",
       "  <tbody>\n",
       "    <tr>\n",
       "      <th>575</th>\n",
       "      <td>82.83</td>\n",
       "      <td>Bourbon</td>\n",
       "      <td>Guatemala</td>\n",
       "      <td>7.67</td>\n",
       "      <td>7.67</td>\n",
       "      <td>7.33</td>\n",
       "      <td>7.33</td>\n",
       "      <td>7.92</td>\n",
       "    </tr>\n",
       "    <tr>\n",
       "      <th>560</th>\n",
       "      <td>82.83</td>\n",
       "      <td>Bourbon</td>\n",
       "      <td>Guatemala</td>\n",
       "      <td>7.50</td>\n",
       "      <td>7.58</td>\n",
       "      <td>7.33</td>\n",
       "      <td>7.58</td>\n",
       "      <td>7.58</td>\n",
       "    </tr>\n",
       "    <tr>\n",
       "      <th>524</th>\n",
       "      <td>83.00</td>\n",
       "      <td>Bourbon</td>\n",
       "      <td>Guatemala</td>\n",
       "      <td>7.50</td>\n",
       "      <td>7.67</td>\n",
       "      <td>7.50</td>\n",
       "      <td>7.50</td>\n",
       "      <td>7.83</td>\n",
       "    </tr>\n",
       "    <tr>\n",
       "      <th>1140</th>\n",
       "      <td>79.83</td>\n",
       "      <td>Bourbon</td>\n",
       "      <td>Guatemala</td>\n",
       "      <td>7.33</td>\n",
       "      <td>7.25</td>\n",
       "      <td>6.92</td>\n",
       "      <td>7.25</td>\n",
       "      <td>7.33</td>\n",
       "    </tr>\n",
       "    <tr>\n",
       "      <th>318</th>\n",
       "      <td>83.67</td>\n",
       "      <td>Bourbon</td>\n",
       "      <td>Brazil</td>\n",
       "      <td>7.58</td>\n",
       "      <td>7.75</td>\n",
       "      <td>7.58</td>\n",
       "      <td>7.58</td>\n",
       "      <td>7.58</td>\n",
       "    </tr>\n",
       "    <tr>\n",
       "      <th>773</th>\n",
       "      <td>82.17</td>\n",
       "      <td>Caturra</td>\n",
       "      <td>Guatemala</td>\n",
       "      <td>7.25</td>\n",
       "      <td>7.75</td>\n",
       "      <td>7.00</td>\n",
       "      <td>8.17</td>\n",
       "      <td>7.75</td>\n",
       "    </tr>\n",
       "    <tr>\n",
       "      <th>151</th>\n",
       "      <td>84.58</td>\n",
       "      <td>Caturra</td>\n",
       "      <td>Colombia</td>\n",
       "      <td>7.75</td>\n",
       "      <td>7.75</td>\n",
       "      <td>7.83</td>\n",
       "      <td>7.58</td>\n",
       "      <td>8.00</td>\n",
       "    </tr>\n",
       "    <tr>\n",
       "      <th>459</th>\n",
       "      <td>83.17</td>\n",
       "      <td>Caturra</td>\n",
       "      <td>Honduras</td>\n",
       "      <td>7.67</td>\n",
       "      <td>7.67</td>\n",
       "      <td>7.50</td>\n",
       "      <td>7.50</td>\n",
       "      <td>7.67</td>\n",
       "    </tr>\n",
       "    <tr>\n",
       "      <th>525</th>\n",
       "      <td>83.00</td>\n",
       "      <td>Caturra</td>\n",
       "      <td>Colombia</td>\n",
       "      <td>7.67</td>\n",
       "      <td>7.67</td>\n",
       "      <td>7.58</td>\n",
       "      <td>7.67</td>\n",
       "      <td>7.42</td>\n",
       "    </tr>\n",
       "    <tr>\n",
       "      <th>655</th>\n",
       "      <td>82.50</td>\n",
       "      <td>Caturra</td>\n",
       "      <td>Honduras</td>\n",
       "      <td>7.58</td>\n",
       "      <td>7.58</td>\n",
       "      <td>7.33</td>\n",
       "      <td>7.50</td>\n",
       "      <td>7.50</td>\n",
       "    </tr>\n",
       "    <tr>\n",
       "      <th>272</th>\n",
       "      <td>83.92</td>\n",
       "      <td>Typica</td>\n",
       "      <td>Mexico</td>\n",
       "      <td>7.50</td>\n",
       "      <td>7.67</td>\n",
       "      <td>7.58</td>\n",
       "      <td>7.75</td>\n",
       "      <td>7.75</td>\n",
       "    </tr>\n",
       "    <tr>\n",
       "      <th>849</th>\n",
       "      <td>81.83</td>\n",
       "      <td>Typica</td>\n",
       "      <td>Mexico</td>\n",
       "      <td>7.42</td>\n",
       "      <td>7.42</td>\n",
       "      <td>7.25</td>\n",
       "      <td>7.33</td>\n",
       "      <td>7.42</td>\n",
       "    </tr>\n",
       "    <tr>\n",
       "      <th>618</th>\n",
       "      <td>82.67</td>\n",
       "      <td>Typica</td>\n",
       "      <td>Mexico</td>\n",
       "      <td>7.67</td>\n",
       "      <td>7.58</td>\n",
       "      <td>7.42</td>\n",
       "      <td>7.42</td>\n",
       "      <td>7.50</td>\n",
       "    </tr>\n",
       "    <tr>\n",
       "      <th>1083</th>\n",
       "      <td>80.42</td>\n",
       "      <td>Typica</td>\n",
       "      <td>Taiwan</td>\n",
       "      <td>7.25</td>\n",
       "      <td>7.25</td>\n",
       "      <td>7.17</td>\n",
       "      <td>7.25</td>\n",
       "      <td>7.25</td>\n",
       "    </tr>\n",
       "    <tr>\n",
       "      <th>901</th>\n",
       "      <td>81.58</td>\n",
       "      <td>Typica</td>\n",
       "      <td>Taiwan</td>\n",
       "      <td>7.33</td>\n",
       "      <td>7.17</td>\n",
       "      <td>7.08</td>\n",
       "      <td>8.33</td>\n",
       "      <td>8.25</td>\n",
       "    </tr>\n",
       "  </tbody>\n",
       "</table>\n",
       "</div>"
      ],
      "text/plain": [
       "      total_cup_points  variety country_of_origin  aroma  flavor  aftertaste  \\\n",
       "575              82.83  Bourbon         Guatemala   7.67    7.67        7.33   \n",
       "560              82.83  Bourbon         Guatemala   7.50    7.58        7.33   \n",
       "524              83.00  Bourbon         Guatemala   7.50    7.67        7.50   \n",
       "1140             79.83  Bourbon         Guatemala   7.33    7.25        6.92   \n",
       "318              83.67  Bourbon            Brazil   7.58    7.75        7.58   \n",
       "773              82.17  Caturra         Guatemala   7.25    7.75        7.00   \n",
       "151              84.58  Caturra          Colombia   7.75    7.75        7.83   \n",
       "459              83.17  Caturra          Honduras   7.67    7.67        7.50   \n",
       "525              83.00  Caturra          Colombia   7.67    7.67        7.58   \n",
       "655              82.50  Caturra          Honduras   7.58    7.58        7.33   \n",
       "272              83.92   Typica            Mexico   7.50    7.67        7.58   \n",
       "849              81.83   Typica            Mexico   7.42    7.42        7.25   \n",
       "618              82.67   Typica            Mexico   7.67    7.58        7.42   \n",
       "1083             80.42   Typica            Taiwan   7.25    7.25        7.17   \n",
       "901              81.58   Typica            Taiwan   7.33    7.17        7.08   \n",
       "\n",
       "      body  balance  \n",
       "575   7.33     7.92  \n",
       "560   7.58     7.58  \n",
       "524   7.50     7.83  \n",
       "1140  7.25     7.33  \n",
       "318   7.58     7.58  \n",
       "773   8.17     7.75  \n",
       "151   7.58     8.00  \n",
       "459   7.50     7.67  \n",
       "525   7.67     7.42  \n",
       "655   7.50     7.50  \n",
       "272   7.75     7.75  \n",
       "849   7.33     7.42  \n",
       "618   7.42     7.50  \n",
       "1083  7.25     7.25  \n",
       "901   8.33     8.25  "
      ]
     },
     "execution_count": 92,
     "metadata": {},
     "output_type": "execute_result"
    }
   ],
   "source": [
    "# Execute equal counts sampling, with five rows from each remaining variety\n",
    "coffee_ratings_cluster.groupby('variety').sample(n=5, random_state=2021)"
   ]
  },
  {
   "cell_type": "markdown",
   "metadata": {},
   "source": [
    "##### Multistage sampling"
   ]
  },
  {
   "cell_type": "markdown",
   "metadata": {},
   "source": [
    "* Cluster sampling is a special case of multistage sampling\n",
    "* Multistage sampling can have more than 2 stages\n",
    "* For example, countrywide surveys may sample states, counties, cities  \n",
    "and neighborhoods"
   ]
  },
  {
   "cell_type": "markdown",
   "metadata": {},
   "source": [
    "#### Comparing sampling methods"
   ]
  },
  {
   "cell_type": "markdown",
   "metadata": {},
   "source": [
    "##### Review of sampling techniques - setup"
   ]
  },
  {
   "cell_type": "markdown",
   "metadata": {},
   "source": [
    "We will stick to the six countries with the most coffee varieties that we used before."
   ]
  },
  {
   "cell_type": "code",
   "execution_count": 93,
   "metadata": {},
   "outputs": [
    {
     "data": {
      "text/plain": [
       "(880, 8)"
      ]
     },
     "execution_count": 93,
     "metadata": {},
     "output_type": "execute_result"
    }
   ],
   "source": [
    "top_counted_countries = ['Mexico', 'Colombia', 'Guatemala',\n",
    "                         'Brazil', 'Taiwan', 'United States (Hawaii)']\n",
    "\n",
    "subset_condition = coffee_ratings['country_of_origin'].isin(top_counted_countries)\n",
    "coffee_ratings_top = coffee_ratings[subset_condition]\n",
    "\n",
    "# Preview the shape of the dataframe\n",
    "coffee_ratings_top.shape"
   ]
  },
  {
   "cell_type": "markdown",
   "metadata": {},
   "source": [
    "##### Review of simple random sampling"
   ]
  },
  {
   "cell_type": "code",
   "execution_count": 94,
   "metadata": {},
   "outputs": [
    {
     "data": {
      "text/plain": [
       "(293, 8)"
      ]
     },
     "execution_count": 94,
     "metadata": {},
     "output_type": "execute_result"
    }
   ],
   "source": [
    "# Return a simple random sample\n",
    "coffee_ratings_srs = coffee_ratings_top.sample(frac=1/3, random_state=2021)\n",
    "\n",
    "# Preview the shape of the sample\n",
    "coffee_ratings_srs.shape"
   ]
  },
  {
   "cell_type": "markdown",
   "metadata": {},
   "source": [
    "##### Review of stratified sampling"
   ]
  },
  {
   "cell_type": "code",
   "execution_count": 95,
   "metadata": {},
   "outputs": [
    {
     "data": {
      "text/plain": [
       "(293, 8)"
      ]
     },
     "execution_count": 95,
     "metadata": {},
     "output_type": "execute_result"
    }
   ],
   "source": [
    "# Return a stratified sample\n",
    "coffee_ratings_strat = coffee_ratings_top.groupby('country_of_origin')\\\n",
    "    .sample(frac=1/3, random_state=2021)\n",
    "\n",
    "# Preview the shape of the sample\n",
    "coffee_ratings_strat.shape"
   ]
  },
  {
   "cell_type": "markdown",
   "metadata": {},
   "source": [
    "##### Review of cluster sampling"
   ]
  },
  {
   "cell_type": "markdown",
   "metadata": {},
   "source": [
    "In the cluster sample, we use two out of six countries to roughly mimic `frac=1/3` from the other sample types.  \n",
    "Setting `n=1/6` of the total number of rows gives roughly equal sample sizes in each of the two subgroups."
   ]
  },
  {
   "cell_type": "code",
   "execution_count": 96,
   "metadata": {},
   "outputs": [
    {
     "data": {
      "text/plain": [
       "(292, 8)"
      ]
     },
     "execution_count": 96,
     "metadata": {},
     "output_type": "execute_result"
    }
   ],
   "source": [
    "import random\n",
    "random.seed(2026)\n",
    "\n",
    "# Sample 2 out of the 6 countries in the list\n",
    "top_countries_samp = random.sample(top_counted_countries, k=2)\n",
    "\n",
    "# Filter dataframe for rows with the 2 selected country_of_origin\n",
    "top_condition = coffee_ratings_top['country_of_origin'].isin(top_countries_samp)\n",
    "coffee_ratings_cluster = coffee_ratings_top[top_condition]\n",
    "\n",
    "# Return a cluster sample\n",
    "coffee_ratings_clust = coffee_ratings_cluster.groupby('country_of_origin')\\\n",
    "    .sample(n=len(coffee_ratings_top) // 6)\n",
    "\n",
    "# Preview the shape of the sample\n",
    "coffee_ratings_clust.shape"
   ]
  },
  {
   "cell_type": "markdown",
   "metadata": {},
   "source": [
    "##### Calculating mean cup points"
   ]
  },
  {
   "cell_type": "code",
   "execution_count": 97,
   "metadata": {},
   "outputs": [
    {
     "name": "stdout",
     "output_type": "stream",
     "text": [
      "81.94700000000002 81.91331058020478 81.92566552901025 81.26787671232877\n"
     ]
    }
   ],
   "source": [
    "# Calculate the population mean of total cup points\n",
    "pop_mean = coffee_ratings_top['total_cup_points'].mean()\n",
    "\n",
    "# Calculate the sample means\n",
    "srs_mean = coffee_ratings_srs['total_cup_points'].mean()\n",
    "strat_mean = coffee_ratings_strat['total_cup_points'].mean()\n",
    "clust_mean = coffee_ratings_clust['total_cup_points'].mean()\n",
    "\n",
    "print(pop_mean, srs_mean, strat_mean, clust_mean)"
   ]
  },
  {
   "cell_type": "markdown",
   "metadata": {},
   "source": [
    "The simple and stratified means are really close to the population mean. Cluster sampling isn't as close, but that's  \n",
    "typical. Cluster sampling is designed to give an answer that's almost as good while using less data."
   ]
  },
  {
   "cell_type": "markdown",
   "metadata": {},
   "source": [
    "##### Mean cup points by country"
   ]
  },
  {
   "cell_type": "code",
   "execution_count": 98,
   "metadata": {},
   "outputs": [
    {
     "data": {
      "text/plain": [
       "country_of_origin\n",
       "Brazil                    82.405909\n",
       "Colombia                  83.106557\n",
       "Guatemala                 81.846575\n",
       "Mexico                    80.890085\n",
       "Taiwan                    82.001333\n",
       "United States (Hawaii)    81.820411\n",
       "Name: total_cup_points, dtype: float64"
      ]
     },
     "execution_count": 98,
     "metadata": {},
     "output_type": "execute_result"
    }
   ],
   "source": [
    "# Calculate the population mean of total cup points by country\n",
    "coffee_ratings_top.groupby('country_of_origin')\\\n",
    "    ['total_cup_points'].mean()"
   ]
  },
  {
   "cell_type": "code",
   "execution_count": 99,
   "metadata": {},
   "outputs": [
    {
     "data": {
      "text/plain": [
       "country_of_origin\n",
       "Brazil                    82.251875\n",
       "Colombia                  82.961014\n",
       "Guatemala                 81.392917\n",
       "Mexico                    81.152000\n",
       "Taiwan                    81.957391\n",
       "United States (Hawaii)    81.766400\n",
       "Name: total_cup_points, dtype: float64"
      ]
     },
     "execution_count": 99,
     "metadata": {},
     "output_type": "execute_result"
    }
   ],
   "source": [
    "# Calculate the sample means by country using the simple random sample\n",
    "coffee_ratings_srs.groupby('country_of_origin')\\\n",
    "    ['total_cup_points'].mean()\n"
   ]
  },
  {
   "cell_type": "code",
   "execution_count": 100,
   "metadata": {},
   "outputs": [
    {
     "data": {
      "text/plain": [
       "country_of_origin\n",
       "Brazil                    82.499773\n",
       "Colombia                  83.288197\n",
       "Guatemala                 81.727667\n",
       "Mexico                    80.994684\n",
       "Taiwan                    81.846800\n",
       "United States (Hawaii)    81.051667\n",
       "Name: total_cup_points, dtype: float64"
      ]
     },
     "execution_count": 100,
     "metadata": {},
     "output_type": "execute_result"
    }
   ],
   "source": [
    "# Calculate the sample means by country using the stratified sample\n",
    "coffee_ratings_strat.groupby('country_of_origin')\\\n",
    "    ['total_cup_points'].mean()"
   ]
  },
  {
   "cell_type": "code",
   "execution_count": 101,
   "metadata": {},
   "outputs": [
    {
     "data": {
      "text/plain": [
       "country_of_origin\n",
       "Guatemala    81.797808\n",
       "Mexico       80.737945\n",
       "Name: total_cup_points, dtype: float64"
      ]
     },
     "execution_count": 101,
     "metadata": {},
     "output_type": "execute_result"
    }
   ],
   "source": [
    "# Calculate the sample means by country using the cluster sample\n",
    "coffee_ratings_clust.groupby('country_of_origin')\\\n",
    "    ['total_cup_points'].mean()"
   ]
  },
  {
   "cell_type": "markdown",
   "metadata": {},
   "source": [
    "The sample means in each case case are close to the population means. The limitation with cluster sampling it that  \n",
    "we only get the values for the two countries in the sample. If the mean cup points for each country is an important  \n",
    "metric in our analysis, cluster sampling would not be appropriate."
   ]
  },
  {
   "cell_type": "markdown",
   "metadata": {},
   "source": [
    "### Chapter 3: Sampling Distributions"
   ]
  },
  {
   "cell_type": "markdown",
   "metadata": {},
   "source": [
    "Discover how to quantify the accuracy of sample statistics using relative errors, and measure variations in your  \n",
    "estimates by generating sampling distributions."
   ]
  },
  {
   "cell_type": "markdown",
   "metadata": {},
   "source": [
    "#### Relative error of point estimates"
   ]
  },
  {
   "cell_type": "markdown",
   "metadata": {},
   "source": [
    "How does the size of the sample affect the accuracy of the point estimates we calculate."
   ]
  },
  {
   "cell_type": "markdown",
   "metadata": {},
   "source": [
    "##### Sample size is the number of rows"
   ]
  },
  {
   "cell_type": "code",
   "execution_count": 102,
   "metadata": {},
   "outputs": [
    {
     "data": {
      "text/plain": [
       "300"
      ]
     },
     "execution_count": 102,
     "metadata": {},
     "output_type": "execute_result"
    }
   ],
   "source": [
    "len(coffee_ratings.sample(n=300))"
   ]
  },
  {
   "cell_type": "code",
   "execution_count": 103,
   "metadata": {},
   "outputs": [
    {
     "data": {
      "text/plain": [
       "334"
      ]
     },
     "execution_count": 103,
     "metadata": {},
     "output_type": "execute_result"
    }
   ],
   "source": [
    "len(coffee_ratings.sample(frac=0.25))"
   ]
  },
  {
   "cell_type": "markdown",
   "metadata": {},
   "source": [
    "##### Various sample sizes"
   ]
  },
  {
   "cell_type": "code",
   "execution_count": 104,
   "metadata": {},
   "outputs": [
    {
     "data": {
      "text/plain": [
       "82.15120328849028"
      ]
     },
     "execution_count": 104,
     "metadata": {},
     "output_type": "execute_result"
    }
   ],
   "source": [
    "# Calculate the population mean of total_cup_points\n",
    "coffee_ratings['total_cup_points'].mean()"
   ]
  },
  {
   "cell_type": "code",
   "execution_count": 105,
   "metadata": {},
   "outputs": [
    {
     "data": {
      "text/plain": [
       "81.2"
      ]
     },
     "execution_count": 105,
     "metadata": {},
     "output_type": "execute_result"
    }
   ],
   "source": [
    "# Calculate the sample mean of 10 rows\n",
    "coffee_ratings.sample(n=10)['total_cup_points'].mean()"
   ]
  },
  {
   "cell_type": "code",
   "execution_count": 106,
   "metadata": {},
   "outputs": [
    {
     "data": {
      "text/plain": [
       "82.32539999999999"
      ]
     },
     "execution_count": 106,
     "metadata": {},
     "output_type": "execute_result"
    }
   ],
   "source": [
    "# Calculate the sample mean of 100 rows\n",
    "coffee_ratings.sample(n=100)['total_cup_points'].mean()"
   ]
  },
  {
   "cell_type": "code",
   "execution_count": 107,
   "metadata": {},
   "outputs": [
    {
     "data": {
      "text/plain": [
       "82.16815"
      ]
     },
     "execution_count": 107,
     "metadata": {},
     "output_type": "execute_result"
    }
   ],
   "source": [
    "# Calculate the sample mean of 1000 rows\n",
    "coffee_ratings.sample(n=1000)['total_cup_points'].mean()"
   ]
  },
  {
   "cell_type": "markdown",
   "metadata": {},
   "source": [
    "In general, larger sample sizes will return more accurate results."
   ]
  },
  {
   "cell_type": "markdown",
   "metadata": {},
   "source": [
    "##### Relative errors"
   ]
  },
  {
   "cell_type": "markdown",
   "metadata": {},
   "source": [
    "The most common metric for assessing the difference between the population and a sample mean is the   \n",
    "`relative error`.\n",
    "\n",
    "The relative error is the absolute difference between the two means, divided by the population mean."
   ]
  },
  {
   "cell_type": "markdown",
   "metadata": {},
   "source": [
    "`relative_error = abs(population_mean - sample_mean) / population_mean`"
   ]
  },
  {
   "cell_type": "markdown",
   "metadata": {},
   "source": [
    "##### Relative error vs. sample size"
   ]
  },
  {
   "cell_type": "markdown",
   "metadata": {},
   "source": [
    "The line plot of relative error versus sample size shows that the relative error decreases as the sample size  \n",
    "increases."
   ]
  },
  {
   "cell_type": "markdown",
   "metadata": {},
   "source": [
    "<img src=\"images/screenshot-04.png\" width=80%/>"
   ]
  },
  {
   "cell_type": "markdown",
   "metadata": {},
   "source": [
    "#### Creating a sampling distribution"
   ]
  },
  {
   "cell_type": "markdown",
   "metadata": {},
   "source": [
    "##### Same code, different answer"
   ]
  },
  {
   "cell_type": "markdown",
   "metadata": {},
   "source": [
    "This same code to calculate the mean cup points from a simple random sample of thirty coffees will give a slightly  \n",
    "different answer each time."
   ]
  },
  {
   "cell_type": "code",
   "execution_count": 108,
   "metadata": {},
   "outputs": [
    {
     "data": {
      "text/plain": [
       "82.28933333333335"
      ]
     },
     "execution_count": 108,
     "metadata": {},
     "output_type": "execute_result"
    }
   ],
   "source": [
    "# Calculate the sample mean\n",
    "coffee_ratings.sample(n=30)['total_cup_points'].mean()"
   ]
  },
  {
   "cell_type": "markdown",
   "metadata": {},
   "source": [
    "##### Same code, 1000 times"
   ]
  },
  {
   "cell_type": "markdown",
   "metadata": {},
   "source": [
    "Set up a for loop to repeatedly sample 30 coffees from coffee_ratings a total of 1000 times. After each  \n",
    "calculation, the result, also called a replicate, is appended to a list."
   ]
  },
  {
   "cell_type": "code",
   "execution_count": 109,
   "metadata": {},
   "outputs": [
    {
     "name": "stdout",
     "output_type": "stream",
     "text": [
      "[82.47266666666665, 82.48400000000001, 82.55566666666667, 81.17166666666667, 81.778]\n"
     ]
    }
   ],
   "source": [
    "# Initialize an empty list to store the results\n",
    "mean_cup_points_1000 = []\n",
    "\n",
    "for i in range(1000):\n",
    "    mean_cup_points_1000.append(\n",
    "        coffee_ratings.sample(n=30)['total_cup_points'].mean()\n",
    "    )\n",
    "\n",
    "# Preview the list\n",
    "print(mean_cup_points_1000[:5])"
   ]
  },
  {
   "cell_type": "markdown",
   "metadata": {},
   "source": [
    "##### Distribution of sample means for size 30"
   ]
  },
  {
   "cell_type": "markdown",
   "metadata": {},
   "source": [
    "The one thousand sample means form a distribution of sample means, also called a sampling distribution."
   ]
  },
  {
   "cell_type": "code",
   "execution_count": 110,
   "metadata": {},
   "outputs": [
    {
     "data": {
      "image/png": "[encoded data removed]",
      "text/plain": [
       "<Figure size 640x480 with 1 Axes>"
      ]
     },
     "metadata": {},
     "output_type": "display_data"
    }
   ],
   "source": [
    "# Visualize the sampling distribution with a histogram\n",
    "plt.hist(mean_cup_points_1000, bins=30)\n",
    "plt.show()"
   ]
  },
  {
   "cell_type": "markdown",
   "metadata": {},
   "source": [
    "Most of the results lie between 81 and 83 and the distribution follows a bell-shaped curve, like the   \n",
    "normal distribution.\n",
    "\n",
    "Bigger sample sizes give us more accurate results. As shown, by replicating the sampling many times,  \n",
    "we can quantify that accuracy."
   ]
  },
  {
   "cell_type": "markdown",
   "metadata": {},
   "source": [
    "#### Approximate sampling distributions"
   ]
  },
  {
   "cell_type": "markdown",
   "metadata": {},
   "source": [
    "##### 4 dice"
   ]
  },
  {
   "cell_type": "markdown",
   "metadata": {},
   "source": [
    "To generate all possible combinations of rolling four six-sided dice:"
   ]
  },
  {
   "cell_type": "code",
   "execution_count": 111,
   "metadata": {},
   "outputs": [
    {
     "data": {
      "text/html": [
       "<div>\n",
       "<style scoped>\n",
       "    .dataframe tbody tr th:only-of-type {\n",
       "        vertical-align: middle;\n",
       "    }\n",
       "\n",
       "    .dataframe tbody tr th {\n",
       "        vertical-align: top;\n",
       "    }\n",
       "\n",
       "    .dataframe thead th {\n",
       "        text-align: right;\n",
       "    }\n",
       "</style>\n",
       "<table border=\"1\" class=\"dataframe\">\n",
       "  <thead>\n",
       "    <tr style=\"text-align: right;\">\n",
       "      <th></th>\n",
       "      <th>die1</th>\n",
       "      <th>die2</th>\n",
       "      <th>die3</th>\n",
       "      <th>die4</th>\n",
       "    </tr>\n",
       "  </thead>\n",
       "  <tbody>\n",
       "    <tr>\n",
       "      <th>0</th>\n",
       "      <td>1</td>\n",
       "      <td>1</td>\n",
       "      <td>1</td>\n",
       "      <td>1</td>\n",
       "    </tr>\n",
       "    <tr>\n",
       "      <th>1</th>\n",
       "      <td>1</td>\n",
       "      <td>1</td>\n",
       "      <td>1</td>\n",
       "      <td>2</td>\n",
       "    </tr>\n",
       "    <tr>\n",
       "      <th>2</th>\n",
       "      <td>1</td>\n",
       "      <td>1</td>\n",
       "      <td>1</td>\n",
       "      <td>3</td>\n",
       "    </tr>\n",
       "    <tr>\n",
       "      <th>3</th>\n",
       "      <td>1</td>\n",
       "      <td>1</td>\n",
       "      <td>1</td>\n",
       "      <td>4</td>\n",
       "    </tr>\n",
       "    <tr>\n",
       "      <th>4</th>\n",
       "      <td>1</td>\n",
       "      <td>1</td>\n",
       "      <td>1</td>\n",
       "      <td>5</td>\n",
       "    </tr>\n",
       "  </tbody>\n",
       "</table>\n",
       "</div>"
      ],
      "text/plain": [
       "   die1  die2  die3  die4\n",
       "0     1     1     1     1\n",
       "1     1     1     1     2\n",
       "2     1     1     1     3\n",
       "3     1     1     1     4\n",
       "4     1     1     1     5"
      ]
     },
     "execution_count": 111,
     "metadata": {},
     "output_type": "execute_result"
    }
   ],
   "source": [
    "import pandas as pd\n",
    "from itertools import product\n",
    "\n",
    "# Define the values for each die\n",
    "die_values = [1,2,3,4,5,6]\n",
    "\n",
    "# Generate all possible combinations using itertools.product\n",
    "combinations = list(product(die_values, repeat=4))\n",
    "\n",
    "# Create a DataFrame with the combinations\n",
    "dice = pd.DataFrame(combinations, columns=['die1', 'die2', 'die3', 'die4'])\n",
    "dice.head()"
   ]
  },
  {
   "cell_type": "markdown",
   "metadata": {},
   "source": [
    "##### Mean roll"
   ]
  },
  {
   "cell_type": "markdown",
   "metadata": {},
   "source": [
    "Add a column called mean_roll with the mean of the four rolls. mean_roll ranges from 1, when four ones are rolled,  \n",
    "to 6, when four sixes are rolled."
   ]
  },
  {
   "cell_type": "code",
   "execution_count": 112,
   "metadata": {},
   "outputs": [
    {
     "data": {
      "text/html": [
       "<div>\n",
       "<style scoped>\n",
       "    .dataframe tbody tr th:only-of-type {\n",
       "        vertical-align: middle;\n",
       "    }\n",
       "\n",
       "    .dataframe tbody tr th {\n",
       "        vertical-align: top;\n",
       "    }\n",
       "\n",
       "    .dataframe thead th {\n",
       "        text-align: right;\n",
       "    }\n",
       "</style>\n",
       "<table border=\"1\" class=\"dataframe\">\n",
       "  <thead>\n",
       "    <tr style=\"text-align: right;\">\n",
       "      <th></th>\n",
       "      <th>die1</th>\n",
       "      <th>die2</th>\n",
       "      <th>die3</th>\n",
       "      <th>die4</th>\n",
       "      <th>mean_roll</th>\n",
       "    </tr>\n",
       "  </thead>\n",
       "  <tbody>\n",
       "    <tr>\n",
       "      <th>0</th>\n",
       "      <td>1</td>\n",
       "      <td>1</td>\n",
       "      <td>1</td>\n",
       "      <td>1</td>\n",
       "      <td>1.00</td>\n",
       "    </tr>\n",
       "    <tr>\n",
       "      <th>1</th>\n",
       "      <td>1</td>\n",
       "      <td>1</td>\n",
       "      <td>1</td>\n",
       "      <td>2</td>\n",
       "      <td>1.25</td>\n",
       "    </tr>\n",
       "    <tr>\n",
       "      <th>2</th>\n",
       "      <td>1</td>\n",
       "      <td>1</td>\n",
       "      <td>1</td>\n",
       "      <td>3</td>\n",
       "      <td>1.50</td>\n",
       "    </tr>\n",
       "    <tr>\n",
       "      <th>3</th>\n",
       "      <td>1</td>\n",
       "      <td>1</td>\n",
       "      <td>1</td>\n",
       "      <td>4</td>\n",
       "      <td>1.75</td>\n",
       "    </tr>\n",
       "    <tr>\n",
       "      <th>4</th>\n",
       "      <td>1</td>\n",
       "      <td>1</td>\n",
       "      <td>1</td>\n",
       "      <td>5</td>\n",
       "      <td>2.00</td>\n",
       "    </tr>\n",
       "  </tbody>\n",
       "</table>\n",
       "</div>"
      ],
      "text/plain": [
       "   die1  die2  die3  die4  mean_roll\n",
       "0     1     1     1     1       1.00\n",
       "1     1     1     1     2       1.25\n",
       "2     1     1     1     3       1.50\n",
       "3     1     1     1     4       1.75\n",
       "4     1     1     1     5       2.00"
      ]
     },
     "execution_count": 112,
     "metadata": {},
     "output_type": "execute_result"
    }
   ],
   "source": [
    "dice['mean_roll'] = (\n",
    "    dice['die1'] +\n",
    "    dice['die2'] +\n",
    "    dice['die3'] +\n",
    "    dice['die4']\n",
    ") / 4\n",
    "\n",
    "dice.head()"
   ]
  },
  {
   "cell_type": "markdown",
   "metadata": {},
   "source": [
    "##### Exact sampling distribution"
   ]
  },
  {
   "cell_type": "markdown",
   "metadata": {},
   "source": [
    "Since the mean roll takes discrete values instead of continuous values, the best way to see the distribution of  \n",
    "mean_roll is to draw a bar plot."
   ]
  },
  {
   "cell_type": "code",
   "execution_count": 113,
   "metadata": {},
   "outputs": [
    {
     "data": {
      "image/png": "[encoded data removed]",
      "text/plain": [
       "<Figure size 640x480 with 1 Axes>"
      ]
     },
     "metadata": {},
     "output_type": "display_data"
    }
   ],
   "source": [
    "# Convert mean_roll to categorical\n",
    "dice['mean_roll'] = dice['mean_roll'].astype('category')\n",
    "\n",
    "# Plot the counts of each value\n",
    "# sort=False ensures the x-axis ranges from 1 to 6 instead\n",
    "# of sorting the bars by frequency\n",
    "dice['mean_roll'].value_counts(sort=False).plot(kind='bar')\n",
    "plt.show()"
   ]
  },
  {
   "cell_type": "markdown",
   "metadata": {},
   "source": [
    "This is the exact sampling distribution of the mean roll because it contains every single combination of die rolls."
   ]
  },
  {
   "cell_type": "markdown",
   "metadata": {},
   "source": [
    "##### The number of outcomes increases fast"
   ]
  },
  {
   "cell_type": "markdown",
   "metadata": {},
   "source": [
    "If we increase the number of dice in our scenario, the number of possible outcomes increases by a factor of six  \n",
    "each time. With just one hundred dice, the number of outcomes is about the same as the number of atoms in the  \n",
    "universe. \n",
    "\n",
    "It is therefore computationally impossible to calculate the exact sampling distribution and we need to rely on  \n",
    "approximations."
   ]
  },
  {
   "cell_type": "code",
   "execution_count": 114,
   "metadata": {},
   "outputs": [
    {
     "data": {
      "text/html": [
       "<div>\n",
       "<style scoped>\n",
       "    .dataframe tbody tr th:only-of-type {\n",
       "        vertical-align: middle;\n",
       "    }\n",
       "\n",
       "    .dataframe tbody tr th {\n",
       "        vertical-align: top;\n",
       "    }\n",
       "\n",
       "    .dataframe thead th {\n",
       "        text-align: right;\n",
       "    }\n",
       "</style>\n",
       "<table border=\"1\" class=\"dataframe\">\n",
       "  <thead>\n",
       "    <tr style=\"text-align: right;\">\n",
       "      <th></th>\n",
       "      <th>n_dice</th>\n",
       "      <th>n_outcomes</th>\n",
       "    </tr>\n",
       "  </thead>\n",
       "  <tbody>\n",
       "    <tr>\n",
       "      <th>0</th>\n",
       "      <td>1</td>\n",
       "      <td>6</td>\n",
       "    </tr>\n",
       "    <tr>\n",
       "      <th>1</th>\n",
       "      <td>2</td>\n",
       "      <td>36</td>\n",
       "    </tr>\n",
       "    <tr>\n",
       "      <th>2</th>\n",
       "      <td>3</td>\n",
       "      <td>216</td>\n",
       "    </tr>\n",
       "    <tr>\n",
       "      <th>3</th>\n",
       "      <td>4</td>\n",
       "      <td>1296</td>\n",
       "    </tr>\n",
       "    <tr>\n",
       "      <th>4</th>\n",
       "      <td>5</td>\n",
       "      <td>7776</td>\n",
       "    </tr>\n",
       "  </tbody>\n",
       "</table>\n",
       "</div>"
      ],
      "text/plain": [
       "   n_dice n_outcomes\n",
       "0       1          6\n",
       "1       2         36\n",
       "2       3        216\n",
       "3       4       1296\n",
       "4       5       7776"
      ]
     },
     "execution_count": 114,
     "metadata": {},
     "output_type": "execute_result"
    }
   ],
   "source": [
    "n_dice = list(range(1, 101))\n",
    "\n",
    "n_outcomes = []\n",
    "\n",
    "for n in n_dice:\n",
    "    n_outcomes.append(6**n)\n",
    "\n",
    "outcomes = pd.DataFrame(\n",
    "    {'n_dice': n_dice,\n",
    "     'n_outcomes': n_outcomes}\n",
    ")\n",
    "\n",
    "outcomes.head()"
   ]
  },
  {
   "cell_type": "markdown",
   "metadata": {},
   "source": [
    "##### Simulating the mean of four dice rolls"
   ]
  },
  {
   "cell_type": "markdown",
   "metadata": {},
   "source": [
    "Generate a sample mean of four dice rolls using NumPy's `random.choice()` method, specifying `size=4`."
   ]
  },
  {
   "cell_type": "code",
   "execution_count": 115,
   "metadata": {},
   "outputs": [
    {
     "data": {
      "text/plain": [
       "4.0"
      ]
     },
     "execution_count": 115,
     "metadata": {},
     "output_type": "execute_result"
    }
   ],
   "source": [
    "import numpy as np\n",
    "\n",
    "np.random.choice(list(range(1,7)), size=4, replace=True).mean()"
   ]
  },
  {
   "cell_type": "markdown",
   "metadata": {},
   "source": [
    "Then use a for loop to generate lots of sample means:"
   ]
  },
  {
   "cell_type": "code",
   "execution_count": 116,
   "metadata": {},
   "outputs": [
    {
     "name": "stdout",
     "output_type": "stream",
     "text": [
      "[2.25, 3.75, 3.5, 3.75, 4.5]\n"
     ]
    }
   ],
   "source": [
    "# Initialize an empty list\n",
    "sample_means_1000 = []\n",
    "\n",
    "# Create a for loop to generate 1000 simulated sample means\n",
    "for i in range(1000):\n",
    "    sample_means_1000.append(\n",
    "        np.random.choice(list(range(1,7)), size=4, replace=True).mean()\n",
    "    )\n",
    "\n",
    "print(sample_means_1000[:5])"
   ]
  },
  {
   "cell_type": "markdown",
   "metadata": {},
   "source": [
    "##### Approximate sampling distribution"
   ]
  },
  {
   "cell_type": "markdown",
   "metadata": {},
   "source": [
    "The histogram of approximate sampling distribution of mean rolls, uses simulated rather than the exact values.  \n",
    "Usually, we don't have access to the whole population, so we can't calculate the exact sampling distribution.  \n",
    "\n",
    "However, we can feel relatively confident that using an approximation will provide a good guess as to how the  \n",
    "sampling distribution will behave."
   ]
  },
  {
   "cell_type": "code",
   "execution_count": 117,
   "metadata": {},
   "outputs": [
    {
     "data": {
      "image/png": "[encoded data removed]",
      "text/plain": [
       "<Figure size 640x480 with 1 Axes>"
      ]
     },
     "metadata": {},
     "output_type": "display_data"
    }
   ],
   "source": [
    "plt.hist(sample_means_1000, bins=20)\n",
    "plt.show()"
   ]
  },
  {
   "cell_type": "markdown",
   "metadata": {},
   "source": [
    "#### Standard errors and the Central Limit Theorem"
   ]
  },
  {
   "cell_type": "markdown",
   "metadata": {},
   "source": [
    "The Gaussian distribution (also known as the normal distribution) plays an important role in statistics."
   ]
  },
  {
   "cell_type": "markdown",
   "metadata": {},
   "source": [
    "##### Sampling distribution of mean cup points"
   ]
  },
  {
   "cell_type": "markdown",
   "metadata": {},
   "source": [
    "Each histogram shows five thousand replicates, with different sample sizes in each case. Increasing the sample  \n",
    "size results in greater accuracy in our estimates of the population parameter, so the width of the distribution  \n",
    "shrinks as the sample size increases.\n",
    "\n",
    "As the sample size increases, the shape of the curve gets closer and closer to being a normal distribution."
   ]
  },
  {
   "cell_type": "markdown",
   "metadata": {},
   "source": [
    "<img src=\"images/screenshot-05.png\" width=80%/>"
   ]
  },
  {
   "cell_type": "markdown",
   "metadata": {},
   "source": [
    "##### The central limit theorem"
   ]
  },
  {
   "cell_type": "markdown",
   "metadata": {},
   "source": [
    "> Averages of independent samples have approximately **normal distributions**.\n",
    "\n",
    "As the sample size increases, \n",
    "* The distribution of the averages gets *closer to being normally distributed*\n",
    "* The width of the sampling distribution gets *narrower*"
   ]
  },
  {
   "cell_type": "markdown",
   "metadata": {},
   "source": [
    "##### Population & sampling distribution means"
   ]
  },
  {
   "cell_type": "markdown",
   "metadata": {},
   "source": [
    "For each of our four sampling distributions, if we take the mean of our sample means, we can see that we get  \n",
    "values that are very close to the population parameter that the sampling distributions are trying to estimate."
   ]
  },
  {
   "cell_type": "markdown",
   "metadata": {},
   "source": [
    "<img src=\"images/screenshot-06.png\" width=80%/>"
   ]
  },
  {
   "cell_type": "markdown",
   "metadata": {},
   "source": [
    "##### Population & sampling distribution standard deviations"
   ]
  },
  {
   "cell_type": "markdown",
   "metadata": {},
   "source": [
    "The standard deviations of the sample means from each of the sampling distributions, are much smaller than the  \n",
    "population standard deviation, and the standard deviations decrease as the sample size increases.\n",
    "\n",
    "So what are these smaller standard deviation values?"
   ]
  },
  {
   "cell_type": "markdown",
   "metadata": {},
   "source": [
    "<img src=\"images/screenshot-07.png\" width=80%/>"
   ]
  },
  {
   "cell_type": "markdown",
   "metadata": {},
   "source": [
    "##### Population mean over square root sample size"
   ]
  },
  {
   "cell_type": "markdown",
   "metadata": {},
   "source": [
    "Another consequence of the central limit theorem is that if we divide the population standard deviation by the   \n",
    "square root of the sample size, we get an estimate of the standard deviation of the sampling distribution for  \n",
    "that sample size.\n",
    "\n",
    "It isn't exact because of the randomness involved in the sampling process."
   ]
  },
  {
   "cell_type": "markdown",
   "metadata": {},
   "source": [
    "<img src=\"images/screenshot-08.png\" width=80%/>"
   ]
  },
  {
   "cell_type": "markdown",
   "metadata": {},
   "source": [
    "##### Standard error"
   ]
  },
  {
   "cell_type": "markdown",
   "metadata": {},
   "source": [
    "This standard deviation of the sampling distribution has a special name: the *standard error*.\n",
    "\n",
    "It is useful in a variety of contexts, from estimating population standard deviation to setting expectations  \n",
    "on what level of variablity we would expect from the sampling process."
   ]
  },
  {
   "cell_type": "markdown",
   "metadata": {},
   "source": [
    "### Chapter 4: Bootstrap Distributions"
   ]
  },
  {
   "cell_type": "markdown",
   "metadata": {},
   "source": [
    "Deal with resampling to perform bootstrapping and estimate variation in an unknown population.\n",
    "\n",
    "Learn the difference between sampling distributions and bootstrap distributions using resampling."
   ]
  },
  {
   "cell_type": "markdown",
   "metadata": {},
   "source": [
    "#### Introduction to bootstrapping"
   ]
  },
  {
   "cell_type": "markdown",
   "metadata": {},
   "source": [
    "Sampling with replacement is sometimes called resampling."
   ]
  },
  {
   "cell_type": "markdown",
   "metadata": {},
   "source": [
    "##### Why sample with replacement?"
   ]
  },
  {
   "cell_type": "markdown",
   "metadata": {},
   "source": [
    "The coffee_ratings dataset does not include every coffee in the world. To imagine what the whole population is  \n",
    "like, we need to approximate the other coffees that aren't in the dataset.  \n",
    "\n",
    "Each of the coffees in the sample dataset will have properties that are representative of the coffees that we  \n",
    "don't have. Resampling lets us use the existing coffees to approximate those other theoretical coffees."
   ]
  },
  {
   "cell_type": "markdown",
   "metadata": {},
   "source": [
    "##### Coffee data preparation"
   ]
  },
  {
   "cell_type": "code",
   "execution_count": 118,
   "metadata": {},
   "outputs": [
    {
     "data": {
      "text/html": [
       "<div>\n",
       "<style scoped>\n",
       "    .dataframe tbody tr th:only-of-type {\n",
       "        vertical-align: middle;\n",
       "    }\n",
       "\n",
       "    .dataframe tbody tr th {\n",
       "        vertical-align: top;\n",
       "    }\n",
       "\n",
       "    .dataframe thead th {\n",
       "        text-align: right;\n",
       "    }\n",
       "</style>\n",
       "<table border=\"1\" class=\"dataframe\">\n",
       "  <thead>\n",
       "    <tr style=\"text-align: right;\">\n",
       "      <th></th>\n",
       "      <th>variety</th>\n",
       "      <th>country_of_origin</th>\n",
       "      <th>flavor</th>\n",
       "    </tr>\n",
       "  </thead>\n",
       "  <tbody>\n",
       "    <tr>\n",
       "      <th>0</th>\n",
       "      <td>None</td>\n",
       "      <td>Ethiopia</td>\n",
       "      <td>8.83</td>\n",
       "    </tr>\n",
       "    <tr>\n",
       "      <th>1</th>\n",
       "      <td>Other</td>\n",
       "      <td>Ethiopia</td>\n",
       "      <td>8.67</td>\n",
       "    </tr>\n",
       "    <tr>\n",
       "      <th>2</th>\n",
       "      <td>Bourbon</td>\n",
       "      <td>Guatemala</td>\n",
       "      <td>8.50</td>\n",
       "    </tr>\n",
       "    <tr>\n",
       "      <th>3</th>\n",
       "      <td>None</td>\n",
       "      <td>Ethiopia</td>\n",
       "      <td>8.58</td>\n",
       "    </tr>\n",
       "    <tr>\n",
       "      <th>4</th>\n",
       "      <td>Other</td>\n",
       "      <td>Ethiopia</td>\n",
       "      <td>8.50</td>\n",
       "    </tr>\n",
       "  </tbody>\n",
       "</table>\n",
       "</div>"
      ],
      "text/plain": [
       "   variety country_of_origin  flavor\n",
       "0     None          Ethiopia    8.83\n",
       "1    Other          Ethiopia    8.67\n",
       "2  Bourbon         Guatemala    8.50\n",
       "3     None          Ethiopia    8.58\n",
       "4    Other          Ethiopia    8.50"
      ]
     },
     "execution_count": 118,
     "metadata": {},
     "output_type": "execute_result"
    }
   ],
   "source": [
    "# Simplify analysis by focusing on three columns\n",
    "coffee_focus = coffee_ratings[['variety', 'country_of_origin', 'flavor']]\n",
    "coffee_focus.head()"
   ]
  },
  {
   "cell_type": "code",
   "execution_count": 119,
   "metadata": {},
   "outputs": [
    {
     "data": {
      "text/html": [
       "<div>\n",
       "<style scoped>\n",
       "    .dataframe tbody tr th:only-of-type {\n",
       "        vertical-align: middle;\n",
       "    }\n",
       "\n",
       "    .dataframe tbody tr th {\n",
       "        vertical-align: top;\n",
       "    }\n",
       "\n",
       "    .dataframe thead th {\n",
       "        text-align: right;\n",
       "    }\n",
       "</style>\n",
       "<table border=\"1\" class=\"dataframe\">\n",
       "  <thead>\n",
       "    <tr style=\"text-align: right;\">\n",
       "      <th></th>\n",
       "      <th>index</th>\n",
       "      <th>variety</th>\n",
       "      <th>country_of_origin</th>\n",
       "      <th>flavor</th>\n",
       "    </tr>\n",
       "  </thead>\n",
       "  <tbody>\n",
       "    <tr>\n",
       "      <th>0</th>\n",
       "      <td>0</td>\n",
       "      <td>None</td>\n",
       "      <td>Ethiopia</td>\n",
       "      <td>8.83</td>\n",
       "    </tr>\n",
       "    <tr>\n",
       "      <th>1</th>\n",
       "      <td>1</td>\n",
       "      <td>Other</td>\n",
       "      <td>Ethiopia</td>\n",
       "      <td>8.67</td>\n",
       "    </tr>\n",
       "    <tr>\n",
       "      <th>2</th>\n",
       "      <td>2</td>\n",
       "      <td>Bourbon</td>\n",
       "      <td>Guatemala</td>\n",
       "      <td>8.50</td>\n",
       "    </tr>\n",
       "    <tr>\n",
       "      <th>3</th>\n",
       "      <td>3</td>\n",
       "      <td>None</td>\n",
       "      <td>Ethiopia</td>\n",
       "      <td>8.58</td>\n",
       "    </tr>\n",
       "    <tr>\n",
       "      <th>4</th>\n",
       "      <td>4</td>\n",
       "      <td>Other</td>\n",
       "      <td>Ethiopia</td>\n",
       "      <td>8.50</td>\n",
       "    </tr>\n",
       "  </tbody>\n",
       "</table>\n",
       "</div>"
      ],
      "text/plain": [
       "   index  variety country_of_origin  flavor\n",
       "0      0     None          Ethiopia    8.83\n",
       "1      1    Other          Ethiopia    8.67\n",
       "2      2  Bourbon         Guatemala    8.50\n",
       "3      3     None          Ethiopia    8.58\n",
       "4      4    Other          Ethiopia    8.50"
      ]
     },
     "execution_count": 119,
     "metadata": {},
     "output_type": "execute_result"
    }
   ],
   "source": [
    "# To make it easier to see which rows end up in the sample\n",
    "# Call reset_index to add an index column\n",
    "coffee_focus = coffee_focus.reset_index()\n",
    "coffee_focus.head()"
   ]
  },
  {
   "cell_type": "markdown",
   "metadata": {},
   "source": [
    "##### Resampling with .sample()"
   ]
  },
  {
   "cell_type": "code",
   "execution_count": 120,
   "metadata": {},
   "outputs": [],
   "source": [
    "# Setting frac=1 produces a sample of the same size as the original dataset\n",
    "coffee_resamp = coffee_focus.sample(frac=1, replace=True)"
   ]
  },
  {
   "cell_type": "markdown",
   "metadata": {},
   "source": [
    "##### Repeated coffees"
   ]
  },
  {
   "cell_type": "markdown",
   "metadata": {},
   "source": [
    "Counting the values of the index column shows how many times each coffee ended up in the resampled dataset."
   ]
  },
  {
   "cell_type": "code",
   "execution_count": 121,
   "metadata": {},
   "outputs": [
    {
     "data": {
      "text/plain": [
       "index\n",
       "876     5\n",
       "497     5\n",
       "1066    5\n",
       "626     4\n",
       "1315    4\n",
       "       ..\n",
       "1194    1\n",
       "517     1\n",
       "852     1\n",
       "107     1\n",
       "1145    1\n",
       "Name: count, Length: 842, dtype: int64"
      ]
     },
     "execution_count": 121,
     "metadata": {},
     "output_type": "execute_result"
    }
   ],
   "source": [
    "# Count the values of the index column\n",
    "coffee_resamp['index'].value_counts()"
   ]
  },
  {
   "cell_type": "markdown",
   "metadata": {},
   "source": [
    "##### Missing coffees"
   ]
  },
  {
   "cell_type": "markdown",
   "metadata": {},
   "source": [
    "Since some coffees were sampled four or five times, it means that some coffees did not end up in the resample."
   ]
  },
  {
   "cell_type": "code",
   "execution_count": 122,
   "metadata": {},
   "outputs": [
    {
     "name": "stdout",
     "output_type": "stream",
     "text": [
      "842\n"
     ]
    }
   ],
   "source": [
    "# Number of unique coffees in the resample \n",
    "num_unique_coffees = len(coffee_resamp.drop_duplicates(subset='index'))\n",
    "print(num_unique_coffees)"
   ]
  },
  {
   "cell_type": "code",
   "execution_count": 123,
   "metadata": {},
   "outputs": [
    {
     "data": {
      "text/plain": [
       "496"
      ]
     },
     "execution_count": 123,
     "metadata": {},
     "output_type": "execute_result"
    }
   ],
   "source": [
    "# Number of coffees not included in the resample\n",
    "len(coffee_ratings) - num_unique_coffees"
   ]
  },
  {
   "cell_type": "markdown",
   "metadata": {},
   "source": [
    "##### Bootstrapping"
   ]
  },
  {
   "cell_type": "markdown",
   "metadata": {},
   "source": [
    "> The opposite of sampling from a population\n",
    "\n",
    "*Sampling*: treats a dataset as the population  \n",
    "from which to generate a random subset\n",
    "\n",
    "*Bootstrapping*: treats a dataset as a sample  \n",
    "and uses it to build up a theoretical population\n",
    "\n",
    "A use case of bootstrapping is to try to understand the variability due to sampling.  \n",
    "This is important in cases where we aren't able to sample the population multiple times  \n",
    "to create a sampling distribution."
   ]
  },
  {
   "cell_type": "markdown",
   "metadata": {},
   "source": [
    "##### Bootstraping process"
   ]
  },
  {
   "cell_type": "markdown",
   "metadata": {},
   "source": [
    "Follow the three steps of the bootstrapping process to get a  \n",
    "bootstrap distribution:\n",
    "\n",
    "1. Randomly sample with replacement to get a resample the same size  \n",
    "as the original dataset\n",
    "\n",
    "2. Calculate a statistic, such as a mean of one of the columns  \n",
    "**Note:** Bootstrapping also allows for other statistics to be computed\n",
    "\n",
    "3. Repeat steps 1 and 2 many times to get lots of these bootstrap statistics"
   ]
  },
  {
   "cell_type": "markdown",
   "metadata": {},
   "source": [
    "##### Bootstrapping coffee mean flavor"
   ]
  },
  {
   "cell_type": "code",
   "execution_count": 124,
   "metadata": {},
   "outputs": [],
   "source": [
    "import numpy as np\n",
    "\n",
    "# Initialize an empty list\n",
    "mean_flavors_1000 = []\n",
    "\n",
    "# Repeat steps 1 and 2 one thousand times\n",
    "for i in range(1000):\n",
    "    mean_flavors_1000.append(\n",
    "        np.mean(coffee_focus.sample(frac=1, replace=True)['flavor'])\n",
    "    )"
   ]
  },
  {
   "cell_type": "markdown",
   "metadata": {},
   "source": [
    "##### Bootstrap distribution histogram"
   ]
  },
  {
   "cell_type": "code",
   "execution_count": 125,
   "metadata": {},
   "outputs": [
    {
     "data": {
      "image/png": "[encoded data removed]",
      "text/plain": [
       "<Figure size 640x480 with 1 Axes>"
      ]
     },
     "metadata": {},
     "output_type": "display_data"
    }
   ],
   "source": [
    "# Plot a histogram\n",
    "plt.hist(mean_flavors_1000)\n",
    "plt.show()"
   ]
  },
  {
   "cell_type": "markdown",
   "metadata": {},
   "source": [
    "#### Comparing sampling and bootstrap distributions"
   ]
  },
  {
   "cell_type": "markdown",
   "metadata": {},
   "source": [
    "##### Sample, bootstrap distribution, population means"
   ]
  },
  {
   "cell_type": "markdown",
   "metadata": {},
   "source": [
    "<img src=\"images/screenshot-09.png\" width=80%/>"
   ]
  },
  {
   "cell_type": "markdown",
   "metadata": {},
   "source": [
    "##### Interpreting the means"
   ]
  },
  {
   "cell_type": "markdown",
   "metadata": {},
   "source": [
    "In the bootstrap distribution, each value is an estimate of the mean flavor score, and corresponds to one  \n",
    "potential sample mean from the theoretical population. The mean of those means, `7.5133...`, is our best   \n",
    "guess of the population mean. However, this is still different from the true population mean of `7.5260...`"
   ]
  },
  {
   "cell_type": "markdown",
   "metadata": {},
   "source": [
    "Bootstrap distribution mean:\n",
    "* Usually close to the sample mean\n",
    "* May not be a good estimate of the population mean\n",
    "\n",
    "**Bootstrapping cannot correct any potential biases from sampling** due to  \n",
    "differences between the sample and the population."
   ]
  },
  {
   "cell_type": "markdown",
   "metadata": {},
   "source": [
    "##### Sample, bootstrap distribution, population standard deviations"
   ]
  },
  {
   "cell_type": "markdown",
   "metadata": {},
   "source": [
    "<img src=\"images/screenshot-10.png\" width=80%/>"
   ]
  },
  {
   "cell_type": "markdown",
   "metadata": {},
   "source": [
    "One goal of bootstrapping is to quantify what variability we might expect in our sample statistic as we go from  \n",
    "one sample to another. This quantity is called the *standard error* as measured by the standard deviation of  \n",
    "the sampling distribution of that statistic\n",
    "\n",
    "The product of the standard error and the square root of the sample size returns the estimated population  \n",
    "standard deviation.\n",
    "\n",
    "Although bootstrapping is poor at estimating the population mean, it is generally great for estimating the  \n",
    "population standard deviation."
   ]
  },
  {
   "cell_type": "markdown",
   "metadata": {},
   "source": [
    "#### Confidence intervals"
   ]
  },
  {
   "cell_type": "markdown",
   "metadata": {},
   "source": [
    "One way to quantify the sampling distribution and the bootstrap distribution is the idea of \"values within one  \n",
    "standard deviation of the mean\", which gives a good sense of where most of the values in a distribution lie."
   ]
  },
  {
   "cell_type": "markdown",
   "metadata": {},
   "source": [
    "##### Our weather prediction"
   ]
  },
  {
   "cell_type": "markdown",
   "metadata": {},
   "source": [
    "* Point estimate = 8.3<sup>o</sup>C\n",
    "* Since the weather is variable:\n",
    "    * Range of plausible high temperature values = 4.4 to 12.8<sup>o</sup>C\n",
    "* The prediction of 4.4 to 12.8<sup>o</sup>C is a *confidence interval*\n",
    "* Sometimes written as 8.3<sup>o</sup>C (4.4<sup>o</sup>C, 12.8<sup>o</sup>C) or 8.3<sup>o</sup>C [4.4<sup>o</sup>C, 12.8<sup>o</sup>C]"
   ]
  },
  {
   "cell_type": "markdown",
   "metadata": {},
   "source": [
    "##### Bootstrap distribution of mean flavor"
   ]
  },
  {
   "cell_type": "code",
   "execution_count": 126,
   "metadata": {},
   "outputs": [
    {
     "data": {
      "image/png": "[encoded data removed]",
      "text/plain": [
       "<Figure size 640x480 with 1 Axes>"
      ]
     },
     "metadata": {},
     "output_type": "display_data"
    }
   ],
   "source": [
    "# Bootstrap distribution of the mean flavor from the coffee dataset\n",
    "plt.hist(mean_flavors_1000, bins=15)\n",
    "plt.show()"
   ]
  },
  {
   "cell_type": "markdown",
   "metadata": {},
   "source": [
    "##### Mean plus or minus one standard deviation"
   ]
  },
  {
   "cell_type": "code",
   "execution_count": 127,
   "metadata": {},
   "outputs": [],
   "source": [
    "# Mean of the bootstrap distribution of the mean flavor\n",
    "mean_value = np.mean(mean_flavors_1000)"
   ]
  },
  {
   "cell_type": "code",
   "execution_count": 128,
   "metadata": {},
   "outputs": [],
   "source": [
    "# Subtract one standard deviation from the mean\n",
    "lower_bound = np.mean(mean_flavors_1000) - np.std(mean_flavors_1000, ddof=1)"
   ]
  },
  {
   "cell_type": "code",
   "execution_count": 129,
   "metadata": {},
   "outputs": [],
   "source": [
    "# Add one standard deviation to the mean\n",
    "upper_bound = np.mean(mean_flavors_1000) + np.std(mean_flavors_1000, ddof=1)"
   ]
  },
  {
   "cell_type": "code",
   "execution_count": 130,
   "metadata": {},
   "outputs": [
    {
     "data": {
      "image/png": "[encoded data removed]",
      "text/plain": [
       "<Figure size 640x480 with 1 Axes>"
      ]
     },
     "metadata": {},
     "output_type": "display_data"
    }
   ],
   "source": [
    "# Plot a histogram showing the mean and std deviations\n",
    "plt.hist(mean_flavors_1000, bins=15)\n",
    "plt.axvline(mean_value, color='red', linestyle='dashed', linewidth=2)\n",
    "plt.axvline(lower_bound, color='cyan', linestyle='dotted')\n",
    "plt.axvline(upper_bound, color='cyan', linestyle='dotted')\n",
    "\n",
    "plt.show()"
   ]
  },
  {
   "cell_type": "markdown",
   "metadata": {},
   "source": [
    "We see that there are lots of values in the bootstrap distribution outside of the one standard deviation  \n",
    "confidence interval."
   ]
  },
  {
   "cell_type": "markdown",
   "metadata": {},
   "source": [
    "##### Quantile method for confidence intervals"
   ]
  },
  {
   "cell_type": "markdown",
   "metadata": {},
   "source": [
    "To include 95% of the values in the confidence interval, we can use quantiles"
   ]
  },
  {
   "cell_type": "code",
   "execution_count": 131,
   "metadata": {},
   "outputs": [
    {
     "data": {
      "text/plain": [
       "7.50814630044843"
      ]
     },
     "execution_count": 131,
     "metadata": {},
     "output_type": "execute_result"
    }
   ],
   "source": [
    "# Calculate the lower bound of the 95% confidence interval\n",
    "np.quantile(mean_flavors_1000, 0.025)"
   ]
  },
  {
   "cell_type": "code",
   "execution_count": 132,
   "metadata": {},
   "outputs": [
    {
     "data": {
      "text/plain": [
       "7.545651158445441"
      ]
     },
     "execution_count": 132,
     "metadata": {},
     "output_type": "execute_result"
    }
   ],
   "source": [
    "# Calculate the upper bound of the 95% confidence interval\n",
    "np.quantile(mean_flavors_1000, 0.975)"
   ]
  },
  {
   "cell_type": "markdown",
   "metadata": {},
   "source": [
    "##### Inverse cumulative distribution function"
   ]
  },
  {
   "cell_type": "markdown",
   "metadata": {},
   "source": [
    "To understand this method to calculate confidence intervals, we need to be familiar with the normal  \n",
    "distribution's inverse cumulative distribution function."
   ]
  },
  {
   "cell_type": "markdown",
   "metadata": {},
   "source": [
    "##### Standard error method for confidence interval"
   ]
  },
  {
   "cell_type": "markdown",
   "metadata": {},
   "source": [
    "The standard error method for calculating the confidence interval assumes that the bootstrap distribution is   \n",
    "normal. This assumption should hold if the sample size and number of replicates are sufficiently large."
   ]
  },
  {
   "cell_type": "markdown",
   "metadata": {},
   "source": [
    "Steps:\n",
    "1. Calculate the point estimate, which is the mean of the bootstrap distribution\n",
    "\n",
    "2. Calculate the standard error, which is estimated by the standard deviation of  \n",
    "the bootstrap distribution\n",
    "\n",
    "3. Call `norm.ppf()` to get the inverse CDF of the normal distribution"
   ]
  },
  {
   "cell_type": "code",
   "execution_count": 133,
   "metadata": {},
   "outputs": [
    {
     "name": "stdout",
     "output_type": "stream",
     "text": [
      "7.507582123837004 7.54559535000455\n"
     ]
    }
   ],
   "source": [
    "# Calculate the point estimate\n",
    "point_estimate = np.mean(mean_flavors_1000)\n",
    "\n",
    "# Calculate the standard error\n",
    "std_error = np.std(mean_flavors_1000, ddof=1)\n",
    "\n",
    "# Get the inverse CDF\n",
    "from scipy.stats import norm \n",
    "lower = norm.ppf(0.025, loc=point_estimate, scale=std_error)\n",
    "upper = norm.ppf(0.975, loc=point_estimate, scale=std_error)\n",
    "\n",
    "print(lower, upper)"
   ]
  },
  {
   "cell_type": "markdown",
   "metadata": {},
   "source": [
    "<div style=\"text-align: center; font-size: 18px; font-weight: bold; color: #F5DEB3;\">\n",
    "<span>[ End of notebook ]</span>\n",
    "</div>"
   ]
  }
 ],
 "metadata": {
  "kernelspec": {
   "display_name": "Python 3",
   "language": "python",
   "name": "python3"
  },
  "language_info": {
   "codemirror_mode": {
    "name": "ipython",
    "version": 3
   },
   "file_extension": ".py",
   "mimetype": "text/x-python",
   "name": "python",
   "nbconvert_exporter": "python",
   "pygments_lexer": "ipython3",
   "version": "3.12.4"
  }
 },
 "nbformat": 4,
 "nbformat_minor": 2
}
